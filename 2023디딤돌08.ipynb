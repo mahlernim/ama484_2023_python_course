{
  "nbformat": 4,
  "nbformat_minor": 0,
  "metadata": {
    "colab": {
      "provenance": [],
      "authorship_tag": "ABX9TyMhDYMs+Z+A2WR184unIu7k",
      "include_colab_link": true
    },
    "kernelspec": {
      "name": "python3",
      "display_name": "Python 3"
    },
    "language_info": {
      "name": "python"
    }
  },
  "cells": [
    {
      "cell_type": "markdown",
      "metadata": {
        "id": "view-in-github",
        "colab_type": "text"
      },
      "source": [
        "<a href=\"https://colab.research.google.com/github/mahlernim/ama484_2023_python_course/blob/main/2023%EB%94%94%EB%94%A4%EB%8F%8C08.ipynb\" target=\"_parent\"><img src=\"https://colab.research.google.com/assets/colab-badge.svg\" alt=\"Open In Colab\"/></a>"
      ]
    },
    {
      "cell_type": "code",
      "execution_count": null,
      "metadata": {
        "colab": {
          "base_uri": "https://localhost:8080/"
        },
        "id": "-z68ji3kz79R",
        "outputId": "1d14b20d-b269-4f51-fb53-0ff67f50c99d"
      },
      "outputs": [
        {
          "output_type": "stream",
          "name": "stdout",
          "text": [
            "안녕하세요\n",
            "hi\n",
            "좋은 아침!\n"
          ]
        }
      ],
      "source": [
        "# r 옵션을 이용해 읽기 전용으로 열기\n",
        "# read()로 전체 텍스트 읽어오기\n",
        "with open(\"a.txt\", \"r\", encoding=\"utf-8\") as f:\n",
        "  contents = f.read()\n",
        "print(contents)"
      ]
    },
    {
      "cell_type": "code",
      "source": [
        "# splitlines()를 이용해 한 줄 단위의 list로 변환하고 for문 이용\n",
        "lines = contents.splitlines()\n",
        "for i, line in enumerate(lines):\n",
        "  print(f\"{i}: {line}\")"
      ],
      "metadata": {
        "colab": {
          "base_uri": "https://localhost:8080/"
        },
        "id": "3t5wJ1Ko5b64",
        "outputId": "97e4656f-1176-4b86-bac5-7acc9059be38"
      },
      "execution_count": null,
      "outputs": [
        {
          "output_type": "stream",
          "name": "stdout",
          "text": [
            "0: 안녕하세요\n",
            "1: hi\n",
            "2: 좋은 아침!\n"
          ]
        }
      ]
    },
    {
      "cell_type": "code",
      "source": [
        "# list이기 때문에 slicing, indexing 가능\n",
        "lines[1:]"
      ],
      "metadata": {
        "colab": {
          "base_uri": "https://localhost:8080/"
        },
        "id": "7KjvwEHn5yUP",
        "outputId": "afa107c0-afe2-4689-96d0-c905f9c9103a"
      },
      "execution_count": null,
      "outputs": [
        {
          "output_type": "execute_result",
          "data": {
            "text/plain": [
              "['hi', '좋은 아침!']"
            ]
          },
          "metadata": {},
          "execution_count": 5
        }
      ]
    },
    {
      "cell_type": "code",
      "source": [
        "# 구구단 2단을 만들어 w옵션으로 저장\n",
        "text = \"[2단]\\n\"\n",
        "for i in range(1,10):\n",
        "  text += f\"2 x {i} = {2*i}\\n\"\n",
        "with open(\"gugudan.txt\", \"w\", encoding=\"utf-8\") as f:\n",
        "  f.write(text)"
      ],
      "metadata": {
        "id": "Ue95Wv4R5768"
      },
      "execution_count": null,
      "outputs": []
    },
    {
      "cell_type": "code",
      "source": [
        "# 이어붙이는 경우 a옵션을 사용\n",
        "text = \"[3단]\\n\"\n",
        "for i in range(1,10):\n",
        "  text += f\"3 x {i} = {3*i}\\n\"\n",
        "with open(\"gugudan.txt\", \"a\", encoding=\"utf-8\") as f:\n",
        "  f.write(text)"
      ],
      "metadata": {
        "id": "peVFIYyK6xME"
      },
      "execution_count": null,
      "outputs": []
    },
    {
      "cell_type": "code",
      "source": [
        "# 이어붙인 내용을 구분하기 위해 \"-\"*10 와 같은 구분자를 넣으면 유용함\n",
        "text = \"[4단]\\n\"\n",
        "for i in range(1,10):\n",
        "  text += f\"4 x {i} = {4*i}\\n\"\n",
        "with open(\"gugudan.txt\", \"a\", encoding=\"utf-8\") as f:\n",
        "  f.write(\"-\" * 10 + \"\\n\")\n",
        "  f.write(text)"
      ],
      "metadata": {
        "id": "MPKtSJP576r8"
      },
      "execution_count": null,
      "outputs": []
    },
    {
      "cell_type": "code",
      "source": [
        "# 주민번호 끝자리 지울 때 slicing을 이용해 마지막 6자리를 제외한 뒤 별표 6개 이어붙이는 방법\n",
        "with open(\"jumin.txt\", \"r\", encoding=\"utf-8\") as f:\n",
        "  text = f.read()\n",
        "text2 = \"\"\n",
        "for line in text.splitlines():\n",
        "  text2 += line[:-6] + \"*\" * 6 + \"\\n\"\n",
        "with open(\"jumin2.txt\", \"w\", encoding=\"utf-8\") as f:\n",
        "  f.write(text2)"
      ],
      "metadata": {
        "id": "_isLWJwz8LeF"
      },
      "execution_count": null,
      "outputs": []
    },
    {
      "cell_type": "code",
      "source": [
        "# 정규표현식 re.sub()을 이용해 연속 숫자 7개 중 첫 자리는 놔두고 뒤 6자리는 별표로 치환하는 방식\n",
        "with open(\"jumin.txt\", \"r\", encoding=\"utf-8\") as f:\n",
        "  text = f.read()\n",
        "import re\n",
        "text2 = re.sub(\"(\\d)\\d{6}\", \"\\\\1******\", text)\n",
        "with open(\"jumin2.txt\", \"w\", encoding=\"utf-8\") as f:\n",
        "  f.write(text2)"
      ],
      "metadata": {
        "id": "UugEJM6-90nH"
      },
      "execution_count": null,
      "outputs": []
    },
    {
      "cell_type": "code",
      "source": [
        "# 지난 시간 학식 A메뉴 내용을 가져오는 코드 뒤에 menu.txt파일로 저장하는 코드 추가\n",
        "import requests, re\n",
        "url = \"https://www.inje.ac.kr/kor/Template/Bsub_page.asp?Ldir=board/S_Food&Lpage=s_food_view\"\n",
        "r = requests.get(url, verify=False)\n",
        "page = r.text\n",
        "matches = re.findall('<td class=\"tc\">(.+)</td>', page)\n",
        "yoil = \"월화수목금\" #요일을 담은 string\n",
        "string = \"[A메뉴]\\n\"\n",
        "for i in range(0,5):\n",
        "    menu = matches[i].replace(\"<br>\", \" \") #<br> 띄어쓰기로 치환\n",
        "    menu = menu.replace(\"&nbsp;\", \" \") #&nbsp 띄어쓰기로 치환\n",
        "    menu = re.sub(\"<[^>]+>\", \"\", menu) #정규표현식으로 꺾쇠영역 제거\n",
        "    menu = re.sub(\"\\([^)]+\\)\", \"\", menu) #괄호영역 제거\n",
        "    menu = re.sub(\"[+/,]+\", \" \", menu) #더하기 문자 제거\n",
        "    menu = re.sub(\"\\s{2,}\", \" \", menu) #2회이상 공백을 1개로 치환\n",
        "    menu = menu.strip() #앞뒤 공백 제거\n",
        "    string += f'{yoil[i]}: {menu}\\n'\n",
        "\n",
        "with open('menu.txt', 'w', encoding='UTF-8') as f:\n",
        "  f.write(string)\n",
        "\n"
      ],
      "metadata": {
        "colab": {
          "base_uri": "https://localhost:8080/"
        },
        "id": "xRfRixcv_bdF",
        "outputId": "355a4cc7-268d-4e5f-ec02-3cae57332bce"
      },
      "execution_count": null,
      "outputs": [
        {
          "output_type": "stream",
          "name": "stderr",
          "text": [
            "/usr/local/lib/python3.9/dist-packages/urllib3/connectionpool.py:1045: InsecureRequestWarning: Unverified HTTPS request is being made to host 'www.inje.ac.kr'. Adding certificate verification is strongly advised. See: https://urllib3.readthedocs.io/en/1.26.x/advanced-usage.html#ssl-warnings\n",
            "  warnings.warn(\n"
          ]
        }
      ]
    },
    {
      "cell_type": "code",
      "source": [
        "# csv파일 형태로 저장: \"셀1 내용\",\"셀2 내용\",\"셀3 내용\"\n",
        "# 확장자는 csv, 인코딩은 euc-kr로 하면 엑셀에서 바로 열림\n",
        "yoil = \"월화수목금\" #요일을 담은 string\n",
        "string = \"[A메뉴]\\n\"\n",
        "for i in range(0,5):\n",
        "    menu = matches[i].replace(\"<br>\", \" \") #<br> 띄어쓰기로 치환\n",
        "    menu = menu.replace(\"&nbsp;\", \" \") #&nbsp 띄어쓰기로 치환\n",
        "    menu = re.sub(\"<[^>]+>\", \"\", menu) #정규표현식으로 꺾쇠영역 제거\n",
        "    menu = re.sub(\"\\([^)]+\\)\", \"\", menu) #괄호영역 제거\n",
        "    menu = re.sub(\"[+/,]+\", \" \", menu) #더하기 문자 제거\n",
        "    menu = re.sub(\"\\s{2,}\", \" \", menu) #2회이상 공백을 1개로 치환\n",
        "    menu = menu.strip() #앞뒤 공백 제거\n",
        "    string += f'\"{yoil[i]}\",\"{menu}\"\\n' #csv 형태로 작성. 콤마 앞뒤 띄어쓰기 없음\n",
        "# csv 파일로 저장\n",
        "with open(\"menu.csv\", \"w\", encoding=\"euc-kr\") as f:\n",
        "  f.write(string)\n",
        "\n"
      ],
      "metadata": {
        "id": "lq9bw48KAj4b"
      },
      "execution_count": null,
      "outputs": []
    },
    {
      "cell_type": "code",
      "source": [
        "# 필요한 데이터를 re.findall()로 추출한 뒤 활용하기 편한 형태의 웹페이지(html파일)로 저장하는 예시\n",
        "import requests, re\n",
        "# 웹페이지 받아오기\n",
        "url = \"https://www.fcswap.com/game/pokemon-go/\"\n",
        "r = requests.get(url)\n",
        "page = r.text\n",
        "# 친구코드 추출\n",
        "codes = re.findall(r\"<td>(\\d{12})</td>\", page)\n",
        "# html내용 생성\n",
        "html = '<!DOCTYPE HTML>\\n<html>\\n<head>\\n<meta charset=\"UTF-8\">\\n<title>포켓몬고 친구코드</title>\\n</head>\\n<body>'\n",
        "for code in codes:\n",
        "    html += f'<p>{code}<br>'\n",
        "    html += f'<img src=\"https://chart.googleapis.com/chart?chs=250x250&cht=qr&chl={code}&choe=UTF-8\">'\n",
        "    html += '</p>\\n'\n",
        "html += '</body>\\n</html>'\n",
        "# html 파일로 저장\n",
        "with open(\"pokemonfriends.html\", \"w\", encoding=\"utf-8\") as f:\n",
        "  f.write(html)\n",
        "\n"
      ],
      "metadata": {
        "id": "RmcDe9toB8ZE"
      },
      "execution_count": null,
      "outputs": []
    }
  ]
}