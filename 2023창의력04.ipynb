{
  "nbformat": 4,
  "nbformat_minor": 0,
  "metadata": {
    "colab": {
      "provenance": [],
      "authorship_tag": "ABX9TyPNt5CflkqJHIGB45do3F5T",
      "include_colab_link": true
    },
    "kernelspec": {
      "name": "python3",
      "display_name": "Python 3"
    },
    "language_info": {
      "name": "python"
    }
  },
  "cells": [
    {
      "cell_type": "markdown",
      "metadata": {
        "id": "view-in-github",
        "colab_type": "text"
      },
      "source": [
        "<a href=\"https://colab.research.google.com/github/mahlernim/ama484_2023_python_course/blob/main/2023%EC%B0%BD%EC%9D%98%EB%A0%A504.ipynb\" target=\"_parent\"><img src=\"https://colab.research.google.com/assets/colab-badge.svg\" alt=\"Open In Colab\"/></a>"
      ]
    },
    {
      "cell_type": "code",
      "execution_count": null,
      "metadata": {
        "colab": {
          "base_uri": "https://localhost:8080/"
        },
        "id": "DKyrAYL7kuBY",
        "outputId": "bc192565-e04b-4110-9d59-24afb66f81f5"
      },
      "outputs": [
        {
          "output_type": "stream",
          "name": "stdout",
          "text": [
            "Hello!\n",
            "Hello!\n"
          ]
        }
      ],
      "source": [
        "# 함수 정의하고 호출하기기\n",
        "def say_hello():\n",
        "  print(\"Hello!\")\n",
        "\n",
        "say_hello()\n",
        "say_hello()"
      ]
    },
    {
      "cell_type": "code",
      "source": [
        "# 함수 실행, 반환값 할당, 할당된 값 출력력\n",
        "say_hello()\n",
        "a = say_hello()\n",
        "print(a)"
      ],
      "metadata": {
        "colab": {
          "base_uri": "https://localhost:8080/"
        },
        "id": "1w2_gso1u11k",
        "outputId": "384e3653-15a6-46f4-b1ba-882d86bbe205"
      },
      "execution_count": null,
      "outputs": [
        {
          "output_type": "stream",
          "name": "stdout",
          "text": [
            "Hello!\n",
            "Hello!\n",
            "None\n"
          ]
        }
      ]
    },
    {
      "cell_type": "code",
      "source": [
        "# 매개변수 받아서 함수 내에서 출력하기. 반환값은 없음음\n",
        "def say_hello2(name):\n",
        "  print(f\"Hello, {name}!\")\n",
        "say_hello2(\"Sangzin\")\n",
        "say_hello2(\"Gildong\")"
      ],
      "metadata": {
        "colab": {
          "base_uri": "https://localhost:8080/"
        },
        "id": "3pIAdWP6v_x0",
        "outputId": "225d1ba1-9fc6-41a1-9c6f-519182ffc2cc"
      },
      "execution_count": null,
      "outputs": [
        {
          "output_type": "stream",
          "name": "stdout",
          "text": [
            "Hello, Sangzin!\n",
            "Hello, Gildong!\n"
          ]
        }
      ]
    },
    {
      "cell_type": "code",
      "source": [
        "# 매개변수 두 개 받아서 처리하고 반환하기기\n",
        "def gophagi(x, y):\n",
        "  z = x * y\n",
        "  return z\n",
        "print(gophagi(2,3))"
      ],
      "metadata": {
        "colab": {
          "base_uri": "https://localhost:8080/"
        },
        "id": "3phGZFEUwRCp",
        "outputId": "351d552f-abd3-43be-8161-28056b5f20b6"
      },
      "execution_count": null,
      "outputs": [
        {
          "output_type": "stream",
          "name": "stdout",
          "text": [
            "6\n"
          ]
        }
      ]
    },
    {
      "cell_type": "code",
      "source": [
        "# return을 함수를 중간에 중단시키는 용도로 사용하기기\n",
        "def print_if_less_than_ten(x):\n",
        "  if x >= 10:\n",
        "    return\n",
        "  print(x)\n",
        "\n",
        "print_if_less_than_ten(11)"
      ],
      "metadata": {
        "id": "zi_w2iWdwl6d"
      },
      "execution_count": null,
      "outputs": []
    },
    {
      "cell_type": "code",
      "source": [
        "# 연습문제 1-1\n",
        "def welcome(a):\n",
        "  s = f\"환영해, {a}\"\n",
        "  print(s)\n",
        "\n",
        "welcome(\"철수\")\n",
        "welcome(\"바둑이\")\n"
      ],
      "metadata": {
        "colab": {
          "base_uri": "https://localhost:8080/"
        },
        "id": "mzBWNXY-yKt7",
        "outputId": "0de1d460-54bb-4bde-f33e-611055b66fca"
      },
      "execution_count": null,
      "outputs": [
        {
          "output_type": "stream",
          "name": "stdout",
          "text": [
            "환영해, 철수\n",
            "환영해, 바둑이\n"
          ]
        }
      ]
    },
    {
      "cell_type": "code",
      "source": [
        "# 연습문제 1-2\n",
        "def in_both(a, b):\n",
        "  a_set = set(a)\n",
        "  b_set = set(b)\n",
        "  c = a_set & b_set # set로 변환해서 차집합 연산산\n",
        "  return c\n",
        "\n",
        "x = in_both(\"university\", \"highschool\")\n",
        "print(x)"
      ],
      "metadata": {
        "colab": {
          "base_uri": "https://localhost:8080/"
        },
        "id": "JDEu1YEo0ITd",
        "outputId": "d9105955-bc38-4d6b-d9ab-dc7033de3eff"
      },
      "execution_count": null,
      "outputs": [
        {
          "output_type": "stream",
          "name": "stdout",
          "text": [
            "{'i', 's'}\n"
          ]
        }
      ]
    },
    {
      "cell_type": "code",
      "source": [
        "# y에 대해 기본값 지정하기기\n",
        "def gophagi(x, y=1):\n",
        "  return x * y\n",
        "\n",
        "print(gophagi(2))\n",
        "print(gophagi(2, 3))"
      ],
      "metadata": {
        "colab": {
          "base_uri": "https://localhost:8080/"
        },
        "id": "nDuRdPEH0wnv",
        "outputId": "6fd48c4a-f7ad-409e-a880-6df3b0254bb1"
      },
      "execution_count": 2,
      "outputs": [
        {
          "output_type": "stream",
          "name": "stdout",
          "text": [
            "2\n",
            "6\n"
          ]
        }
      ]
    },
    {
      "cell_type": "code",
      "source": [
        "# 매개변수 강제로 지정해서 넘겨주기기\n",
        "def jegop(x, y):\n",
        "  return x ** y\n",
        "print(jegop(2,3))\n",
        "print(jegop(y=2, x=3))"
      ],
      "metadata": {
        "colab": {
          "base_uri": "https://localhost:8080/"
        },
        "id": "H0X6pfEe2ZTW",
        "outputId": "1d5dae72-33d7-474f-9d34-433746664e9b"
      },
      "execution_count": 3,
      "outputs": [
        {
          "output_type": "stream",
          "name": "stdout",
          "text": [
            "8\n",
            "9\n"
          ]
        }
      ]
    },
    {
      "cell_type": "code",
      "source": [
        "# 리스트 매개변수수\n",
        "def get_hapgye(a):\n",
        "  hapgye = 0\n",
        "  for i in a:\n",
        "    print(f\"{i}를 더합니다.\")\n",
        "    hapgye += i\n",
        "  return hapgye\n",
        "\n",
        "x = [1,2,3,4]\n",
        "print(get_hapgye(x))"
      ],
      "metadata": {
        "colab": {
          "base_uri": "https://localhost:8080/"
        },
        "id": "N50mw7N827Lj",
        "outputId": "542c243d-c90c-4352-bbee-e9f2f4bf6ff4"
      },
      "execution_count": null,
      "outputs": [
        {
          "output_type": "stream",
          "name": "stdout",
          "text": [
            "1를 더합니다.\n",
            "2를 더합니다.\n",
            "3를 더합니다.\n",
            "4를 더합니다.\n",
            "10\n"
          ]
        }
      ]
    },
    {
      "cell_type": "code",
      "source": [
        "# 리스트의 요소 개수는 len으로 확인인\n",
        "x = [1,2,3,4]\n",
        "print(len(x))"
      ],
      "metadata": {
        "colab": {
          "base_uri": "https://localhost:8080/"
        },
        "id": "GKNWfkmJ3mKg",
        "outputId": "49f87821-c376-43a6-f778-00180d360046"
      },
      "execution_count": null,
      "outputs": [
        {
          "output_type": "stream",
          "name": "stdout",
          "text": [
            "4\n"
          ]
        }
      ]
    },
    {
      "cell_type": "code",
      "source": [
        "# 연습문제 2-1\n",
        "def welcome(a = \"이름 없는 당신\"):\n",
        "  s = f\"환영해, {a}\"\n",
        "  print(s)\n",
        "\n",
        "def welcome2(a):\n",
        "  if not a:\n",
        "    a = \"이름 없는 당신\"\n",
        "  s = f\"환영해, {a}\"\n",
        "  print(s)\n",
        "\n",
        "welcome2(\"\")\n"
      ],
      "metadata": {
        "colab": {
          "base_uri": "https://localhost:8080/"
        },
        "id": "OugjemnA66Iw",
        "outputId": "4733ca49-58be-4d9a-b73e-ba9fcf197668"
      },
      "execution_count": null,
      "outputs": [
        {
          "output_type": "stream",
          "name": "stdout",
          "text": [
            "환영해, 이름 없는 당신\n"
          ]
        }
      ]
    },
    {
      "cell_type": "code",
      "source": [
        "# 연습문제 2-2\n",
        "def get_avg(a):\n",
        "  hapgye = 0\n",
        "  for i in a:\n",
        "    hapgye += i\n",
        "  avg = hapgye / len(a)\n",
        "  return avg\n",
        "\n",
        "x = [70, 80, 90, 95]\n",
        "print(get_avg(x))"
      ],
      "metadata": {
        "colab": {
          "base_uri": "https://localhost:8080/"
        },
        "id": "_TeKMAK57Xqn",
        "outputId": "b5374a52-b918-4206-d05f-c60e4c20a364"
      },
      "execution_count": null,
      "outputs": [
        {
          "output_type": "stream",
          "name": "stdout",
          "text": [
            "83.75\n"
          ]
        }
      ]
    },
    {
      "cell_type": "code",
      "source": [
        "# 연습문제 2-3 (앞에서 정의한 함수를 가져다가 새 함수 내에서 호출해 사용 가능능)\n",
        "def get_sd(a):\n",
        "  hapgye = 0\n",
        "  for i in a:\n",
        "    hapgye += (i - get_avg(a)) ** 2\n",
        "  sd = (hapgye / len(a)) ** 0.5\n",
        "  return sd\n",
        "\n",
        "x = [70, 80, 90, 95]\n",
        "print(get_sd(x))"
      ],
      "metadata": {
        "colab": {
          "base_uri": "https://localhost:8080/"
        },
        "id": "lf1s8B9G7wBf",
        "outputId": "5279d076-cf71-4cb3-8469-e25db9685e32"
      },
      "execution_count": null,
      "outputs": [
        {
          "output_type": "stream",
          "name": "stdout",
          "text": [
            "9.60143218483576\n"
          ]
        }
      ]
    },
    {
      "cell_type": "code",
      "source": [
        "# 재귀적 호출 예시\n",
        "def countdown(a):\n",
        "  if a == 0:\n",
        "    print(\"발사!\")\n",
        "  else:\n",
        "    print(a)\n",
        "    countdown(a - 1)\n",
        "  print(f\"end of countdown({a})\")\n",
        "\n",
        "countdown(2)"
      ],
      "metadata": {
        "colab": {
          "base_uri": "https://localhost:8080/"
        },
        "id": "hqn2g8Qw9LyZ",
        "outputId": "b33d6e57-db41-403b-e5a3-908681fb2499"
      },
      "execution_count": null,
      "outputs": [
        {
          "output_type": "stream",
          "name": "stdout",
          "text": [
            "2\n",
            "1\n",
            "발사!\n",
            "end of countdown(0)\n",
            "end of countdown(1)\n",
            "end of countdown(2)\n"
          ]
        }
      ]
    },
    {
      "cell_type": "code",
      "source": [
        "# 지역변수는 100이 되지만, 전역변수는 그대로 0\n",
        "def baekwon():\n",
        "  wallet = 100\n",
        "  print(f\"local wallet = {wallet}\")\n",
        "\n",
        "wallet = 0\n",
        "baekwon()\n",
        "print(f\"global wallet = {wallet}\")"
      ],
      "metadata": {
        "colab": {
          "base_uri": "https://localhost:8080/"
        },
        "id": "K7hHQjTr9Zv9",
        "outputId": "a2c13f29-9e84-4def-ad75-993a42edff53"
      },
      "execution_count": null,
      "outputs": [
        {
          "output_type": "stream",
          "name": "stdout",
          "text": [
            "local wallet = 100\n",
            "global wallet = 0\n"
          ]
        }
      ]
    },
    {
      "cell_type": "code",
      "source": [
        "# 지역변수에서 실행 결과를 return해서 전역변수에 할당하는 방식\n",
        "def yongdon(wallet):\n",
        "  wallet += 500\n",
        "  print(f\"Local wallet = {wallet}\")\n",
        "  return wallet\n",
        "\n",
        "wallet = 0\n",
        "wallet = yongdon(wallet)\n",
        "wallet = yongdon(wallet)\n",
        "wallet = yongdon(wallet)\n",
        "print(f\"Global wallet = {wallet}\")"
      ],
      "metadata": {
        "colab": {
          "base_uri": "https://localhost:8080/"
        },
        "id": "wSeFR1O5AQPa",
        "outputId": "ab42ed49-1305-44e1-cbaa-ea301350b8a3"
      },
      "execution_count": null,
      "outputs": [
        {
          "output_type": "stream",
          "name": "stdout",
          "text": [
            "Local wallet = 500\n",
            "Local wallet = 1000\n",
            "Local wallet = 1500\n",
            "Global wallet = 1500\n"
          ]
        }
      ]
    },
    {
      "cell_type": "code",
      "source": [
        "# global 선언으로 baekwon() 함수내에서의 조작이 유효함함\n",
        "def baekwon():\n",
        "  global wallet\n",
        "  wallet = 100\n",
        "  print(f\"local wallet = {wallet}\")\n",
        "\n",
        "wallet = 0\n",
        "print(f\"global wallet = {wallet}\")\n",
        "baekwon()\n",
        "print(f\"global wallet = {wallet}\")"
      ],
      "metadata": {
        "colab": {
          "base_uri": "https://localhost:8080/"
        },
        "id": "PN80qlVaBF4q",
        "outputId": "947a4068-fcdd-4c0c-94b7-8fc235432b73"
      },
      "execution_count": null,
      "outputs": [
        {
          "output_type": "stream",
          "name": "stdout",
          "text": [
            "global wallet = 0\n",
            "local wallet = 100\n",
            "global wallet = 100\n"
          ]
        }
      ]
    },
    {
      "cell_type": "code",
      "source": [],
      "metadata": {
        "id": "cyX2OYRqBQ5a"
      },
      "execution_count": null,
      "outputs": []
    }
  ]
}