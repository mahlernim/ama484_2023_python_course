{
  "nbformat": 4,
  "nbformat_minor": 0,
  "metadata": {
    "colab": {
      "provenance": [],
      "authorship_tag": "ABX9TyNOFxgTwM9LXGCcOUDtXxPW",
      "include_colab_link": true
    },
    "kernelspec": {
      "name": "python3",
      "display_name": "Python 3"
    },
    "language_info": {
      "name": "python"
    }
  },
  "cells": [
    {
      "cell_type": "markdown",
      "metadata": {
        "id": "view-in-github",
        "colab_type": "text"
      },
      "source": [
        "<a href=\"https://colab.research.google.com/github/mahlernim/ama484_2023_python_course/blob/main/2023%EB%94%94%EB%94%A4%EB%8F%8C03.ipynb\" target=\"_parent\"><img src=\"https://colab.research.google.com/assets/colab-badge.svg\" alt=\"Open In Colab\"/></a>"
      ]
    },
    {
      "cell_type": "code",
      "execution_count": null,
      "metadata": {
        "colab": {
          "base_uri": "https://localhost:8080/"
        },
        "id": "_wUuxOXIqVYq",
        "outputId": "57f1ad65-a347-41bd-9ed5-698172b5d325"
      },
      "outputs": [
        {
          "output_type": "stream",
          "name": "stdout",
          "text": [
            "페북\n",
            "인스타\n",
            "밴드\n",
            "카스\n",
            "4\n"
          ]
        }
      ],
      "source": [
        "# while을 이용한 반복. i만 바꿔가며 4회 반복하기기\n",
        "social = ['페북', '인스타', '밴드', '카스']\n",
        "i = 0\n",
        "while i <= 3:\n",
        "  print(social[i])\n",
        "  i += 1\n",
        "print(i)"
      ]
    },
    {
      "cell_type": "code",
      "source": [
        "# if-elif-else를 이용한 조건 분기문\n",
        "# if만 있거나, elif가 여럿 있거나, else가 없는 형태도 가능능\n",
        "a = 4321 * 3\n",
        "b = 54321 / 5\n",
        "if a > b:\n",
        "  print(f'왼쪽이 {a-b} 더 큽니다')\n",
        "elif a == b:\n",
        "  print('어머 둘이 같아요')\n",
        "else:\n",
        "  print(f\"오른쪽이 {b-a} 더 큽니다\")\n",
        "print(\"끝\")"
      ],
      "metadata": {
        "colab": {
          "base_uri": "https://localhost:8080/"
        },
        "id": "SxW6OoJmq0F3",
        "outputId": "3862eb9c-502e-454a-fd0d-a1d6d67c588a"
      },
      "execution_count": null,
      "outputs": [
        {
          "output_type": "stream",
          "name": "stdout",
          "text": [
            "왼쪽이 2098.7999999999993 더 큽니다\n",
            "끝\n"
          ]
        }
      ]
    },
    {
      "cell_type": "code",
      "source": [
        "# list, tuple인 경우 순서가 보장되지만 set인 경우는 예상하지 않게 동작할 수 있습니다.\n",
        "social = {'페북', '인스타', '밴드', '카스'}\n",
        "for a in social:\n",
        "  print(f\"이번 요소는 {a}입니다.\")"
      ],
      "metadata": {
        "colab": {
          "base_uri": "https://localhost:8080/"
        },
        "id": "44wt-_njtsvS",
        "outputId": "ff30de86-bf2b-4841-fef4-1412355ddfb8"
      },
      "execution_count": null,
      "outputs": [
        {
          "output_type": "stream",
          "name": "stdout",
          "text": [
            "이번 요소는 밴드입니다.\n",
            "이번 요소는 카스입니다.\n",
            "이번 요소는 페북입니다.\n",
            "이번 요소는 인스타입니다.\n"
          ]
        }
      ]
    },
    {
      "cell_type": "code",
      "source": [
        "# 2부터 5 앞까지의 range. range와 for는 궁합이 좋습니다.\n",
        "r = range(2,5)\n",
        "print(list(r))\n",
        "for i in r:\n",
        "  print(i)"
      ],
      "metadata": {
        "colab": {
          "base_uri": "https://localhost:8080/"
        },
        "id": "fTZLPbNUuq3l",
        "outputId": "eb5bd803-2138-4b45-829b-856a7f07a607"
      },
      "execution_count": null,
      "outputs": [
        {
          "output_type": "stream",
          "name": "stdout",
          "text": [
            "[2, 3, 4]\n",
            "2\n",
            "3\n",
            "4\n"
          ]
        }
      ]
    },
    {
      "cell_type": "code",
      "source": [
        "# range 를 이용해 탑쌓기\n",
        "for i in range(1, 6):\n",
        "  print('*' * i )\n",
        "for i in range(1, 6):\n",
        "  print('*' * (6 - i) )\n",
        "for i in range(5, 0, -1):\n",
        "  print('*' * i )"
      ],
      "metadata": {
        "colab": {
          "base_uri": "https://localhost:8080/"
        },
        "id": "L7J9PIpEvWU5",
        "outputId": "285562c7-6308-401f-bc76-926ecd1673fe"
      },
      "execution_count": 3,
      "outputs": [
        {
          "output_type": "stream",
          "name": "stdout",
          "text": [
            "*\n",
            "**\n",
            "***\n",
            "****\n",
            "*****\n",
            "*****\n",
            "****\n",
            "***\n",
            "**\n",
            "*\n",
            "*****\n",
            "****\n",
            "***\n",
            "**\n",
            "*\n"
          ]
        }
      ]
    },
    {
      "cell_type": "code",
      "source": [
        "# 1부터 10까지 출력하기\n",
        "for i in range(1, 11):\n",
        "  print(i, end = \", \")\n",
        "print()\n",
        "for i in [1,2,3,4,5,6,7,8,9,10]:\n",
        "  print(i, end  = \", \")\n",
        "print()"
      ],
      "metadata": {
        "colab": {
          "base_uri": "https://localhost:8080/"
        },
        "id": "HEMsMhnQwPGH",
        "outputId": "222c9b1c-b201-448d-e917-b92262a0ce98"
      },
      "execution_count": 7,
      "outputs": [
        {
          "output_type": "stream",
          "name": "stdout",
          "text": [
            "1, 2, 3, 4, 5, 6, 7, 8, 9, 10, \n",
            "1, 2, 3, 4, 5, 6, 7, 8, 9, 10, \n"
          ]
        }
      ]
    },
    {
      "cell_type": "code",
      "source": [
        "print(6 % 3)"
      ],
      "metadata": {
        "colab": {
          "base_uri": "https://localhost:8080/"
        },
        "id": "9oRcod3mwRWz",
        "outputId": "4f2bbda2-ee0b-4520-8255-0671cfba6d9d"
      },
      "execution_count": null,
      "outputs": [
        {
          "output_type": "stream",
          "name": "stdout",
          "text": [
            "0\n"
          ]
        }
      ]
    },
    {
      "cell_type": "code",
      "source": [
        "# 삼육구 게임임\n",
        "for i in range(1,21):\n",
        "  if i % 10 % 3 == 0:\n",
        "    print(\"짝!\")\n",
        "  else:\n",
        "    print(i)"
      ],
      "metadata": {
        "colab": {
          "base_uri": "https://localhost:8080/"
        },
        "id": "KeStFT8AxeUf",
        "outputId": "7ee531f6-e183-482b-9d40-8a2c7fe1b28a"
      },
      "execution_count": null,
      "outputs": [
        {
          "output_type": "stream",
          "name": "stdout",
          "text": [
            "1\n",
            "2\n",
            "짝!\n",
            "4\n",
            "5\n",
            "짝!\n",
            "7\n",
            "8\n",
            "짝!\n",
            "짝!\n",
            "11\n",
            "12\n",
            "짝!\n",
            "14\n",
            "15\n",
            "짝!\n",
            "17\n",
            "18\n",
            "짝!\n",
            "짝!\n"
          ]
        }
      ]
    },
    {
      "cell_type": "code",
      "source": [
        "# 구구단 출력하기. nested for loop\n",
        "for j in range(2,10):\n",
        "  for i in range(1,10):\n",
        "    print(f\"{j} x {i} = {i*j}\")\n",
        "  print(\"=\"*10)\n"
      ],
      "metadata": {
        "colab": {
          "base_uri": "https://localhost:8080/"
        },
        "id": "M1USr58tye73",
        "outputId": "b9c57b87-9e6f-4b27-d348-9a7723b746fe"
      },
      "execution_count": null,
      "outputs": [
        {
          "output_type": "stream",
          "name": "stdout",
          "text": [
            "2 x 1 = 2\n",
            "2 x 2 = 4\n",
            "2 x 3 = 6\n",
            "2 x 4 = 8\n",
            "2 x 5 = 10\n",
            "2 x 6 = 12\n",
            "2 x 7 = 14\n",
            "2 x 8 = 16\n",
            "2 x 9 = 18\n",
            "==========\n",
            "3 x 1 = 3\n",
            "3 x 2 = 6\n",
            "3 x 3 = 9\n",
            "3 x 4 = 12\n",
            "3 x 5 = 15\n",
            "3 x 6 = 18\n",
            "3 x 7 = 21\n",
            "3 x 8 = 24\n",
            "3 x 9 = 27\n",
            "==========\n",
            "4 x 1 = 4\n",
            "4 x 2 = 8\n",
            "4 x 3 = 12\n",
            "4 x 4 = 16\n",
            "4 x 5 = 20\n",
            "4 x 6 = 24\n",
            "4 x 7 = 28\n",
            "4 x 8 = 32\n",
            "4 x 9 = 36\n",
            "==========\n",
            "5 x 1 = 5\n",
            "5 x 2 = 10\n",
            "5 x 3 = 15\n",
            "5 x 4 = 20\n",
            "5 x 5 = 25\n",
            "5 x 6 = 30\n",
            "5 x 7 = 35\n",
            "5 x 8 = 40\n",
            "5 x 9 = 45\n",
            "==========\n",
            "6 x 1 = 6\n",
            "6 x 2 = 12\n",
            "6 x 3 = 18\n",
            "6 x 4 = 24\n",
            "6 x 5 = 30\n",
            "6 x 6 = 36\n",
            "6 x 7 = 42\n",
            "6 x 8 = 48\n",
            "6 x 9 = 54\n",
            "==========\n",
            "7 x 1 = 7\n",
            "7 x 2 = 14\n",
            "7 x 3 = 21\n",
            "7 x 4 = 28\n",
            "7 x 5 = 35\n",
            "7 x 6 = 42\n",
            "7 x 7 = 49\n",
            "7 x 8 = 56\n",
            "7 x 9 = 63\n",
            "==========\n",
            "8 x 1 = 8\n",
            "8 x 2 = 16\n",
            "8 x 3 = 24\n",
            "8 x 4 = 32\n",
            "8 x 5 = 40\n",
            "8 x 6 = 48\n",
            "8 x 7 = 56\n",
            "8 x 8 = 64\n",
            "8 x 9 = 72\n",
            "==========\n",
            "9 x 1 = 9\n",
            "9 x 2 = 18\n",
            "9 x 3 = 27\n",
            "9 x 4 = 36\n",
            "9 x 5 = 45\n",
            "9 x 6 = 54\n",
            "9 x 7 = 63\n",
            "9 x 8 = 72\n",
            "9 x 9 = 81\n",
            "==========\n"
          ]
        }
      ]
    },
    {
      "cell_type": "code",
      "source": [
        "# hi를 입력받는 방법. while의 조건문에 변수가 들어가도록록\n",
        "ok = True\n",
        "while ok:\n",
        "  a = input('hi를 입력하세요:')\n",
        "  if a == 'hi':\n",
        "    ok = False\n",
        "  else:\n",
        "    ok = True\n",
        "print(\"수고하셨습니다.\")"
      ],
      "metadata": {
        "colab": {
          "base_uri": "https://localhost:8080/"
        },
        "id": "yBTgjdhe0by5",
        "outputId": "e8c7dc5f-b795-4a86-e001-ca0eed50a518"
      },
      "execution_count": null,
      "outputs": [
        {
          "output_type": "stream",
          "name": "stdout",
          "text": [
            "hi를 입력하세요:하이\n",
            "hi를 입력하세요:HI\n",
            "hi를 입력하세요:hi\n",
            "수고하셨습니다.\n"
          ]
        }
      ]
    },
    {
      "cell_type": "code",
      "source": [
        "# hi를 입력받는 방법2. 무한루프에서 break를 이용해 중단단\n",
        "while True:\n",
        "  a = input(\"a라고 입력하세요: \").lower().strip()\n",
        "  if a == \"a\":\n",
        "    break\n",
        "  else:\n",
        "    print(\"a라고 입력하라고!\")\n",
        "print(\"수고하셨습니다.\")"
      ],
      "metadata": {
        "colab": {
          "base_uri": "https://localhost:8080/"
        },
        "id": "ftYZEhNF08yg",
        "outputId": "d6105157-c2da-4562-866f-351171843b03"
      },
      "execution_count": null,
      "outputs": [
        {
          "output_type": "stream",
          "name": "stdout",
          "text": [
            "a라고 입력하세요: b\n",
            "a라고 입력하라고!\n",
            "a라고 입력하세요:          a\n",
            "수고하셨습니다.\n"
          ]
        }
      ]
    },
    {
      "cell_type": "code",
      "source": [
        "# 1주차 과제에서 키 값을 100~200으로 받는 방법\n",
        "mommuge = float(input('몸무게는? (kg) '))\n",
        "ki = float(input(\"키는? (cm) \"))\n",
        "while ki < 100 or ki > 200:\n",
        "  ki = float(input(\"키를 센티미터 단위로 적어주세요: \"))\n",
        "BMI = mommuge / (ki / 100) ** 2\n",
        "print(BMI)"
      ],
      "metadata": {
        "colab": {
          "base_uri": "https://localhost:8080/"
        },
        "id": "_haQOmkM2frp",
        "outputId": "f4e93e43-9565-46e1-8e23-0ede8903a5ed"
      },
      "execution_count": null,
      "outputs": [
        {
          "output_type": "stream",
          "name": "stdout",
          "text": [
            "몸무게는? (kg) 70\n",
            "키는? (cm) 1.7\n",
            "키를 센티밑 단위로 적어주세요: 1.7\n",
            "키를 센티밑 단위로 적어주세요: 170\n",
            "24.221453287197235\n"
          ]
        }
      ]
    },
    {
      "cell_type": "code",
      "source": [
        "# 1주차 과제에서 키 값을 100~200으로 받는 방법 2\n",
        "mommuge = float(input('몸무게는? (kg) '))\n",
        "while True:\n",
        "  ki = float(input(\"키는? (cm) \"))\n",
        "  if 100 < ki < 200:\n",
        "    break\n",
        "  print(\"센티미터 단위로 적으세요\")\n",
        "BMI = mommuge / (ki / 100) ** 2\n",
        "print(BMI)"
      ],
      "metadata": {
        "colab": {
          "base_uri": "https://localhost:8080/"
        },
        "id": "2d6M-igb31Bq",
        "outputId": "13d8fc68-1a12-4d3c-f784-68333ef0dac2"
      },
      "execution_count": null,
      "outputs": [
        {
          "output_type": "stream",
          "name": "stdout",
          "text": [
            "몸무게는? (kg) 70\n",
            "키는? (cm) 1\n",
            "센티미터 단위로 적으세요\n",
            "키는? (cm) 170\n",
            "24.221453287197235\n"
          ]
        }
      ]
    }
  ]
}