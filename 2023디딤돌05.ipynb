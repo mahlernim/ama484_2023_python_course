{
  "nbformat": 4,
  "nbformat_minor": 0,
  "metadata": {
    "colab": {
      "provenance": [],
      "authorship_tag": "ABX9TyP7ftBh75UG/LemWyqQoLgY",
      "include_colab_link": true
    },
    "kernelspec": {
      "name": "python3",
      "display_name": "Python 3"
    },
    "language_info": {
      "name": "python"
    }
  },
  "cells": [
    {
      "cell_type": "markdown",
      "metadata": {
        "id": "view-in-github",
        "colab_type": "text"
      },
      "source": [
        "<a href=\"https://colab.research.google.com/github/mahlernim/ama484_2023_python_course/blob/main/2023%EB%94%94%EB%94%A4%EB%8F%8C05.ipynb\" target=\"_parent\"><img src=\"https://colab.research.google.com/assets/colab-badge.svg\" alt=\"Open In Colab\"/></a>"
      ]
    },
    {
      "cell_type": "code",
      "execution_count": null,
      "metadata": {
        "id": "7Xy_iDs1xSPE"
      },
      "outputs": [],
      "source": [
        "# 가장 기본적인 임포트\n",
        "import math\n",
        "print(math.pow(2,3))"
      ]
    },
    {
      "cell_type": "code",
      "source": [
        "# 모듈 안의 특정 함수/상수 지정해서 불러들이기\n",
        "from math import e, sqrt\n",
        "x = sqrt(e)\n",
        "print(x)"
      ],
      "metadata": {
        "colab": {
          "base_uri": "https://localhost:8080/"
        },
        "id": "7kvWAxkPxcmA",
        "outputId": "03a7e05d-122c-4376-b95b-38e72043a3c2"
      },
      "execution_count": null,
      "outputs": [
        {
          "output_type": "stream",
          "name": "stdout",
          "text": [
            "1.6487212707001282\n"
          ]
        }
      ]
    },
    {
      "cell_type": "code",
      "source": [
        "# 별명 붙여 임포트 하기\n",
        "import math as mathmath\n",
        "print(mathmath.pow(2,3))"
      ],
      "metadata": {
        "colab": {
          "base_uri": "https://localhost:8080/"
        },
        "id": "wNQnz4EtyBA1",
        "outputId": "9ab31e79-e4c1-4643-a37d-91c26e6ba810"
      },
      "execution_count": null,
      "outputs": [
        {
          "output_type": "stream",
          "name": "stdout",
          "text": [
            "8.0\n"
          ]
        }
      ]
    },
    {
      "cell_type": "code",
      "source": [
        "# 섞어도 되나?\n",
        "import math as m\n",
        "import math\n",
        "m.sqrt(math.e)"
      ],
      "metadata": {
        "colab": {
          "base_uri": "https://localhost:8080/"
        },
        "id": "lLWhVhrNzQ0V",
        "outputId": "9739666c-6f84-453f-b925-34ecc882ee09"
      },
      "execution_count": null,
      "outputs": [
        {
          "output_type": "execute_result",
          "data": {
            "text/plain": [
              "1.6487212707001282"
            ]
          },
          "metadata": {},
          "execution_count": 1
        }
      ]
    },
    {
      "cell_type": "code",
      "source": [
        "# mymodule.py 파일을 만들고, 그 파일을 임포트해서 그 안의 함수 호출하기\n",
        "import mymodule\n",
        "print(mymodule.gophagi(2,3))"
      ],
      "metadata": {
        "colab": {
          "base_uri": "https://localhost:8080/"
        },
        "id": "xFRj9Ud0zUmL",
        "outputId": "90a43d9b-92c1-47cb-b9b5-b1e9f8da20c8"
      },
      "execution_count": null,
      "outputs": [
        {
          "output_type": "stream",
          "name": "stdout",
          "text": [
            "6\n"
          ]
        }
      ]
    },
    {
      "cell_type": "code",
      "source": [
        "# gophagi 함수의 x, y변수 모두 기본값이 있어 하나만 지정해도 오류가 발생하지 않음\n",
        "print(mymodule.gophagi(5))"
      ],
      "metadata": {
        "colab": {
          "base_uri": "https://localhost:8080/"
        },
        "id": "6wxZMjDs1A-M",
        "outputId": "acead03d-b695-4ce9-a59f-27b9a9187195"
      },
      "execution_count": null,
      "outputs": [
        {
          "output_type": "stream",
          "name": "stdout",
          "text": [
            "5\n"
          ]
        }
      ]
    },
    {
      "cell_type": "code",
      "source": [
        "# mymodule.py 파일을 수정하고 저장한 뒤 임포트 하기 전에 \"런타임 재시작\"을 해줘야 한다. 안 그러면 변경내용이 반영되지 않음.\n",
        "import mymodule\n",
        "mymodule.hi()"
      ],
      "metadata": {
        "colab": {
          "base_uri": "https://localhost:8080/"
        },
        "id": "dd009dTm1NVi",
        "outputId": "f3465c84-190e-4c2d-dfc9-8639662899c1"
      },
      "execution_count": null,
      "outputs": [
        {
          "output_type": "stream",
          "name": "stdout",
          "text": [
            "hi\n"
          ]
        }
      ]
    },
    {
      "cell_type": "code",
      "source": [
        "# mymodule.py에 gugudan() 함수를 만들고, 그걸 불러들여 2,4,6,8단 출력 실행행\n",
        "import mymodule as my\n",
        "for i in (2,4,6,8):\n",
        "  my.gugudan(i)"
      ],
      "metadata": {
        "id": "5uxCkyP32VAG"
      },
      "execution_count": null,
      "outputs": []
    },
    {
      "cell_type": "code",
      "source": [
        "# 로컬 파일을 다룰 수 있는 os 모듈.getcwd = get current working directory \n",
        "import os\n",
        "a = os.getcwd()\n",
        "print(a)"
      ],
      "metadata": {
        "colab": {
          "base_uri": "https://localhost:8080/"
        },
        "id": "UKdI2wa434FW",
        "outputId": "34065886-1e91-464a-8c55-8b529c2dc412"
      },
      "execution_count": null,
      "outputs": [
        {
          "output_type": "stream",
          "name": "stdout",
          "text": [
            "/content\n"
          ]
        }
      ]
    },
    {
      "cell_type": "code",
      "source": [
        "# listdir은 해당 디렉토리의 파일 목록을 리스트 형태로 가져옴. for문을 이용해 일괄적인 조작이 가능능\n",
        "b = os.listdir(a)\n",
        "print(b)"
      ],
      "metadata": {
        "colab": {
          "base_uri": "https://localhost:8080/"
        },
        "id": "yMiBBVz337-g",
        "outputId": "ad291847-2ae6-4e0c-c917-a65b2f8fca87"
      },
      "execution_count": null,
      "outputs": [
        {
          "output_type": "stream",
          "name": "stdout",
          "text": [
            "['.config', '.ipynb_checkpoints', '__pycache__', 'mymodule.py', 'sample_data']\n"
          ]
        }
      ]
    },
    {
      "cell_type": "code",
      "source": [
        "# random.randint()를 이용해 주사위 굴리기 구현 가능능\n",
        "import random\n",
        "a = random.randint(1,6)\n",
        "print(a)"
      ],
      "metadata": {
        "colab": {
          "base_uri": "https://localhost:8080/"
        },
        "id": "9O1vwNfm4A6A",
        "outputId": "bda391c6-808e-4eba-95ac-9a625a2e8ab4"
      },
      "execution_count": null,
      "outputs": [
        {
          "output_type": "stream",
          "name": "stdout",
          "text": [
            "1\n"
          ]
        }
      ]
    },
    {
      "cell_type": "code",
      "source": [
        "# 0~1 범위의 랜덤 소수 생성. 27% 확률로 일어나는 일을 만들고 싶으면 if random.random() < 0.27\n",
        "b = random.random()\n",
        "print(b)"
      ],
      "metadata": {
        "colab": {
          "base_uri": "https://localhost:8080/"
        },
        "id": "KR6wu12D5iGt",
        "outputId": "5211516f-67e2-414a-f477-00d3c4a6010c"
      },
      "execution_count": null,
      "outputs": [
        {
          "output_type": "stream",
          "name": "stdout",
          "text": [
            "0.9515336784346654\n"
          ]
        }
      ]
    },
    {
      "cell_type": "code",
      "source": [
        "# 컨테이너형 변수에서 하나를 랜덤하게 추출할 때 random.choice()\n",
        "c = random.choice(['페북', '인스타', '카스', '틱톡'])\n",
        "print(c)"
      ],
      "metadata": {
        "colab": {
          "base_uri": "https://localhost:8080/"
        },
        "id": "sB1AbwO_5xtL",
        "outputId": "c77c8096-7ef9-48d1-91f1-aed4f4ce997e"
      },
      "execution_count": null,
      "outputs": [
        {
          "output_type": "stream",
          "name": "stdout",
          "text": [
            "카스\n"
          ]
        }
      ]
    },
    {
      "cell_type": "code",
      "source": [
        "# 웹사이트의 소스코드를 가져올 때 requests.get() 사용용\n",
        "import requests\n",
        "response = requests.get(\"https://www.inje.ac.kr/kor/main/main.asp\", verify=False)\n",
        "page = response.text\n",
        "print(page)"
      ],
      "metadata": {
        "id": "YnNW-UjO6JE1"
      },
      "execution_count": null,
      "outputs": []
    },
    {
      "cell_type": "code",
      "source": [
        "# regular expression (정규표현식)을 이용해 인제대학교 사이트에 있는 링크를 모두 추출하는 코드드\n",
        "import re\n",
        "urls = re.findall('\"(http[^\"]*)\"', page)\n",
        "print(urls)"
      ],
      "metadata": {
        "colab": {
          "base_uri": "https://localhost:8080/"
        },
        "id": "9VmwJ9XA6bdd",
        "outputId": "9e0cf64e-ad1f-4c52-a282-8642b4a8143c"
      },
      "execution_count": null,
      "outputs": [
        {
          "output_type": "stream",
          "name": "stdout",
          "text": [
            "['https://www.googletagmanager.com/gtag/js?id=UA-150722553-1', 'https://rule.inje.ac.kr', 'https://iphak.inje.ac.kr/', 'https://oia.inje.ac.kr/학부생/', 'https://korean.inje.ac.kr', 'https://soc.inje.ac.kr', 'https://www.inje.ac.kr/sotong/board/list.asp?m=4', 'https://www.inje.ac.kr/sotong/board/list.asp?m=2', 'http://teaching.inje.ac.kr/', 'https://oia.inje.ac.kr/체험수기/', 'https://www.isic.co.kr/iju/ijuIndex.jsp', 'http://www.ijnews.net', 'https://www.inje.ac.kr/kor/Template/Bsub_page.asp?Ltype=5&Ltype2=1&Ltype3=0&Tname=S_TodayInje&Ldir=board/S_Focus&SearchText=&SearchKey=&d1n=5&d2n=2&d3n=1&d4n=0&Lpage=Tboard_R&board_idx=2538', 'https://www.inje.ac.kr/kor/Template/Bsub_page.asp?Ltype=5&Ltype2=1&Ltype3=0&Tname=S_TodayInje&Ldir=board/S_Focus&SearchText=&SearchKey=&d1n=5&d2n=2&d3n=1&d4n=0&Lpage=Tboard_R&board_idx=2245', 'https://www.inje.ac.kr/kor/Template/Bsub_page.asp?Ltype=5&Ltype2=1&Ltype3=0&Tname=S_TodayInje&Ldir=board/S_Focus&SearchText=&SearchKey=&d1n=5&d2n=2&d3n=1&d4n=0&Lpage=Tboard_R&board_idx=2318', 'https://www.inje.ac.kr/kor/Template/Bsub_page.asp?Ltype=5&Ltype2=1&Ltype3=0&Tname=S_TodayInje&Ldir=board/S_Focus&SearchText=&SearchKey=&d1n=5&d2n=2&d3n=1&d4n=0&Lpage=Tboard_R&board_idx=2319', 'https://web.inje.ac.kr', 'https://sail.inje.ac.kr', 'https://navi.inje.ac.kr', 'https://www.inje.ac.kr/M00/03_webmail.html', 'https://ijis.inje.ac.kr/scff/enro/enro01/enro01010m.aspx', 'https://library.inje.ac.kr', 'https://dorm.inje.ac.kr', 'http://www.ijnews.net', 'http://fund.inje.ac.kr', 'http://www.inje.ac.kr/sotong', 'https://stud.inje.ac.kr', 'https://sail.inje.ac.kr', 'https://navi.inje.ac.kr', 'https://oasis.inje.ac.kr', 'http://119.inje.ac.kr', 'https://ijis.inje.ac.kr/', 'https://ekp.inje.ac.kr', 'https://webmail.inje.ac.kr', 'https://inje.alphamro.co.kr', 'https://ijis.inje.ac.kr/geff/stms/main.aspx', 'https://rule.inje.ac.kr', 'https://www.academyinfo.go.kr/popup/pubinfo1690/list.do?schlId=0000164', 'https://iphak.inje.ac.kr/', 'https://oia.inje.ac.kr', 'http://fund.inje.ac.kr', 'https://ijlove.inje.ac.kr', 'https://ijis.inje.ac.kr/scff/cert/cert01/cert01010pm.aspx', 'https://soc.inje.ac.kr', 'http://sail.inje.ac.kr/Recruit/RecruitList.aspx?rcdx=EBD966F9F5CAB266FC44F5A8733ABB94B0FAEE52BB10ED8527A59D5EC480FE57CDEE04EF9821D824', 'https://www.inje.ac.kr/kor/Template/Bsub_page.asp?Ltype=5&Ltype2=0&Ltype3=0&Tname=S_News&Ldir=board/S_News&d1n=5&d2n=1&d3n=1&d4n=0&Lpage=Tboard_R&board_idx=22295', 'https://www.inje.ac.kr/kor/Template/Bsub_page.asp?Ltype=5&Ltype2=0&Ltype3=0&Tname=S_News&Ldir=board/S_News&d1n=5&d2n=1&d3n=1&d4n=0&Lpage=Tboard_R&board_idx=22276', 'https://www.inje.ac.kr/kor/Template/Bsub_page.asp?Ltype=5&Ltype2=0&Ltype3=0&Tname=S_News&Ldir=board/S_News&d1n=5&d2n=1&d3n=1&d4n=0&Lpage=Tboard_R&board_idx=22191', 'https://www.inje.ac.kr/kor/Template/Bsub_page.asp?Ltype=5&Ltype2=0&Ltype3=0&Tname=S_News&Ldir=board/S_News&d1n=5&d2n=1&d3n=1&d4n=0&Lpage=Tboard_R&board_idx=22186', 'https://www.inje.ac.kr/kor/Template/Bsub_page.asp?Ltype=5&Ltype2=0&Ltype3=0&Tname=S_News&Ldir=board/S_News&d1n=5&d2n=1&d3n=1&d4n=0&Lpage=Tboard_R&board_idx=22155', 'https://www.inje.ac.kr/kor/Template/Bsub_page.asp?Ltype=5&Ltype2=0&Ltype3=0&Tname=S_News&Ldir=board/S_News&d1n=5&d2n=1&d3n=1&d4n=0&Lpage=Tboard_R&board_idx=22265', 'https://www.ybmnet.co.kr/common/login.asp?url=%2Fcommon%2FcertifyResponse.php%3FencParam%3D%26encGroupParam%3D+Zylw99+hAoMB9GIO1cGJg%3D%3D%26returnUrl%3D%2Fcommon%2Fcert%2Fcomp%2FgroupLinkIntro.php&what=exam.toeic.co.kr', 'https://meet.inje.ac.kr', 'https://www.inje.ac.kr/kor/Template/Bsub_page.asp?Ltype=5&Ltype2=0&Ltype3=0&Tname=S_News&Ldir=board/S_News&d1n=5&d2n=1&d3n=1&d4n=0&Lpage=Tboard_R&board_idx=22295', 'https://www.inje.ac.kr/kor/Template/Bsub_page.asp?Ltype=5&Ltype2=0&Ltype3=0&Tname=S_News&Ldir=board/S_News&d1n=5&d2n=1&d3n=1&d4n=0&Lpage=Tboard_R&board_idx=22276', 'https://www.inje.ac.kr/kor/Template/Bsub_page.asp?Ltype=5&Ltype2=0&Ltype3=0&Tname=S_News&Ldir=board/S_News&d1n=5&d2n=1&d3n=1&d4n=0&Lpage=Tboard_R&board_idx=22191', 'https://www.inje.ac.kr/kor/Template/Bsub_page.asp?Ltype=5&Ltype2=0&Ltype3=0&Tname=S_News&Ldir=board/S_News&d1n=5&d2n=1&d3n=1&d4n=0&Lpage=Tboard_R&board_idx=22186', 'https://www.inje.ac.kr/kor/Template/Bsub_page.asp?Ltype=5&Ltype2=0&Ltype3=0&Tname=S_News&Ldir=board/S_News&d1n=5&d2n=1&d3n=1&d4n=0&Lpage=Tboard_R&board_idx=22155', 'https://www.inje.ac.kr/kor/Template/Bsub_page.asp?Ltype=5&Ltype2=0&Ltype3=0&Tname=S_News&Ldir=board/S_News&d1n=5&d2n=1&d3n=1&d4n=0&Lpage=Tboard_R&board_idx=22265', 'https://www.ybmnet.co.kr/common/login.asp?url=%2Fcommon%2FcertifyResponse.php%3FencParam%3D%26encGroupParam%3D+Zylw99+hAoMB9GIO1cGJg%3D%3D%26returnUrl%3D%2Fcommon%2Fcert%2Fcomp%2FgroupLinkIntro.php&what=exam.toeic.co.kr', 'https://meet.inje.ac.kr', 'https://www.facebook.com/injeuniv/', 'https://www.instagram.com/inje_univ/', 'https://www.youtube.com/user/injeuniv1004', 'https://twitter.com/injeuniv1004', 'https://www.instagram.com/p/CfnFQwkPQDM/', 'https://www.instagram.com/p/CUJy7wPv8Ta/', 'https://www.youtube.com/watch?v=SRFFzUAdWlY', 'http://med.inje.ac.kr/', 'http://med.inje.ac.kr/', 'http://med.inje.ac.kr/', 'http://nursing.inje.ac.kr/', 'http://nursing.inje.ac.kr/', 'https://social.inje.ac.kr/', 'http://healthadmin.inje.ac.kr/', 'https://welfare.inje.ac.kr/', 'http://sangdam.inje.ac.kr', 'http://child.inje.ac.kr/', 'https://sped.inje.ac.kr', 'http://public.home.inje.ac.kr/', 'http://consumer.inje.ac.kr/', 'https://masscomm.inje.ac.kr', 'http://sports.inje.ac.kr/', 'https://police-pa.inje.ac.kr', 'https://law.inje.ac.kr', 'https://cob.inje.ac.kr', 'https://biz.inje.ac.kr', 'http://injetrade.inje.ac.kr', 'https://eng.inje.ac.kr/', 'https://archi.inje.ac.kr', 'http://ie.inje.ac.kr', 'https://icar.inje.ac.kr', 'http://doe.inje.ac.kr/', 'http://www.injein.net', 'http://mm.inje.ac.kr/', 'http://dde.inje.ac.kr/ ', 'http://dp.inje.ac.kr', 'https://webtoon.inje.ac.kr', 'http://contract.inje.ac.kr/', 'https://ai.inje.ac.kr', 'http://cs.inje.ac.kr/', 'https://aibigdata.inje.ac.kr', 'https://healthmedi.inje.ac.kr', 'http://ishd.inje.ac.kr/', 'https://injept.inje.ac.kr', 'https://biomls.inje.ac.kr/', 'http://ot.inje.ac.kr/', 'http://ishd.inje.ac.kr/ ', 'http://bme.inje.ac.kr', 'http://food.inje.ac.kr/', 'https://animalhealth.inje.ac.kr/', 'https://bnit.inje.ac.kr', 'http://dpe.inje.ac.kr/', 'http://nano.inje.ac.kr', 'http://hit.inje.ac.kr', 'https://radichem.inje.ac.kr/', 'https://bio.inje.ac.kr/', 'https://pharm.inje.ac.kr', 'http://pharm.inje.ac.kr/', 'https://ilac.inje.ac.kr', 'http://music.inje.ac.kr', 'https://contents.inje.ac.kr', 'https://freemajor.inje.ac.kr/', 'https://energy.inje.ac.kr/', 'http://tongil.inje.ac.kr', 'https://indang.inje.ac.kr', 'http://contents.home.inje.ac.kr/', 'http://ipp.inje.ac.kr', 'http://graduate.inje.ac.kr/', 'https://health.inje.ac.kr', 'https://mba.inje.ac.kr/', 'http://gse.inje.ac.kr/', 'http://homepage.inje.ac.kr/~gssw/', 'http://itconvergence.inje.ac.kr', 'http://sanhak.inje.ac.kr/', 'http://ctl.inje.ac.kr', 'http://startup.inje.ac.kr', 'https://sail.inje.ac.kr', 'https://oia.inje.ac.kr', 'https://iphak.inje.ac.kr ', 'http://korean.inje.ac.kr', 'https://dream.inje.ac.kr', 'https://soc.inje.ac.kr', 'http://www.ijnews.net/', 'https://homepage.inje.ac.kr/~injegosi', 'http://iise.inje.ac.kr', 'https://dream.inje.ac.kr', 'https://library.inje.ac.kr', 'http://medline.inje.ac.kr/', 'https://dorm.inje.ac.kr/', 'http://injemuseum.inje.ac.kr/', 'http://szone.inje.ac.kr', 'http://korean.inje.ac.kr', 'http://rshc.inje.ac.kr', 'https://energy.inje.ac.kr/energy/organ/organization.do', 'http://homepage.inje.ac.kr/~eci', 'http://teaching.inje.ac.kr', 'http://metec.inje.ac.kr/', 'http://bprc.inje.ac.kr', 'http://homepage.inje.ac.kr/~arc/', 'http://ridem.inje.ac.kr', 'http://iecgy.inje.ac.kr', 'http://gse.inje.ac.kr/M01/M01_S08_SS01.php', 'http://www.nrslab.org/', 'https://iida.inje.ac.kr/', 'https://home.inje.ac.kr/~kaya', 'http://home.inje.ac.kr/~picr/', 'http://mitochondria.inje.ac.kr/', 'http://www.medicalhumanities.kr/', 'http://www.hefinstitute.or.kr/', 'http://homepage.inje.ac.kr/~ieom', 'http://www.ceclab.re.kr/index.asp', 'http://did.inje.ac.kr/', 'http://home.inje.ac.kr/~kdd', 'http://pgrc.inje.ac.kr/', 'http://ipp.inje.ac.kr', 'https://prime.inje.ac.kr/', 'http://irhrd.inje.ac.kr', 'http://innopolis.inje.ac.kr/', 'https://uisp.inje.ac.kr', 'http://sail.inje.ac.kr/UniJobCenter/UniJobCenterMain.aspx', 'http://linc.inje.ac.kr/', 'http://teaching.inje.ac.kr/', 'http://cons.ocu.ac.kr/new_main.asp', 'https://www.facebook.com/1524607844533692/', 'http://museum.inje.ac.kr/', 'http://homepage.inje.ac.kr/~staff', 'http://www.gcwc.or.kr/', 'http://fund.inje.ac.kr/', 'http://fund.inje.ac.kr/M04/M04_01.asp', 'http://www.e-irb.com', 'http://www.paik.ac.kr/', 'http://www.paik.ac.kr/seoul/', 'http://www.paik.ac.kr/busan/', 'http://www.paik.ac.kr/sanggye/', 'http://www.paik.ac.kr/ilsan/', 'http://www.paik.ac.kr/haeundae/', 'http://www.academyinfo.go.kr/popup/pubinfo1690/list.do?schlId=0000164', 'https://rule.inje.ac.kr']\n"
          ]
        }
      ]
    },
    {
      "cell_type": "code",
      "source": [],
      "metadata": {
        "id": "PgRFphDU7QCQ"
      },
      "execution_count": null,
      "outputs": []
    }
  ]
}