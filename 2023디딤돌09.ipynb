{
  "nbformat": 4,
  "nbformat_minor": 0,
  "metadata": {
    "colab": {
      "provenance": [],
      "authorship_tag": "ABX9TyN3W7rUkB40f16NRPZIo4S8",
      "include_colab_link": true
    },
    "kernelspec": {
      "name": "python3",
      "display_name": "Python 3"
    },
    "language_info": {
      "name": "python"
    }
  },
  "cells": [
    {
      "cell_type": "markdown",
      "metadata": {
        "id": "view-in-github",
        "colab_type": "text"
      },
      "source": [
        "<a href=\"https://colab.research.google.com/github/mahlernim/ama484_2023_python_course/blob/main/2023%EB%94%94%EB%94%A4%EB%8F%8C09.ipynb\" target=\"_parent\"><img src=\"https://colab.research.google.com/assets/colab-badge.svg\" alt=\"Open In Colab\"/></a>"
      ]
    },
    {
      "cell_type": "code",
      "execution_count": null,
      "metadata": {
        "colab": {
          "base_uri": "https://localhost:8080/"
        },
        "id": "XPr0dkvWxkNn",
        "outputId": "26fc58ad-d055-431b-fa92-a40bdbad2324"
      },
      "outputs": [
        {
          "output_type": "stream",
          "name": "stdout",
          "text": [
            "{'access_token': 'cdrNmexD3k36USMjpccxcDoEivnyYLRlOv9enqevCiolEAAAAYffDeXS', 'token_type': 'bearer', 'refresh_token': 'WdJIPddPAsHwTp_5pbMotfLVuVezdX7OyVeZNn_LCiolEAAAAYffDeXQ', 'expires_in': 21599, 'scope': 'talk_message profile_nickname', 'refresh_token_expires_in': 5183999}\n"
          ]
        }
      ],
      "source": [
        "# access_token 받아오기\n",
        "# grant_type는 인증코드를 이용\n",
        "# 60일에 한 번만 실행하면 되는 코드\n",
        "# 오류 발생시 PPT 20번 내용을 다시 수행해서 인증코드를 재발급 받기\n",
        "import requests, re, json\n",
        "url = 'https://kauth.kakao.com/oauth/token'\n",
        "d = {\n",
        "  'grant_type': 'authorization_code',\n",
        "  'client_id': 'd9e7430ae851a7b60ec9aff5ba8ea42c',\n",
        "  'redirect_uri': 'https://example.com/oauth',\n",
        "  'code': 'llJkoBVMRC2YUdPtX_8VMkhowgpyCwlaIHaZrIO2r4UsG3bqu5rlOaT8u-F4VUUjfDl5Lgo9dNsAAAGH3wWOxA'\n",
        "}\n",
        "response = requests.post(url, data=d)\n",
        "tokens = response.json()\n",
        "print(tokens)\n",
        "\n",
        "# access_token, refresh_token 파일로 저장해두기\n",
        "with open('access_token.txt', 'w') as f:\n",
        "  f.write(tokens['access_token'])\n",
        "with open('refresh_token.txt', 'w') as f:\n",
        "  f.write(tokens['refresh_token'])\n",
        "\n"
      ]
    },
    {
      "cell_type": "code",
      "source": [
        "# 저장된 access_token 가져오기\n",
        "with open('access_token.txt', 'r') as f:\n",
        "  access_token = f.read()\n",
        "\n",
        "# 메시지 보내기 API\n",
        "url = 'https://kapi.kakao.com/v2/api/talk/memo/default/send'\n",
        "h = {'Authorization': f'Bearer {access_token}'}\n",
        "text = \"토큰을 이용해보자 http://ubt.inje.ac.kr\"\n",
        "web_url = \"https://example.com\" # url 필수라서 의미 없는 url 추가\n",
        "t = json.dumps({\"object_type\": \"text\", \"text\": text, \"link\": {\"web_url\": web_url}})\n",
        "d = {\"template_object\": t}\n",
        "response = requests.post(url, headers=h, data=d)\n",
        "print(response.text)\n",
        "\n"
      ],
      "metadata": {
        "colab": {
          "base_uri": "https://localhost:8080/"
        },
        "id": "cmlIwIgdDekP",
        "outputId": "803bd236-d9b5-4572-8c37-47ad06ed88cd"
      },
      "execution_count": null,
      "outputs": [
        {
          "output_type": "stream",
          "name": "stdout",
          "text": [
            "{\"result_code\":0}\n"
          ]
        }
      ]
    },
    {
      "cell_type": "code",
      "source": [
        "# 60일간 유효한 refresh_token으로 access_token을 발급받는 과정\n",
        "# 저장된 refresh_token 가져오기\n",
        "with open('refresh_token.txt', 'r') as f:\n",
        "  refresh_token = f.read()\n",
        "\n",
        "# refresh_token 실행해서 access_token 갱신하기\n",
        "import requests\n",
        "url = 'https://kauth.kakao.com/oauth/token'\n",
        "d = {\n",
        "  'grant_type': 'refresh_token',\n",
        "  'client_id': 'd9e7430ae851a7b60ec9aff5ba8ea42c',\n",
        "  'redirect_uri': 'https://example.com/oauth',\n",
        "  'refresh_token': refresh_token\n",
        "}\n",
        "response = requests.post(url, data=d)\n",
        "tokens = response.json()\n",
        "print(tokens)\n",
        "\n",
        "# 새로운 access_token 덮어쓰기\n",
        "with open('access_token.txt', 'w') as f:\n",
        "  f.write(tokens['access_token'])\n",
        "\n"
      ],
      "metadata": {
        "colab": {
          "base_uri": "https://localhost:8080/"
        },
        "id": "LT0CDxsaIeJA",
        "outputId": "ff915dea-101d-46b2-d26b-4be6486105b2"
      },
      "execution_count": null,
      "outputs": [
        {
          "output_type": "stream",
          "name": "stdout",
          "text": [
            "{'access_token': 'fqZussDm8VtpMAzSeDn6a1G0FYHC_d2SwyPndcBRCinI2gAAAYffLY3P', 'token_type': 'bearer', 'expires_in': 21599}\n"
          ]
        }
      ]
    },
    {
      "cell_type": "code",
      "source": [
        "client_id = \"d9e7430ae851a7b60ec9aff5ba8ea42c\""
      ],
      "metadata": {
        "id": "m3GZWFDlLyBG"
      },
      "execution_count": null,
      "outputs": []
    },
    {
      "cell_type": "code",
      "source": [
        "# refresh_token으로 access_token을 매번 새로 발급받아 사용하는 함수\n",
        "import requests, json\n",
        "def katok(text):\n",
        "  global client_id\n",
        "  # 저장된 refresh_token 가져오기\n",
        "  with open('refresh_token.txt', 'r') as f:\n",
        "    refresh_token = f.read()\n",
        "  # refresh_token 실행해서 access_token 갱신하기\n",
        "  import requests\n",
        "  url = 'https://kauth.kakao.com/oauth/token'\n",
        "  d = {\n",
        "    'grant_type': 'refresh_token',\n",
        "    'client_id': client_id,\n",
        "    'redirect_uri': 'https://example.com/oauth',\n",
        "    'refresh_token': refresh_token\n",
        "  }\n",
        "  response = requests.post(url, data=d)\n",
        "  tokens = response.json()\n",
        "  access_token = tokens['access_token']\n",
        "  # 새로운 access_token 덮어쓰기\n",
        "  with open('access_token.txt', 'w') as f:\n",
        "    f.write(access_token)\n",
        "  # 메시지 보내기 API\n",
        "  url = 'https://kapi.kakao.com/v2/api/talk/memo/default/send'\n",
        "  h = {'Authorization': f'Bearer {access_token}'}\n",
        "  web_url = \"https://example.com\" # url 필수라서 의미 없는 url 추가\n",
        "  t = json.dumps({\"object_type\": \"text\", \"text\": text, \"link\": {\"web_url\": web_url}})\n",
        "  d = {\"template_object\": t}\n",
        "  response = requests.post(url, headers=h, data=d)\n",
        "  #print(response.text)\n",
        "katok(\"hi!\")\n",
        "\n"
      ],
      "metadata": {
        "colab": {
          "base_uri": "https://localhost:8080/"
        },
        "id": "_qZwylrhLURH",
        "outputId": "64bdff3f-cd4c-4e91-c6fe-3828707ef4dd"
      },
      "execution_count": null,
      "outputs": [
        {
          "output_type": "stream",
          "name": "stdout",
          "text": [
            "{\"result_code\":0}\n"
          ]
        }
      ]
    },
    {
      "cell_type": "code",
      "source": [
        "import requests\n",
        "from bs4 import BeautifulSoup\n",
        "url = \"https://www.inje.ac.kr/kor/Template/Bsub_page.asp?Ldir=board/S_Food&Lpage=s_food_view\"\n",
        "response = requests.get(url, verify=False)\n",
        "soup = BeautifulSoup(response.text, \"html.parser\")\n",
        "menu_tags = soup.find_all(\"td\", attrs={\"class\": \"tc\"})\n",
        "yoil = \"월화수목금\"\n",
        "text = \"[다인A]\\n\"\n",
        "for i in range(0,5):\n",
        "  menu = menu_tags[i+2].getText(\" \")\n",
        "  menu = re.sub(\"<[^>]+>\", \"\", menu)\n",
        "  menu = re.sub(\"\\([^)]+\\)\", \"\", menu)\n",
        "  menu = re.sub(\"\\s{2,}\", \" \", menu)\n",
        "  menu = menu.strip()\n",
        "  text += f\"{yoil[i]}: {menu}\\n\"\n",
        "print(text)\n",
        "katok(text)\n",
        "\n"
      ],
      "metadata": {
        "colab": {
          "base_uri": "https://localhost:8080/"
        },
        "id": "SyTEY2RlMt-3",
        "outputId": "ec75bfbd-d1ef-44d9-dad0-a6bb924aa8a1"
      },
      "execution_count": null,
      "outputs": [
        {
          "output_type": "stream",
          "name": "stderr",
          "text": [
            "/usr/local/lib/python3.10/dist-packages/urllib3/connectionpool.py:1045: InsecureRequestWarning: Unverified HTTPS request is being made to host 'www.inje.ac.kr'. Adding certificate verification is strongly advised. See: https://urllib3.readthedocs.io/en/1.26.x/advanced-usage.html#ssl-warnings\n",
            "  warnings.warn(\n"
          ]
        },
        {
          "output_type": "stream",
          "name": "stdout",
          "text": [
            "[다인A]\n",
            "월: 근로자의 날 휴무\n",
            "화: 참치야채비빔밥 뚝배기미니우동 해쉬포테이토+케찹\n",
            "수: 묵은지돈육찜 감자채볶음 구이김+유장\n",
            "목: 마늘보쌈정식 상추,깻잎+쌈장 쌈무,파절이 시락국/흑미밥\n",
            "금: 어린이날 휴무\n",
            "\n",
            "{\"result_code\":0}\n"
          ]
        }
      ]
    }
  ]
}