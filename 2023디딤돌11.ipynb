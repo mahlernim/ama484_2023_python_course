{
  "nbformat": 4,
  "nbformat_minor": 0,
  "metadata": {
    "colab": {
      "provenance": [],
      "authorship_tag": "ABX9TyOOUyqmXnMH34a9y4Df0CGX",
      "include_colab_link": true
    },
    "kernelspec": {
      "name": "python3",
      "display_name": "Python 3"
    },
    "language_info": {
      "name": "python"
    }
  },
  "cells": [
    {
      "cell_type": "markdown",
      "metadata": {
        "id": "view-in-github",
        "colab_type": "text"
      },
      "source": [
        "<a href=\"https://colab.research.google.com/github/mahlernim/ama484_2023_python_course/blob/main/2023%EB%94%94%EB%94%A4%EB%8F%8C11.ipynb\" target=\"_parent\"><img src=\"https://colab.research.google.com/assets/colab-badge.svg\" alt=\"Open In Colab\"/></a>"
      ]
    },
    {
      "cell_type": "code",
      "source": [
        "# 비어있는 class로 object 생성하기\n",
        "class Animal:\n",
        "  pass\n",
        "tom = Animal()\n",
        "print(tom)"
      ],
      "metadata": {
        "colab": {
          "base_uri": "https://localhost:8080/"
        },
        "id": "ry6ZoWmp45lb",
        "outputId": "8cd5f1b1-577d-4b1a-f9db-648f7d49c881"
      },
      "execution_count": null,
      "outputs": [
        {
          "output_type": "stream",
          "name": "stdout",
          "text": [
            "<__main__.Animal object at 0x7f08aeed3100>\n"
          ]
        }
      ]
    },
    {
      "cell_type": "code",
      "source": [
        "# object에 attribute 부여하기\n",
        "tom.name = \"톰\"\n",
        "tom.species = \"Cat\"\n",
        "print(tom.name, tom.species)"
      ],
      "metadata": {
        "colab": {
          "base_uri": "https://localhost:8080/"
        },
        "id": "i9lPaqJACQ_4",
        "outputId": "dfaabc41-0bab-4d95-f986-63c9a7544584"
      },
      "execution_count": null,
      "outputs": [
        {
          "output_type": "stream",
          "name": "stdout",
          "text": [
            "톰 Cat\n"
          ]
        }
      ]
    },
    {
      "cell_type": "code",
      "source": [
        "jerry = Animal()\n",
        "jerry.name = \"Jerry\"\n",
        "jerry.species = \"Mouse\"\n",
        "print(jerry.name, jerry.species)"
      ],
      "metadata": {
        "colab": {
          "base_uri": "https://localhost:8080/"
        },
        "id": "Y17Kg81mCmbm",
        "outputId": "4c59b1be-7008-4ede-f31b-322b4decb319"
      },
      "execution_count": null,
      "outputs": [
        {
          "output_type": "stream",
          "name": "stdout",
          "text": [
            "Jerry Mouse\n"
          ]
        }
      ]
    },
    {
      "cell_type": "code",
      "source": [
        "# constructor method 만들기\n",
        "# parameter 이름과 attribute가 일치할 필요는 없음 \n",
        "class Animal:\n",
        "  def __init__(self, n, s):\n",
        "    self.name = n\n",
        "    self.species = s\n",
        "    self.title = f\"{n} the great {s}\"\n",
        "\n",
        "tom = Animal(\"Tom\", \"Cat\")\n",
        "jerry = Animal(\"Jerry\", \"Mouse\")\n",
        "print(tom.title, jerry.title)"
      ],
      "metadata": {
        "colab": {
          "base_uri": "https://localhost:8080/"
        },
        "id": "hGOFyHBeCzmP",
        "outputId": "44653c23-f002-445f-e866-22d13727e2aa"
      },
      "execution_count": null,
      "outputs": [
        {
          "output_type": "stream",
          "name": "stdout",
          "text": [
            "Tom the great Cat Jerry the great Mouse\n"
          ]
        }
      ]
    },
    {
      "cell_type": "code",
      "source": [
        "# 추가 parameter가 필요한 method: rename()\n",
        "# 추가 parameter가 필요 없는 method: sayhi()\n",
        "class Animal:\n",
        "  def __init__(self, n, s):\n",
        "    self.name = n\n",
        "    self.species = s\n",
        "    self.title = f\"{n} the great {s}\"\n",
        "  def rename(self, newname):\n",
        "    self.name = newname\n",
        "    self.title = f\"{self.name} the great {self.species}\"\n",
        "  def sayhi(self):\n",
        "    print(f\"Hi, I am {self.name}\")\n",
        "\n",
        "tom = Animal(\"Tom\", \"Cat\")\n",
        "jerry = Animal(\"Jerry\", \"Mouse\")\n",
        "tom.rename(\"Tommy\")\n",
        "tom.sayhi()\n",
        "jerry.sayhi()"
      ],
      "metadata": {
        "colab": {
          "base_uri": "https://localhost:8080/"
        },
        "id": "vkfy4_AMEWq1",
        "outputId": "db1b9e7a-7b89-450b-a76a-8c363737971e"
      },
      "execution_count": null,
      "outputs": [
        {
          "output_type": "stream",
          "name": "stdout",
          "text": [
            "Hi, I am Tommy\n",
            "Hi, I am Jerry\n"
          ]
        }
      ]
    },
    {
      "cell_type": "code",
      "source": [
        "# PPT의 animal.py 내용 작성해서 import하기\n",
        "import animal\n",
        "tom = animal.Cat(\"톰\")\n",
        "jerry = animal.Mouse(\"제리\")\n",
        "tom.status()\n",
        "jerry.status()\n",
        "tom.slash(jerry)\n",
        "tom.status()\n",
        "jerry.status()\n",
        "jerry.rest()\n",
        "tom.status()\n",
        "jerry.status()\n"
      ],
      "metadata": {
        "colab": {
          "base_uri": "https://localhost:8080/"
        },
        "id": "eUALg1RjGmH-",
        "outputId": "aa96da7d-eeaf-4ee5-d6c1-0a7b90c63c69"
      },
      "execution_count": null,
      "outputs": [
        {
          "output_type": "stream",
          "name": "stdout",
          "text": [
            "톰's health is at 100\n",
            "제리's health is at 100\n",
            "톰 says Meow~\n",
            "톰's health is at 100\n",
            "제리's health is at 90\n",
            "톰's health is at 100\n",
            "제리's health is at 95\n"
          ]
        }
      ]
    },
    {
      "cell_type": "code",
      "source": [
        "# 연습문제1. animal.py 내용을 수정한 뒤에 restart runtime을 해야 새로운 내용이 반영됨에 주의.\n",
        "import animal\n",
        "tom = animal.Cat(\"톰\")\n",
        "jerry = animal.Mouse(\"제리\")\n",
        "tom.status()\n",
        "jerry.status()\n",
        "tom.slash(jerry)\n",
        "jerry.train()\n",
        "jerry.train()\n",
        "jerry.train()\n",
        "jerry.bite(tom)\n",
        "tom.status()\n",
        "jerry.status()\n"
      ],
      "metadata": {
        "colab": {
          "base_uri": "https://localhost:8080/"
        },
        "id": "OL9MX559JrNj",
        "outputId": "d6c25d8b-fd76-4f52-dd28-f2868a66059a"
      },
      "execution_count": null,
      "outputs": [
        {
          "output_type": "stream",
          "name": "stdout",
          "text": [
            "톰's health is at 100\n",
            "제리's health is at 100\n",
            "톰 says Meow~\n",
            "제리 says Squeak!\n",
            "톰's health is at 80\n",
            "제리's health is at 90\n"
          ]
        }
      ]
    },
    {
      "cell_type": "code",
      "source": [
        "# 그냥 print하면 이처럼 object의 정보가 출력됨.\n",
        "print(tom)"
      ],
      "metadata": {
        "colab": {
          "base_uri": "https://localhost:8080/"
        },
        "id": "z502yybcMJRm",
        "outputId": "e0e28018-aaf0-4c04-fa4e-0e61c2b7b071"
      },
      "execution_count": null,
      "outputs": [
        {
          "output_type": "stream",
          "name": "stdout",
          "text": [
            "<animal.Cat object at 0x7fc29fccf850>\n"
          ]
        }
      ]
    },
    {
      "cell_type": "code",
      "source": [
        "# __str__() method를 만들어서 print()에서 원하는 정보가 출력되도록 할 수 있음.\n",
        "import animal\n",
        "tom = animal.Cat(\"톰\")\n",
        "jerry = animal.Mouse(\"제리\")\n",
        "print(tom)\n",
        "print(jerry)\n",
        "tom.slash(jerry)\n",
        "jerry.train()\n",
        "jerry.train()\n",
        "jerry.train()\n",
        "jerry.bite(tom)\n",
        "print(tom)\n",
        "print(jerry)\n"
      ],
      "metadata": {
        "colab": {
          "base_uri": "https://localhost:8080/"
        },
        "id": "IEG5uWQHML5H",
        "outputId": "6d4ff5ba-d420-46a4-f2c1-29468099b2d7"
      },
      "execution_count": null,
      "outputs": [
        {
          "output_type": "stream",
          "name": "stdout",
          "text": [
            "name = 톰, species = Cat, HP = 100\n",
            "name = 제리, species = Mouse, HP = 100\n",
            "톰 says Meow~\n",
            "제리 says Squeak!\n",
            "name = 톰, species = Cat, HP = 80\n",
            "name = 제리, species = Mouse, HP = 90\n"
          ]
        }
      ]
    },
    {
      "cell_type": "code",
      "source": [
        "# __add__() 정의\n",
        "import animal\n",
        "tom = animal.Cat(\"톰\")\n",
        "jerry = animal.Mouse(\"제리\")\n",
        "tom + jerry\n",
        "print(tom)\n",
        "print(jerry)"
      ],
      "metadata": {
        "colab": {
          "base_uri": "https://localhost:8080/"
        },
        "id": "jfMPFz6_NNeh",
        "outputId": "f610d8ea-8451-404c-be85-9c718e3137bd"
      },
      "execution_count": null,
      "outputs": [
        {
          "output_type": "stream",
          "name": "stdout",
          "text": [
            "name = 톰, species = Cat, HP = 105\n",
            "name = 제리, species = Mouse, HP = 105\n"
          ]
        }
      ]
    },
    {
      "cell_type": "code",
      "source": [
        "# __sub__() 정의\n",
        "import animal\n",
        "tom = animal.Cat(\"톰\")\n",
        "jerry = animal.Mouse(\"제리\")\n",
        "tom - jerry\n",
        "print(tom)\n",
        "print(jerry)"
      ],
      "metadata": {
        "colab": {
          "base_uri": "https://localhost:8080/"
        },
        "id": "iPyiOLwYOPrt",
        "outputId": "789d0e16-e83c-4b0d-f7c1-f1af35b3c31a"
      },
      "execution_count": null,
      "outputs": [
        {
          "output_type": "stream",
          "name": "stdout",
          "text": [
            "name = 톰, species = Cat, HP = 95\n",
            "name = 제리, species = Mouse, HP = 100\n"
          ]
        }
      ]
    },
    {
      "cell_type": "code",
      "source": [
        "# __mul__() 정의. 이 경우에 반환값을 이용하므로 return을 한다는 점에 주의.\n",
        "import animal\n",
        "tom = animal.Cat(\"Tom\")\n",
        "jerry = animal.Mouse(\"Jerry\")\n",
        "baby = tom * jerry\n",
        "print(baby)"
      ],
      "metadata": {
        "colab": {
          "base_uri": "https://localhost:8080/"
        },
        "id": "kkbDmTifPqQ0",
        "outputId": "2bbce500-e129-42b6-f7fa-341f4c7134d1"
      },
      "execution_count": null,
      "outputs": [
        {
          "output_type": "stream",
          "name": "stdout",
          "text": [
            "Breeded Tom, Jerry\n",
            "name = Tory, species = Cat, HP = 100\n"
          ]
        }
      ]
    },
    {
      "cell_type": "code",
      "source": [
        "# Cat이지만 Squeak! 소리를 내는 혼종\n",
        "baby.speak()"
      ],
      "metadata": {
        "colab": {
          "base_uri": "https://localhost:8080/"
        },
        "id": "7ypFwYqKP2CG",
        "outputId": "8e4d3afe-2a67-44cd-807b-0e10bc6e33fe"
      },
      "execution_count": null,
      "outputs": [
        {
          "output_type": "stream",
          "name": "stdout",
          "text": [
            "Tory says Squeak!\n"
          ]
        }
      ]
    },
    {
      "cell_type": "code",
      "source": [
        "baby2 = jerry * tom\n",
        "print(baby2)"
      ],
      "metadata": {
        "colab": {
          "base_uri": "https://localhost:8080/"
        },
        "id": "unePccZuP-fY",
        "outputId": "69ac0c69-c608-4bb8-ef6b-1adde04dfe5e"
      },
      "execution_count": null,
      "outputs": [
        {
          "output_type": "stream",
          "name": "stdout",
          "text": [
            "Breeded Jerry, Tom\n",
            "name = Jeom, species = Mouse, HP = 100\n"
          ]
        }
      ]
    },
    {
      "cell_type": "code",
      "source": [
        "# Mouse이지만 Mewo~소리를 내는 혼종\n",
        "baby2.speak()"
      ],
      "metadata": {
        "colab": {
          "base_uri": "https://localhost:8080/"
        },
        "id": "t08NIayjQFAn",
        "outputId": "18526e21-56a6-407e-edc6-d71914fc6823"
      },
      "execution_count": null,
      "outputs": [
        {
          "output_type": "stream",
          "name": "stdout",
          "text": [
            "Jeom says Meow~\n"
          ]
        }
      ]
    },
    {
      "cell_type": "code",
      "source": [],
      "metadata": {
        "id": "4-J6NtdcQIVp"
      },
      "execution_count": null,
      "outputs": []
    }
  ]
}