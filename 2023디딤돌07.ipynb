{
  "nbformat": 4,
  "nbformat_minor": 0,
  "metadata": {
    "colab": {
      "provenance": [],
      "authorship_tag": "ABX9TyPho5k2M4Gbo7ueO2WAzUtw",
      "include_colab_link": true
    },
    "kernelspec": {
      "name": "python3",
      "display_name": "Python 3"
    },
    "language_info": {
      "name": "python"
    }
  },
  "cells": [
    {
      "cell_type": "markdown",
      "metadata": {
        "id": "view-in-github",
        "colab_type": "text"
      },
      "source": [
        "<a href=\"https://colab.research.google.com/github/mahlernim/ama484_2023_python_course/blob/main/2023%EB%94%94%EB%94%A4%EB%8F%8C07.ipynb\" target=\"_parent\"><img src=\"https://colab.research.google.com/assets/colab-badge.svg\" alt=\"Open In Colab\"/></a>"
      ]
    },
    {
      "cell_type": "code",
      "execution_count": null,
      "metadata": {
        "colab": {
          "base_uri": "https://localhost:8080/"
        },
        "id": "QTXa5NApxlbr",
        "outputId": "a408b298-9f66-48ae-8d16-4d7c10d96a1e"
      },
      "outputs": [
        {
          "output_type": "stream",
          "name": "stderr",
          "text": [
            "/usr/local/lib/python3.9/dist-packages/urllib3/connectionpool.py:1045: InsecureRequestWarning: Unverified HTTPS request is being made to host 'www.inje.ac.kr'. Adding certificate verification is strongly advised. See: https://urllib3.readthedocs.io/en/1.26.x/advanced-usage.html#ssl-warnings\n",
            "  warnings.warn(\n"
          ]
        }
      ],
      "source": [
        "# requests를 이용해 웹페이지 html 자료 가져오기\n",
        "# SSL 인증서에 문제가 있는 경우 verify=False 매개변수가 필요요\n",
        "import requests\n",
        "url = \"https://www.inje.ac.kr/kor/Template/Bsub_page.asp?Ldir=board/S_Food&Lpage=s_food_view\"\n",
        "response = requests.get(url, verify=False)\n",
        "page = response.text"
      ]
    },
    {
      "cell_type": "code",
      "source": [
        "# 웹페이지를 브라우저에서 그리는데 필요한 html 내용용\n",
        "page"
      ],
      "metadata": {
        "colab": {
          "base_uri": "https://localhost:8080/",
          "height": 236
        },
        "id": "JVMLnjsB1d1b",
        "outputId": "e3c41d47-a367-4a2e-f9b2-88d731f9729a"
      },
      "execution_count": null,
      "outputs": [
        {
          "output_type": "execute_result",
          "data": {
            "text/plain": [
              "'\\r\\n<!DOCTYPE html>\\r\\n<html lang=\"ko\">\\r\\n<head>\\r\\n<meta http-equiv=\"X-UA-Compatible\" content=\"IE=Edge\" />\\r\\n<meta charset=\"utf-8\" />\\r\\n<!--<meta name=\"robots\" content=\"noindex, nofollow\" />-->\\r\\n<meta http-equiv=\"Cache-Control\" content=\"no-cache\" />\\r\\n<meta name=\"robots\" content=\"ALL\" />\\r\\n<meta name=\"viewport\" content=\"width=device-width, initial-scale=1.0, minimum-scale=1.0, maximum-scale-1.0, user-scalable=no\" />\\r\\n<meta name=\"keywords\" content=\"인제대학교\" />\\r\\n<meta name=\"description\" content=\"인제대학교\" />\\r\\n\\r\\n<!-- Global site tag (gtag.js) - Google Analytics -->\\r\\n<script async src=\"https://www.googletagmanager.com/gtag/js?id=UA-150722553-1\"></script>\\r\\n<script>\\r\\n  window.dataLayer = window.dataLayer || [];\\r\\n  function gtag(){dataLayer.push(arguments);}\\r\\n  gtag(\\'js\\', new Date());\\r\\n\\r\\n  gtag(\\'config\\', \\'UA-150722553-1\\');\\r\\n</script>\\r\\n\\r\\n<link rel=\"apple-touch-icon\" href=\"/kor/assets/images/common/favicon.png\" />\\r\\n<link rel=\"shortcut icon\" href=\"/kor/assets/images/common/favicon.ico\" />\\r\\n<title> | 인제대학교</title>\\r\\n<link rel=\"stylesheet\" href=\"../assets/css/common.css\" />\\r\\n<link rel=\"stylesheet\" href=\"../assets/css/library.css\"/>\\r\\n\\r\\n<link rel=\"stylesheet\" href=\"../assets/css/sub.css?v=1\"/>\\r\\n\\r\\n<link rel=\"stylesheet\" href=\"/kor/assets/js/jquery-ui-themes-1.12.1/themes/base/jquery-ui.css\" />\\r\\n<script src=\"/kor/assets/js/jquery-1.11.2.min.js\"></script>\\r\\n<script src=\"/js/jquery-ui-1.11.2/jquery-ui.js\"></script> \\r\\n</head>\\r\\n\\r\\n<body>\\r\\n\\r\\n<h1 class=\"offscreen\">인제대학교</h1>\\r\\n<div id=\"skip-navigation\">\\r\\n    <a href=\"#container\">본문 바로가기</a>\\r\\n    <a href=\"#lnb\">주메뉴 바로가기</a>\\r\\n</div>\\r\\n\\r\\n<header>\\r\\n\\t<!-- 최상단 메뉴 -->\\r\\n\\t<div class=\"hearderTop\">\\r\\n\\t\\t<div>\\r\\n\\t\\t\\t<ul class=\"topGnb\">\\r\\n\\t\\t\\t\\t<li class=\"eng\"><a href=\"//www.inje.ac.kr/english/\" target=\"_blank\" title=\"새 창 열림\">ENG</a></li><!--\\r\\n                --><li class=\"chn\"><a href=\"//www.inje.ac.kr/chiness/\" target=\"_blank\" title=\"새 창 열림\">中文</a></li><!--\\r\\n\\t\\t\\t\\r\\n\\t\\t\\t\\t--><li class=\"mem\">\\r\\n\\t\\t\\t\\t\\t<a href=\"../etc/login.asp\" title=\"로그인 바로가기\"><i class=\"i-login\"></i></a>\\r\\n\\t\\t\\t\\t</li><!--\\r\\n\\t\\t\\t\\r\\n\\t\\t\\t\\t--><li><a class=\"btnSearch\"><i class=\"i-searchW\"></i></a></li><!--\\r\\n\\t\\t\\t\\t--><li><a href=\"../main/sitemap.asp\" title=\"사이트맵 바로가기\"><i class=\"i-sitemap\"></i></a></li>\\r\\n\\t\\t\\t</ul>\\r\\n\\t\\t</div>\\r\\n\\t</div>\\r\\n\\t<div class=\"headerSearchBox\">\\r\\n\\t\\t<form method=\"post\" action=\"../Template/Bsub_page.asp?Ltype=5&Ltype2=4&Ltype3=1&Tname=S_IntroSearch&Ldir=board/S_IntroSearch&Lpage=Tboard_L&SearchKey=all&d1n=5&d2n=5&d3n=0&d4n=0\">\\r\\n\\t\\t\\t<fieldset>\\r\\n\\t\\t\\t\\t<legend>통합검색</legend>\\r\\n\\t\\t\\t\\t<label><input type=\"text\" name=\"SearchText\" id=\"SearchText\" class=\"textSrc\" title=\"검색어를 입력해주세요\" placeholder=\"검색어를 입력해주세요\" maxlength=\"50\" /></label>\\r\\n\\t\\t\\t\\t<input type=\"submit\" class=\"btnSrc\" value=\"검색\" />\\r\\n\\t\\t\\t</fieldset>\\r\\n\\t\\t</form>\\r\\n\\t\\t<a class=\"clsSearchBtn\"></a>\\r\\n\\t</div>\\r\\n\\t\\r\\n\\t<div class=\"mainHeader\">\\r\\n\\t\\t<!-- 로고 -->\\r\\n\\t\\t<div class=\"logo\">\\r\\n\\t\\t\\t<a href=\"../main/main.asp\" title=\"인제대학교\"></a>\\r\\n\\t\\t</div>\\r\\n\\t\\t<!-- //로고 -->\\r\\n\\t\\t\\r\\n\\t\\t<div class=\"menuConts\">\\r\\n\\t\\t\\t<!-- 메인메뉴 -->\\r\\n\\t\\t\\t<ul class=\"mainGnbMn\">\\r\\n\\t<div class=\"mobileMnHead\">\\r\\n\\t\\t<a class=\"moLogo\" href=\"\" title=\"인제대학교\"></a>\\r\\n\\t\\t<ul class=\"moTopGnb\">\\r\\n\\t\\t\\t<li class=\"eng\"><a href=\"//www.inje.ac.kr/english/\" target=\"_blank\" title=\"새 창 열림\">ENG</a></li>\\r\\n\\t\\t\\t<li class=\"chn\"><a href=\"//www.inje.ac.kr/chiness/\" target=\"_blank\" title=\"새 창 열림\">中文</a></li>\\r\\n\\t\\t\\t<li class=\"mem\">\\r\\n\\t\\t\\t\\r\\n\\t\\t\\t\\t<a href=\"../etc/login.asp\" title=\"로그인 바로가기\"><i class=\"i-login\"></i></a>\\r\\n\\t\\t\\t\\r\\n\\t\\t\\t</li>\\r\\n\\t\\t</ul>\\r\\n\\t\\t<a class=\"closeMoMenu\"></a>\\r\\n\\t</div>\\r\\n\\t<!-- 메뉴 01 -->\\r\\n\\t<li class=\"mainMn mainMn01 \"><a class=\"dep01Mn\"><span>대학소개</span><div class=\"openSubMn\"></div></a>\\r\\n\\t\\t<div class=\"subMn subMn01\">\\r\\n\\t\\t\\t<div class=\"subGnbMn\">\\r\\n\\t\\t\\t\\t<div class=\"title\">대학소개</div>\\r\\n\\t\\t\\t\\t<div class=\"list\">\\r\\n\\t\\t\\t\\t\\t<dl>\\r\\n\\t\\t\\t\\t\\t\\t<dt class=\"\"><a href=\\'../about-inje/chairman.asp\\'>학교법인</a><div class=\"openSubMn2\"></div></dt>\\r\\n\\t\\t\\t\\t\\t\\t<dd>\\r\\n\\t\\t\\t\\t\\t\\t\\t<ul>\\r\\n\\t\\t\\t\\t\\t\\t\\t\\t<li class=\"\"><a href=\\'../about-inje/chairman.asp\\'>이사장소개</a></li>\\r\\n\\t\\t\\t\\t\\t\\t\\t\\t<li class=\"current\"><a href=\\'../about-inje/officers-status.asp\\'>임원현황</a></li>\\r\\n\\t\\t\\t\\t\\t\\t\\t\\t<li class=\"\"><a href=\\'../Template/Bsub_page.asp?LType=1&LType2=0&LType3=2&Tname=S_FoundNotice&Ldir=board/s_class&Lpage=Tboard_L&d1n=1&d2n=1&d3n=3&d4n=1\\'>이사회</a></li>\\r\\n\\t\\t\\t\\t\\t\\t\\t\\t<li class=\"\"><a href=\\'../about-inje/K-eco.asp\\'>안전경영</a></li>\\r\\n\\t\\t\\t\\t\\t\\t\\t</ul>\\r\\n\\t\\t\\t\\t\\t\\t</dd>\\r\\n\\t\\t\\t\\t\\t</dl>\\r\\n\\t\\t\\t\\t\\t<dl>\\r\\n\\t\\t\\t\\t\\t\\t<dt class=\"\"><a href=\\'../about-inje/president.asp\\'>총장실</a><div class=\"openSubMn2\"></div></dt>\\r\\n\\t\\t\\t\\t\\t\\t<dd>\\r\\n\\t\\t\\t\\t\\t\\t\\t<ul>\\r\\n\\t\\t\\t\\t\\t\\t\\t\\t<li class=\"\"><a href=\\'../about-inje/president.asp\\'>총장인사</a></li>\\r\\n\\t\\t\\t\\t\\t\\t\\t\\t<li class=\"\"><a href=\\'../about-inje/presidents-of-inje.asp\\'>역대총장</a></li>\\r\\n\\t\\t\\t\\t\\t\\t\\t\\t<li class=\"\"><a href=\\'../about-inje/e-people.asp\\'>온라인신문고(공익제보)</a></li>\\r\\n\\t\\t\\t\\t\\t\\t\\t</ul>\\r\\n\\t\\t\\t\\t\\t\\t</dd>\\r\\n\\t\\t\\t\\t\\t</dl>\\r\\n\\t\\t\\t\\t\\t<dl>\\r\\n\\t\\t\\t\\t\\t\\t<dt class=\"\"><a href=\\'../about-inje/philosophy.asp\\'>대학이념</a><div class=\"openSubMn2\"></div></dt>\\r\\n\\t\\t\\t\\t\\t</dl>\\r\\n\\t\\t\\t\\t\\t<dl>\\r\\n\\t\\t\\t\\t\\t\\t<dt class=\"\"><a href=\\'../about-inje/vision-1.asp\\'>인제비전</a><div class=\"openSubMn2\"></div></dt>\\r\\n\\t\\t\\t\\t\\t\\t<dd>\\r\\n\\t\\t\\t\\t\\t\\t\\t<ul>\\r\\n\\t\\t\\t\\t\\t\\t\\t\\t<li class=\"\"><a href=\\'../about-inje/vision-1.asp\\'>중장기 발전계획 및 비전</a></li>\\r\\n\\t\\t\\t\\t\\t\\t\\t\\t<li class=\"current\"><a href=\\'../about-inje/vision-2.asp\\'>인재상과 핵심역량</a></li>\\r\\n\\t\\t\\t\\t\\t\\t\\t</ul>\\r\\n\\t\\t\\t\\t\\t\\t</dd>\\r\\n\\t\\t\\t\\t\\t</dl>\\r\\n\\t\\t\\t\\t\\t<dl>\\r\\n\\t\\t\\t\\t\\t\\t<dt class=\"\"><a href=\\'../about-inje/history.asp\\'>연혁</a><div class=\"openSubMn2\"></div></dt></dl>\\r\\n\\t\\t\\t\\t\\t<dl>\\r\\n\\t\\t\\t\\t\\t\\t<dt class=\"\"><a href=\\'../about-inje/ui.asp\\'>인제상징</a><div class=\"openSubMn2\"></div></dt>\\r\\n\\t\\t\\t\\t\\t\\t<dd>\\r\\n\\t\\t\\t\\t\\t\\t\\t<ul>\\r\\n\\t\\t\\t\\t\\t\\t\\t\\t<li class=\"\"><a href=\\'../about-inje/ui.asp\\'>인제대 UI</a></li>\\r\\n\\t\\t\\t\\t\\t\\t\\t\\t<li class=\"current\"><a href=\\'../about-inje/school-song.asp\\'>교가</a></li>\\r\\n\\t\\t\\t\\t\\t\\t\\t\\t<li class=\"\"><a href=\\'../about-inje/symbols.asp\\'>인제상징물</a></li>\\r\\n\\t\\t\\t\\t\\t\\t\\t\\t<li class=\"\"><a href=\\'../about-inje/mascot.asp\\'>인제대 캐릭터</a></li>\\r\\n\\t\\t\\t\\t\\t\\t\\t</ul>\\r\\n\\t\\t\\t\\t\\t\\t</dd>\\r\\n\\t\\t\\t\\t\\t</dl>\\r\\n\\t\\t\\t\\t\\t<dl>\\r\\n\\t\\t\\t\\t\\t\\t<dt class=\"\"><a href=\\'../about-inje/organization.asp\\'>대학기구</a></dt>\\r\\n\\t\\t\\t\\t\\t</dl>\\r\\n\\t\\t\\t\\t\\t<dl>\\r\\n\\t\\t\\t\\t\\t\\t<dt class=\"current\"><a href=\\'../about-inje/members.asp\\'>대학현황</a><div class=\"openSubMn2\"></div></dt>\\r\\n\\t\\t\\t\\t\\t\\t<dd>\\r\\n\\t\\t\\t\\t\\t\\t\\t<ul>\\r\\n\\t\\t\\t\\t\\t\\t\\t\\t<li class=\"\"><a href=\\'../about-inje/members.asp\\'>구성원 및 그외현황</a></li>\\r\\n\\t\\t\\t\\t\\t\\t\\t\\t<li class=\"current\"><a href=\\'../about-inje/tracking-students.asp\\'>교류현황</a></li>\\r\\n\\t\\t\\t\\t\\t\\t\\t\\t<li class=\"\"><a href=\\'../about-inje/business-1.asp\\'>사업 및 교육역량</a></li>\\r\\n\\t\\t\\t\\t\\t\\t\\t\\t<li class=\"\"><a href=\"https://rule.inje.ac.kr\" target=\"_blank\" title=\"새 창 열림\"><span class=\"img-tiny ex-link4\">규정집서비스</span></a></li>\\r\\n\\t\\t\\t\\t\\t\\t\\t\\t<li class=\"\"><a href=\\'../Template/Bsub_page.asp?Ltype=1&Ltype2=4&Ltype3=4&Tname=S_Money&Ldir=board/S_Money&Lpage=Tboard_Report&d1n=1&d2n=5&d3n=5&d4n=0\\'>예결산공고</a></li>\\r\\n\\t\\t\\t\\t\\t\\t\\t\\t<li class=\"\"><a href=\\'../Template/Bsub_page.asp?Ltype=1&Ltype2=4&Ltype3=9&Tname=presidentBusiness&Ldir=board/s_class&Lpage=Tboard_L&d1n=1&d2n=5&d3n=9&d4n=0\\'>총장 업무추진비</a></li> \\r\\n\\t\\t\\t\\t\\t\\t\\t\\t<li class=\"\"><a href=\\'../Template/Bsub_page.asp?Ltype=1&Ltype2=4&Ltype3=5&Tname=S_RegentHouseNotice&Ldir=board/s_class&Lpage=Tboard_L&d1n=1&d2n=5&d3n=7&d4n=1\\'>대학평의원회</a></li>\\r\\n\\t\\t\\t\\t\\t\\t\\t\\t<li class=\"\"><a href=\\'../Template/Bsub_page.asp?Ltype=1&Ltype2=4&Ltype3=5&Tname=S_TuitionNotice&Ldir=board/S_Class&Lpage=Tboard_L&d1n=1&d2n=5&d3n=6&d4n=1\\'>등록금심의위원회</a></li>\\r\\n\\t\\t\\t\\t\\t\\t\\t\\t<li class=\"\"><a href=\\'../about-inje/pledge-1.asp\\'>대학성과</a></li>\\r\\n\\t\\t\\t\\t\\t\\t\\t</ul>\\r\\n\\t\\t\\t\\t\\t\\t</dd>\\r\\n\\t\\t\\t\\t\\t</dl>\\r\\n\\t\\t\\t\\t\\t<dl>\\r\\n\\t\\t\\t\\t\\t\\t<dt class=\"\"><a href=\\'../about-inje/gimhae-campus.asp\\'>캠퍼스안내</a><div class=\"openSubMn2\"></div></dt>\\r\\n\\t\\t\\t\\t\\t\\t<dd>\\r\\n\\t\\t\\t\\t\\t\\t\\t<ul>\\r\\n\\t\\t\\t\\t\\t\\t\\t\\t<li class=\"\"><a href=\\'../about-inje/gimhae-campus.asp\\'>찾아오시는 길</a></li>\\r\\n\\t\\t\\t\\t\\t\\t\\t\\t<li class=\"current\"><a href=\\'../about-inje/campus-map.asp\\'>캠퍼스지도</a></li>\\r\\n\\t\\t\\t\\t\\t\\t\\t\\t<li class=\"\"><a href=\\'../Template/Bsub_page.asp?Ltype=1&Ltype2=5&Ltype3=2&Tname=S_movie&Ldir=board/S_movie&Lpage=Tboard_L&d1n=1&d2n=6&d3n=3&d4n=0\\'>인제홍보영상</a></li>\\r\\n\\t\\t\\t\\t\\t\\t\\t\\t <li class=\"\"><a href=\\'../about-inje/work-guide.asp\\'>행정기관 업무&middot;전화 안내</a></li>\\r\\n\\t\\t\\t\\t\\t\\t\\t\\t<li class=\"\"><a href=\\'../Template/Bsub_page.asp?Ltype=1&Ltype2=5&Ltype3=5&Tname=S_Phone&Ldir=board/S_Phone&Lpage=phone&d1n=1&d2n=6&d3n=6&d4n=0\\'>전화번호 및 인명 검색</a></li>\\r\\n\\t\\t\\t\\t\\t\\t\\t\\t <li class=\"\"><a href=\\'../about-inje/smoking-area.asp\\'>교내 흡연 구역</a></li>\\r\\n\\t\\t\\t\\t\\t\\t\\t</ul>\\r\\n\\t\\t\\t\\t\\t\\t</dd>\\r\\n\\t\\t\\t\\t\\t</dl>\\r\\n\\t\\t\\t\\t</div>\\r\\n\\t\\t\\t</div>\\r\\n\\t\\t</div>\\r\\n    </li>\\r\\n\\r\\n\\r\\n\\r\\n\\t<!-- 메뉴 02 -->\\r\\n\\t<li class=\"mainMn mainMn02 \"><a class=\"dep01Mn\" ><span>대학 <b>&middot;</b> 대학원</span><div class=\"openSubMn\"></div></a>\\r\\n\\t\\t<div class=\"subMn subMn02\">\\r\\n\\t\\t\\t<div class=\"subGnbMn\">\\r\\n\\t\\t\\t\\t<div class=\"title\">대학 <b>&middot;</b> 대학원</div>\\r\\n\\t\\t\\t\\t<div class=\"list\">\\r\\n\\t\\t\\t\\t\\t<dl>\\r\\n\\t\\t\\t\\t\\t\\t<!-- 대학 -->\\r\\n\\t\\t\\t\\t\\t\\t<dt class=\"\"><a href=\\'../academics/academics-new.asp\\'>대학</a><div class=\"openSubMn2\"></div></dt>\\r\\n\\t\\t\\t\\t\\t\\t<dd>\\r\\n\\t\\t\\t\\t\\t\\t\\t<ul>\\r\\n\\t\\t\\t\\t\\t\\t\\t\\t<li class=\"\"><a href=\\'../academics/academics-new.asp\\'>대학안내(2024학년도 모집단위)</a></li>\\r\\n\\t\\t\\t\\t\\t\\t\\t\\t<li class=\"current\"><a href=\\'../academics/academics.asp\\'>대학안내(2023학년도)</a></li>\\r\\n\\t\\t\\t\\t\\t\\t\\t</ul>\\r\\n\\t\\t\\t\\t\\t\\t</dd>\\r\\n\\t\\t\\t\\t\\t</dl>\\r\\n\\t\\t\\t\\t\\t<dl>\\r\\n\\t\\t\\t\\t\\t\\t<!-- 대학원 -->\\r\\n\\t\\t\\t\\t\\t\\t<dt class=\"\"><a href=\\'../academics/graduate.asp\\'>대학원</a></dt>\\r\\n\\t\\t\\t\\t\\t</dl>\\r\\n\\t\\t\\t\\t</div>\\r\\n\\t\\t\\t</div>\\r\\n\\t\\t</div>\\r\\n    </li>\\r\\n\\t\\r\\n\\t\\r\\n\\r\\n\\t<!-- 메뉴 03 -->\\r\\n\\t<li class=\"mainMn mainMn03 \"><a class=\"dep01Mn\"><span>입학정보</span><div class=\"openSubMn\"></div></a>\\r\\n\\t\\t<div class=\"subMn subMn03\">\\r\\n\\t\\t\\t<div class=\"subGnbMn\">\\r\\n\\t\\t\\t\\t<div class=\"title\">입학정보</div>\\r\\n\\t\\t\\t\\t<div class=\"list\">\\r\\n\\t\\t\\t\\t\\t<dl>\\r\\n\\t\\t\\t\\t\\t\\t<dt class=\"\"><a href=\"https://iphak.inje.ac.kr/\" target=\"_blank\" title=\"새 창 열림\"><span class=\"img-tiny ex-link3\">대학입학</span></a></dt>\\r\\n\\t\\t\\t\\t\\t</dl>\\r\\n\\t\\t\\t\\t\\t<dl>\\r\\n\\t\\t\\t\\t\\t\\t<dt class=\"\"><a href=\\'../admission/graduate-01.asp\\'>대학원입학</a></dt>\\r\\n\\t\\t\\t\\t\\t</dl>\\r\\n\\t\\t\\t\\t\\t<dl>\\r\\n\\t\\t\\t\\t\\t\\t<dt class=\"\"><a href=\"https://oia.inje.ac.kr/학부생/\" target=\"_blank\" title=\"새 창 열림\"><span class=\"img-tiny ex-link3\">외국인입학</span></a></dt>\\r\\n\\t\\t\\t\\t\\t</dl>\\r\\n\\t\\t\\t\\t\\t<dl>\\r\\n\\t\\t\\t\\t\\t\\t<dt class=\"\"><a href=\\'../admission/education.asp\\'>교육기관</a></dt>\\r\\n\\t\\t\\t\\t\\t\\t<dd>\\r\\n\\t\\t\\t\\t\\t\\t\\t<ul>\\r\\n\\t\\t\\t\\t\\t\\t\\t\\t<li class=\"\"><a href=\"https://korean.inje.ac.kr\" target=\"_blank\" title=\"새 창 열림\"><span class=\"img-tiny ex-link4\">언어&middot;문화교육(한국어문화교육원)</span></a></li>\\r\\n\\t\\t\\t\\t\\t\\t\\t\\t<li class=\"current\"><a href=\"https://soc.inje.ac.kr\" target=\"_blank\" title=\"새 창 열림\"><span class=\"img-tiny ex-link4\">평생교육(미래교육원)</span></a></li>\\r\\n\\t\\t\\t\\t\\t\\t\\t</ul>\\r\\n\\t\\t\\t\\t\\t\\t</dd>\\r\\n\\t\\t\\t\\t\\t</dl>\\r\\n\\t\\t\\t\\t</div>\\r\\n\\t\\t\\t</div>\\r\\n\\t\\t</div>\\r\\n    </li>\\r\\n\\t\\r\\n\\t\\r\\n\\r\\n\\t<!-- 메뉴 04 -->\\r\\n\\t<li class=\"mainMn mainMn04 \"><a class=\"dep01Mn\"><span>캠퍼스생활</span><div class=\"openSubMn\"></div></a>\\r\\n\\t\\t<div class=\"subMn subMn04\">\\r\\n\\t\\t\\t<div class=\"subGnbMn\">\\r\\n\\t\\t\\t\\t<div class=\"title\">캠퍼스생활</div>\\r\\n\\t\\t\\t\\t<div class=\"list\">\\r\\n\\t\\t\\t\\t\\t<dl>\\r\\n\\t\\t\\t\\t\\t\\t<dt class=\"\"><a href=\\'../Template/Bsub_page.asp?Ltype=4&Ltype2=0&Ltype3=2&Tname=S_Form&Ldir=board/S_Form&Lpage=Tboard_L&d1n=4&d2n=1&d3n=3&d4n=0\\'>Help Desk</a><div class=\"openSubMn2\"></div></dt>\\r\\n\\t\\t\\t\\t\\t\\t<dd>\\r\\n\\t\\t\\t\\t\\t\\t\\t<ul>\\r\\n\\t\\t\\t\\t\\t\\t\\t\\t<li class=\"\"><a href=\"https://www.inje.ac.kr/sotong/board/list.asp?m=4\" target=\"_blank\" title=\"새 창 열림\"><span class=\"img-tiny ex-link4\">자주묻는질문(FAQ)</span></a></li>\\r\\n\\t\\t\\t\\t\\t\\t\\t\\t<li class=\"current\"><a href=\"https://www.inje.ac.kr/sotong/board/list.asp?m=2\" target=\"_blank\" title=\"새 창 열림\"><span class=\"img-tiny ex-link4\">행정Q&amp;A</span></a></li>\\r\\n\\t\\t\\t\\t\\t\\t\\t\\t<li class=\"\"><a href=\\'../Template/Bsub_page.asp?Ltype=4&Ltype2=0&Ltype3=2&Tname=S_Form&Ldir=board/S_Form&Lpage=Tboard_L&d1n=4&d2n=1&d3n=3&d4n=0\\'>각종서류양식(학생용)</a></li>\\r\\n\\t\\t\\t\\t\\t\\t\\t\\t <li class=\"\"><a href=\\'../Template/Bsub_page.asp?Tname=S_rejectrequest&Ldir=board/S_Class&Lpage=Tboard_L&d1n=4&d2n=1&d3n=4&d4n=0\\'>청탁금지법 관련 게시판</a></li>\\r\\n\\t\\t\\t\\t\\t\\t\\t\\t <li class=\"\"><a href=\\'../Template/Bsub_page.asp?Tname=S_declare&Ldir=board/S_Declare&Lpage=Tboard_Guide&d1n=4&d2n=1&d3n=5&d4n=0\\'>수업 신문고</a></li>\\r\\n\\t\\t\\t\\t\\t\\t\\t</ul>\\r\\n\\t\\t\\t\\t\\t\\t</dd>\\r\\n\\t\\t\\t\\t\\t</dl>\\r\\n\\t\\t\\t\\t\\t<dl>\\r\\n\\t\\t\\t\\t\\t\\t<dt class=\"\"><a href=\\'../Template/Bsub_page.asp?Ltype=4&Ltype2=1&Ltype3=0&Tname=S_Schedule&Ldir=board/S_Schedule&Lpage=Tboard_L&d1n=4&d2n=2&d3n=1&d4n=1\\'>학사안내</a><div class=\"openSubMn2\"></div></dt>\\r\\n\\t\\t\\t\\t\\t\\t<dd>\\r\\n\\t\\t\\t\\t\\t\\t\\t<ul>\\r\\n\\t\\t\\t\\t\\t\\t\\t\\t<li class=\"\"><a href=\\'../Template/Bsub_page.asp?Ltype=4&Ltype2=1&Ltype3=0&Tname=S_Schedule&Ldir=board/S_Schedule&Lpage=Tboard_L&d1n=4&d2n=2&d3n=1&d4n=1\\'>학사일정</a></li>\\r\\n\\t\\t\\t\\t\\t\\t\\t\\t<li class=\"current\"><a href=\\'../campus-life/guide-0201.asp\\'>등록</a></li>\\r\\n\\t\\t\\t\\t\\t\\t\\t\\t<li class=\"\"><a href=\\'../campus-life/guide-0301.asp\\'>휴학</a></li>\\r\\n\\t\\t\\t\\t\\t\\t\\t\\t<li class=\"\"><a href=\\'../campus-life/guide-04.asp\\'>복학</a></li>\\r\\n\\t\\t\\t\\t\\t\\t\\t\\t<li class=\"\"><a href=\\'../campus-life/guide-05.asp\\'>재입학</a></li>\\r\\n\\t\\t\\t\\t\\t\\t\\t\\t<li class=\"\"><a href=\\'../campus-life/guide-0601.asp\\'>제적/자퇴</a></li>\\r\\n\\t\\t\\t\\t\\t\\t\\t\\t<li class=\"\"><a href=\\'../campus-life/guide-07.asp\\'>전과</a></li>\\r\\n\\t\\t\\t\\t\\t\\t\\t\\t<li class=\"\"><a href=\\'../campus-life/guide-08.asp\\'>전공결정</a></li>\\r\\n\\t\\t\\t\\t\\t\\t\\t\\t<li class=\"\"><a href=\\'../campus-life/guide-0901.asp\\'>제2전공</a></li>\\r\\n\\t\\t\\t\\t\\t\\t\\t\\t<li class=\"\"><a href=\\'../campus-life/guide-10.asp\\'>부전공</a></li>\\r\\n\\t\\t\\t\\t\\t\\t\\t\\t<li class=\"\"><a href=\\'../campus-life/guide-11.asp\\'>학점포기제</a></li>\\r\\n\\t\\t\\t\\t\\t\\t\\t\\t<li class=\"\"><a href=\\'../campus-life/guide-1201.asp\\'>학점인정</a></li>\\r\\n\\t\\t\\t\\t\\t\\t\\t\\t<li class=\"\"><a href=\\'../campus-life/guide-1301.asp\\'>졸업/수료</a></li>\\r\\n\\t\\t\\t\\t\\t\\t\\t\\t<li class=\"\"><a href=\\'../campus-life/guide-14.asp\\'>학적부기재사항정정</a></li>\\r\\n\\t\\t\\t\\t\\t\\t\\t\\t<li class=\"\"><a href=\\'../campus-life/guide-1501.asp\\'>교육과정</a></li>\\r\\n\\t\\t\\t\\t\\t\\t\\t\\t<li class=\"\"><a href=\\'../campus-life/guide-1601.asp\\'>수강신청</a></li>\\r\\n\\t\\t\\t\\t\\t\\t\\t\\t<li class=\"\"><a href=\\'../campus-life/guide-17.asp\\'>재수강</a></li>\\r\\n\\t\\t\\t\\t\\t\\t\\t\\t<li class=\"\"><a href=\\'../campus-life/guide-1801.asp\\'>교외가상강좌</a></li>\\r\\n\\t\\t\\t\\t\\t\\t\\t\\t<li class=\"\"><a href=\\'../campus-life/guide-19.asp\\'>계절학기</a></li>\\r\\n\\t\\t\\t\\t\\t\\t\\t\\t<li class=\"\"><a href=\\'../campus-life/guide-2001.asp\\'>시험 및 성적</a></li>\\r\\n\\t\\t\\t\\t\\t\\t\\t\\t<li class=\"\"><a href=\\'../campus-life/guide-2101.asp\\'>스마트출결</a></li>\\r\\n\\t\\t\\t\\t\\t\\t\\t\\t<li class=\"\"><a href=\\'../campus-life/guide-22.asp\\'>공인결석</a></li>\\r\\n\\t\\t\\t\\t\\t\\t\\t\\t<li class=\"\"><a href=\"http://teaching.inje.ac.kr/\" target=\"_blank\" title=\"새 창 열림\"><span class=\"img-tiny ex-link4\">교직과정</span></a></li>\\r\\n\\t\\t\\t\\t\\t\\t\\t</ul>\\r\\n\\t\\t\\t\\t\\t\\t</dd>\\r\\n\\t\\t\\t\\t\\t</dl>\\r\\n\\t\\t\\t\\t\\t<dl>\\r\\n\\t\\t\\t\\t\\t\\t<dt class=\"\"><a href=\\'../campus-life/exchange-01.asp\\'>국제교류안내</a><div class=\"openSubMn2\"></div></dt>\\r\\n\\t\\t\\t\\t\\t\\t<dd>\\r\\n\\t\\t\\t\\t\\t\\t\\t<ul>\\r\\n\\t\\t\\t\\t\\t\\t\\t\\t<li class=\"\"><a href=\\'../campus-life/exchange-01.asp\\'>학생교류</a></li>\\r\\n\\t\\t\\t\\t\\t\\t\\t\\t<li class=\"current\"><a href=\"https://oia.inje.ac.kr/체험수기/\" target=\"_blank\" title=\"새 창 열림\"><span class=\"img-tiny ex-link4\">해외연수체험기</span></a></li>\\r\\n\\t\\t\\t\\t\\t\\t\\t</ul>\\r\\n\\t\\t\\t\\t\\t\\t</dd>\\r\\n\\t\\t\\t\\t\\t</dl>\\r\\n\\t\\t\\t\\t\\t<dl>\\r\\n\\t\\t\\t\\t\\t\\t<dt class=\"\"><a href=\\'../campus-life/activities-01.asp\\'>학생활동</a><div class=\"openSubMn2\"></div></dt>\\r\\n\\t\\t\\t\\t\\t\\t<dd>\\r\\n\\t\\t\\t\\t\\t\\t\\t<ul>\\r\\n\\t\\t\\t\\t\\t\\t\\t\\t<li class=\"\"><a href=\\'../campus-life/activities-01.asp\\'>학생단체</a></li>\\r\\n\\t\\t\\t\\t\\t\\t\\t\\t<li class=\"current\"><a href=\\'../campus-life/activities-0201.asp\\'>동아리활동</a></li>\\r\\n\\t\\t\\t\\t\\t\\t\\t\\t<li class=\"\"><a href=\\'../campus-life/activities-0301.asp\\'>사회봉사활동/캠페인</a></li>\\r\\n\\t\\t\\t\\t\\t\\t\\t</ul>\\r\\n\\t\\t\\t\\t\\t\\t</dd>\\r\\n\\t\\t\\t\\t\\t</dl>\\r\\n\\t\\t\\t\\t\\t<dl>\\r\\n\\t\\t\\t\\t\\t\\t<dt class=\"current\"><a href=\\'../campus-life/military-01.asp\\'>병무안내</a><div class=\"openSubMn2\"></div></dt>\\r\\n\\t\\t\\t\\t\\t\\t<dd>\\r\\n\\t\\t\\t\\t\\t\\t\\t<ul>\\r\\n\\t\\t\\t\\t\\t\\t\\t\\t<li class=\"\"><a href=\\'../campus-life/military-01.asp\\'>학생병무</a></li>\\r\\n\\t\\t\\t\\t\\t\\t\\t\\t<li class=\"current\"><a href=\\'../campus-life/military-02.asp\\'>예비군/대학직장민방위대</a></li>\\r\\n\\t\\t\\t\\t\\t\\t\\t\\t<li class=\"\"><a href=\\'../campus-life/military-03.asp\\'>인제대 학군단(ROTC)</a></li>\\r\\n\\t\\t\\t\\t\\t\\t\\t</ul>\\r\\n\\t\\t\\t\\t\\t\\t</dd>\\r\\n\\t\\t\\t\\t\\t</dl>\\r\\n\\t\\t\\t\\t\\t<dl>\\r\\n\\t\\t\\t\\t\\t\\t<dt class=\"\"><a href=\\'../campus-life/scholarship-01.asp\\'>장학/학자금대출</a><div class=\"openSubMn2\"></div></dt>\\r\\n\\t\\t\\t\\t\\t\\t<dd>\\r\\n\\t\\t\\t\\t\\t\\t\\t<ul>\\r\\n\\t\\t\\t\\t\\t\\t\\t\\t<li class=\"\"><a href=\\'../campus-life/scholarship-01.asp\\'>장학금지급현황</a></li>\\r\\n\\t\\t\\t\\t\\t\\t\\t\\t<li class=\"current\"><a href=\\'../campus-life/scholarship-0201.asp\\'>장학금종류</a></li>\\r\\n\\t\\t\\t\\t\\t\\t\\t\\t<li class=\"\"><a href=\\'../campus-life/scholarship-03.asp\\'>장학업무 흐름도</a></li>\\r\\n\\t\\t\\t\\t\\t\\t\\t\\t<li class=\"\"><a href=\\'../campus-life/scholarship-04.asp\\'>장학 FAQ</a></li>\\r\\n\\t\\t\\t\\t\\t\\t\\t\\t<li class=\"\"><a href=\\'../campus-life/scholarship-05.asp\\'>학자금대출</a></li>\\r\\n\\t\\t\\t\\t\\t\\t\\t</ul>\\r\\n\\t\\t\\t\\t\\t\\t</dd>\\r\\n\\t\\t\\t\\t\\t</dl>\\r\\n\\t\\t\\t\\t\\t<dl>\\r\\n\\t\\t\\t\\t\\t\\t<dt class=\"\"><a href=\\'../campus-life/certificate-0101.asp\\'>증명서/학생증발급</a><div class=\"openSubMn2\"></div></dt>\\r\\n\\t\\t\\t\\t\\t\\t<dd>\\r\\n\\t\\t\\t\\t\\t\\t\\t<ul>\\r\\n\\t\\t\\t\\t\\t\\t\\t\\t<li class=\"\"><a href=\\'../campus-life/certificate-0101.asp\\'>증명서 발급</a></li>\\r\\n\\t\\t\\t\\t\\t\\t\\t\\t<li class=\"current\"><a href=\\'../campus-life/certificate-02.asp\\'>백병원진료비감면서 발급</a></li>\\r\\n\\t\\t\\t\\t\\t\\t\\t\\t<li class=\"\"><a href=\\'../campus-life/certificate-0301.asp\\'>학생증 발급</a></li>\\r\\n\\t\\t\\t\\t\\t\\t\\t\\t<li class=\"\"><a href=\"https://www.isic.co.kr/iju/ijuIndex.jsp\" target=\"_blank\" title=\"새 창 열림\"><span class=\"img-tiny ex-link4\">국제학생증 발급</span></a></li>\\r\\n\\t\\t\\t\\t\\t\\t\\t</ul>\\r\\n\\t\\t\\t\\t\\t\\t</dd>\\r\\n\\t\\t\\t\\t\\t</dl>\\r\\n\\t\\t\\t\\t\\t<dl>\\r\\n\\t\\t\\t\\t\\t\\t<dt class=\"\"><a href=\\'../campus-life/welfare-0101.asp\\'>학생복지시설</a><div class=\"openSubMn2\"></div></dt>\\r\\n\\t\\t\\t\\t\\t\\t<dd>\\r\\n\\t\\t\\t\\t\\t\\t\\t<ul>\\r\\n\\t\\t\\t\\t\\t\\t\\t\\t<li class=\"\"><a href=\\'../campus-life/welfare-0101.asp\\'>통학버스</a></li>\\r\\n\\t\\t\\t\\t\\t\\t\\t\\t<li class=\"current\"><a href=\\'../campus-life/welfare-0201.asp\\'>주차시설안내</a></li>\\r\\n\\t\\t\\t\\t\\t\\t\\t\\t<li class=\"\"><a href=\\'../campus-life/welfare-03.asp\\'>학생상담시설</a></li>\\r\\n\\t\\t\\t\\t\\t\\t\\t\\t<li class=\"\"><a href=\\'../campus-life/welfare-04.asp\\'>도서관시설</a></li>\\r\\n\\t\\t\\t\\t\\t\\t\\t\\t<li class=\"\"><a href=\\'../campus-life/welfare-0501.asp\\'>PC교육실습실</a></li>\\r\\n\\t\\t\\t\\t\\t\\t\\t\\t<li class=\"\"><a href=\\'../campus-life/welfare-06.asp\\'>체육시설</a></li>\\r\\n\\t\\t\\t\\t\\t\\t\\t\\t<li class=\"\"><a href=\\'../campus-life/welfare-0701.asp\\'>교내식당 및 편의시설</a></li>\\r\\n\\t\\t\\t\\t\\t\\t\\t\\t<li class=\"\"><a href=\\'../campus-life/welfare-0801.asp\\'>학생회관/강당</a></li>\\r\\n\\t\\t\\t\\t\\t\\t\\t\\t<li class=\"\"><a href=\\'../campus-life/welfare-0901.asp\\'>의무실/교내은행</a></li>\\r\\n\\t\\t\\t\\t\\t\\t\\t\\t<li class=\"\"><a href=\\'../campus-life/welfare-1001.asp\\'>생활관</a></li>\\r\\n\\t\\t\\t\\t\\t\\t\\t</ul>\\r\\n\\t\\t\\t\\t\\t\\t</dd>\\r\\n\\t\\t\\t\\t\\t</dl>\\r\\n\\t\\t\\t\\t\\t<dl>\\r\\n\\t\\t\\t\\t\\t\\t<dt class=\"\"><a href=\\'../campus-life/e-service-0101.asp\\'>E-서비스</a><div class=\"openSubMn2\"></div></dt>\\r\\n\\t\\t\\t\\t\\t\\t<dd>\\r\\n\\t\\t\\t\\t\\t\\t\\t<ul>\\r\\n\\t\\t\\t\\t\\t\\t\\t\\t<li class=\"\"><a href=\\'../campus-life/e-service-0101.asp\\'>웹메일</a></li>\\r\\n\\t\\t\\t\\t\\t\\t\\t\\t<li class=\"current\"><a href=\\'../campus-life/e-service-02.asp\\'>인제정보시스템</a></li>\\r\\n\\t\\t\\t\\t\\t\\t\\t\\t<li class=\"\"><a href=\\'../campus-life/e-service-03.asp\\'>E무선 인터넷 서비스</a></li>\\r\\n\\t\\t\\t\\t\\t\\t\\t\\t<li class=\"\"><a href=\\'../campus-life/e-service-04.asp\\'>인제사이버캠퍼스</a></li>\\r\\n\\t\\t\\t\\t\\t\\t\\t\\t<li class=\"\"><a href=\\'../campus-life/e-service-0501.asp\\'>교내 정품 S/W 안내</a></li>\\r\\n\\t\\t\\t\\t\\t\\t\\t\\t<li class=\"\"><a href=\\'../campus-life/e-service-06.asp\\'>바이러스 예방안내</a></li>\\r\\n\\t\\t\\t\\t\\t\\t\\t\\t<li class=\"\"><a href=\\'../campus-life/e-service-07.asp\\'>IP설정안내</a></li>\\r\\n\\t\\t\\t\\t\\t\\t\\t\\t<!-- <li class=\"\"></li> -->\\r\\n\\t\\t\\t\\t\\t\\t\\t\\t<li class=\"\"></li>\\r\\n\\t\\t\\t\\t\\t\\t\\t</ul>\\r\\n\\t\\t\\t\\t\\t\\t</dd>\\r\\n\\t\\t\\t\\t\\t</dl>\\r\\n\\t\\t\\t\\t\\t<dl>\\r\\n\\t\\t\\t\\t\\t\\t<dt class=\"\"><a href=\\'../campus-life/employment-01.asp\\'>취업진로/SAIL System</a><div class=\"openSubMn2\"></div></dt>\\r\\n\\t\\t\\t\\t\\t\\t<dd>\\r\\n\\t\\t\\t\\t\\t\\t\\t<ul>\\r\\n\\t\\t\\t\\t\\t\\t\\t\\t<li class=\"\"><a href=\\'../campus-life/employment-01.asp\\'>SAIL System</a></li>\\r\\n\\t\\t\\t\\t\\t\\t\\t\\t<li class=\"current\"><a href=\\'../campus-life/employment-02.asp\\'>취업 교육 프로그램</a></li>\\r\\n\\t\\t\\t\\t\\t\\t\\t\\t<li class=\"\"><a href=\\'../campus-life/employment-04.asp\\'>대학일자리플러스센터</a></li>\\r\\n\\t\\t\\t\\t\\t\\t\\t</ul>\\r\\n\\t\\t\\t\\t\\t\\t</dd>\\r\\n\\t\\t\\t\\t\\t</dl>\\r\\n\\t\\t\\t\\t</div>\\r\\n\\t\\t\\t</div>\\r\\n\\t\\t</div>\\r\\n    </li>\\r\\n\\r\\n\\r\\n\\r\\n\\t<!-- 메뉴 05 -->\\r\\n\\t<li class=\"mainMn mainMn05 current\"><a class=\"dep01Mn\"><span>커뮤니티</span><div class=\"openSubMn\"></div></a>\\r\\n\\t\\t<div class=\"subMn subMn05\">\\r\\n\\t\\t\\t<div class=\"subGnbMn\">\\r\\n\\t\\t\\t\\t<div class=\"title\">커뮤니티</div>\\r\\n\\t\\t\\t\\t<div class=\"list\">\\r\\n\\t\\t\\t\\t\\t<dl>\\r\\n\\t\\t\\t\\t\\t\\t<dt class=\"\"><a href=\\'../Template/Bsub_page.asp?Ltype=5&Ltype2=0&Ltype3=0&Tname=S_News&Ldir=board/S_News&Lpage=Tboard_L&d1n=5&d2n=1&d3n=1&d4n=0\\'>인제소식</a><div class=\"openSubMn2\"></div></dt>\\r\\n\\t\\t\\t\\t\\t\\t<dd>\\r\\n\\t\\t\\t\\t\\t\\t\\t<ul>\\r\\n\\t\\t\\t\\t\\t\\t\\t\\t<li class=\"\"><a href=\\'../Template/Bsub_page.asp?Ltype=5&Ltype2=0&Ltype3=0&Tname=S_News&Ldir=board/S_News&Lpage=Tboard_L&div=1&d1n=5&d2n=1&d3n=1&d4n=0\\'>일반</a></li>\\r\\n\\t\\t\\t\\t\\t\\t\\t\\t<li class=\"current\"><a href=\\'../Template/Bsub_page.asp?Ltype=5&Ltype2=0&Ltype3=0&Tname=S_News&Ldir=board/S_News&Lpage=Tboard_L&div=6&d1n=5&d2n=1&d3n=2&d4n=0\\'>학사</a></li>\\r\\n\\t\\t\\t\\t\\t\\t\\t\\t<li class=\"\"><a href=\\'../Template/Bsub_page.asp?Ltype=5&Ltype2=0&Ltype3=0&Tname=S_News&Ldir=board/S_News&Lpage=Tboard_L&div=8&d1n=5&d2n=1&d3n=3&d4n=0\\'>모집/채용</a></li>\\r\\n\\t\\t\\t\\t\\t\\t\\t\\t<li class=\"\"><a href=\\'../Template/Bsub_page.asp?Ltype=5&Ltype2=0&Ltype3=0&Tname=S_News&Ldir=board/S_News&Lpage=Tboard_L&div=10&d1n=5&d2n=1&d3n=6&d4n=0\\'>장학</a></li>\\r\\n\\t\\t\\t\\t\\t\\t\\t\\t<li class=\"\"><a href=\\'../Template/Bsub_page.asp?Ltype=5&Ltype2=0&Ltype3=0&Tname=S_News&Ldir=board/S_News&Lpage=Tboard_L&div=12&d1n=5&d2n=1&d3n=7&d4n=0\\'>입찰</a></li>\\r\\n\\t\\t\\t\\t\\t\\t\\t\\t<li class=\"\"><a href=\\'../Template/Bsub_page.asp?Ltype=5&Ltype2=0&Ltype3=4&Tname=S_CultureCalendar&Ldir=board/S_CultureCalendar&Lpage=Tboard_UL&gubun=0&d1n=5&d2n=1&d3n=5&d4n=0\\'>교내행사</a></li>\\r\\n\\t\\t\\t\\t\\t\\t\\t\\t<li class=\"\"><a href=\"/kor/covid19/main.asp?mnNum=4\" target=\"_blank\" title=\"새 창 열림\"><span class=\"img-tiny ex-link4\">코로나19</span></a></li>\\r\\n\\t\\t\\t\\t\\t\\t\\t</ul>\\r\\n\\t\\t\\t\\t\\t\\t</dd>\\r\\n\\t\\t\\t\\t\\t</dl>\\r\\n\\t\\t\\t\\t\\t<dl>\\r\\n\\t\\t\\t\\t\\t\\t<dt class=\"\"><a href=\\'../Template/Bsub_page.asp?Ltype=5&Ltype2=1&Ltype3=0&Tname=S_TodayInje&Ldir=board/S_Focus&Lpage=Tboard_L&d1n=5&d2n=2&d3n=1&d4n=0\\'>미디어인제</a><div class=\"openSubMn2\"></div></dt>\\r\\n\\t\\t\\t\\t\\t\\t<dd>\\r\\n\\t\\t\\t\\t\\t\\t\\t<ul>\\r\\n\\t\\t\\t\\t\\t\\t\\t\\t<li class=\"\"><a href=\\'../Template/Bsub_page.asp?Ltype=5&Ltype2=1&Ltype3=0&Tname=S_TodayInje&Ldir=board/S_Focus&Lpage=Tboard_L&d1n=5&d2n=2&d3n=1&d4n=0\\'>투데이 인제</a></li>\\r\\n\\t\\t\\t\\t\\t\\t\\t\\t<li class=\"current\"><a href=\\'../Template/Bsub_page.asp?Ltype=5&Ltype2=1&Ltype3=1&Tname=S_Press&Ldir=board/S_Press&Lpage=Tboard_L&d1n=5&d2n=2&d3n=2&d4n=0\\'>언론보도자료</a></li>\\r\\n\\t\\t\\t\\t\\t\\t\\t\\t<li class=\"\"><a href=\\'../Template/Bsub_page.asp?Ltype=5&Ltype2=1&Ltype3=2&Tname=S_Column&Ldir=board/S_Press&Lpage=Tboard_L&d1n=5&d2n=2&d3n=3&d4n=0\\'>칼럼/기고</a></li>\\r\\n\\t\\t\\t\\t\\t\\t\\t\\t<li class=\"\"><a href=\"http://www.ijnews.net\" target=\"_blank\" title=\"새 창 열림\"><span class=\"img-tiny ex-link4\">인제미디어센터</span></a></li>\\r\\n\\t\\t\\t\\t\\t\\t\\t\\t<li class=\"\"><a href=\\'../Template/Bsub_page.asp?Ltype=5&Ltype2=1&Ltype3=5&Tname=D_webzine&Ldir=board/D_WebZine&Lpage=Tboard_R&d1n=5&d2n=2&d3n=6&d4n=0\\'>인제대 e-letter</a></li>\\r\\n\\t\\t\\t\\t\\t\\t\\t</ul>\\r\\n\\t\\t\\t\\t\\t\\t</dd>\\r\\n\\t\\t\\t\\t\\t</dl>\\r\\n\\t\\t\\t\\t\\t<dl>\\r\\n\\t\\t\\t\\t\\t\\t<dt class=\"\"><a href=\\'../Template/Bsub_page.asp?Ltype=5&Ltype2=2&Ltype3=4&Tname=S_Lost&Ldir=board/S_Info&Lpage=Tboard_L&d1n=5&d2n=3&d3n=5&d4n=0\\'>게시판</a><div class=\"openSubMn2\"></div></dt>\\r\\n\\t\\t\\t\\t\\t\\t<dd>\\r\\n\\t\\t\\t\\t\\t\\t\\t<ul>\\r\\n\\t\\t\\t\\t\\t\\t\\t\\t<li class=\"\"><a href=\\'../Template/Bsub_page.asp?Ltype=5&Ltype2=2&Ltype3=4&Tname=S_Lost&Ldir=board/S_Info&Lpage=Tboard_L&d1n=5&d2n=3&d3n=5&d4n=0\\'>분실물센터</a></li>\\r\\n\\t\\t\\t\\t\\t\\t\\t\\t<li class=\"\"><a href=\\'../Template/Bsub_page.asp?Ltype=5&Ltype2=2&Ltype3=5&Tname=S_HomeInfo&Ldir=board/S_Info&Lpage=Tboard_L&d1n=5&d2n=3&d3n=6&d4n=0\\'>주거정보</a></li>\\r\\n\\t\\t\\t\\t\\t\\t\\t\\t<li class=\"\"><a href=\\'../Template/Bsub_page.asp?Ltype=5&Ltype2=2&Ltype3=6&Tname=S_Alba&Ldir=board/S_Info&Lpage=Tboard_L&d1n=5&d2n=3&d3n=7&d4n=0\\'>구인/구직/알바</a></li>\\r\\n\\t\\t\\t\\t\\t\\t\\t\\t<li class=\"\"><a href=\\'../Template/Bsub_page.asp?Ltype=5&Ltype2=2&Ltype3=7&Tname=S_Sale&Ldir=board/S_Info&Lpage=Tboard_L&d1n=5&d2n=3&d3n=8&d4n=0\\'>사고팔고</a></li>\\r\\n\\t\\t\\t\\t\\t\\t\\t</ul>\\r\\n\\t\\t\\t\\t\\t\\t</dd>\\r\\n\\t\\t\\t\\t\\t</dl>\\r\\n\\t\\t\\t\\t\\t<dl>\\r\\n\\t\\t\\t\\t\\t\\t<dt class=\"\"><a href=\\'../Template/Bsub_page.asp?Ltype=5&Ltype2=3&Ltype3=0&Tname=S_Notice&Ldir=board/S_Free&Lpage=Tboard_L&d1n=5&d2n=4&d3n=1&d4n=0\\'>교내외정보마당</a><div class=\"openSubMn2\"></div></dt>\\r\\n\\t\\t\\t\\t\\t\\t<dd>\\r\\n\\t\\t\\t\\t\\t\\t\\t<ul>\\r\\n\\t\\t\\t\\t\\t\\t\\t\\t<li class=\"\"><a href=\\'../Template/Bsub_page.asp?Ltype=5&Ltype2=3&Ltype3=0&Tname=S_Notice&Ldir=board/S_Free&Lpage=Tboard_L&d1n=5&d2n=4&d3n=1&d4n=0\\'>학생알림판</a></li>\\r\\n\\t\\t\\t\\t\\t\\t\\t\\t<li class=\"current\"><a href=\\'../Template/Bsub_page.asp?Ltype=5&Ltype2=3&Ltype3=1&Tname=S_Guest&Ldir=board/S_Class&Lpage=Tboard_L&d1n=5&d2n=4&d3n=2&d4n=0\\'>교외소식</a></li>\\r\\n\\t\\t\\t\\t\\t\\t\\t\\t<li class=\"\"><a href=\\'../Template/Bsub_page.asp?Ltype=5&Ltype2=3&Ltype3=2&Tname=S_Class&Ldir=board/S_Class&Lpage=Tboard_L&d1n=5&d2n=4&d3n=3&d4n=0\\'>강의자료실</a></li>\\r\\n\\t\\t\\t\\t\\t\\t\\t\\t<li class=\"\"><a href=\\'../Template/Bsub_page.asp?Ltype=5&Ltype2=3&Ltype3=3&Tname=S_Food&Ldir=board/S_Food&Lpage=s_food_view&d1n=5&d2n=4&d3n=4&d4n=0\\'>금주의 식단</a></li>\\r\\n\\t\\t\\t\\t\\t\\t\\t\\t<li class=\"\"><a href=\\'../Template/Bsub_page.asp?Ltype=5&Ltype2=3&Ltype3=4&Tname=S_language&Ldir=board/S_Class&Lpage=Tboard_L&d1n=5&d2n=4&d3n=5&d4n=0\\'>교내 토익시험</a></li>\\r\\n\\t\\t\\t\\t\\t\\t\\t\\t<li class=\"\"><a href=\\'../Template/Bsub_page.asp?Ltype=5&Ltype2=3&Ltype3=6&Tname=D_119&Ldir=board/D_119&Lpage=Tboard_L&d1n=5&d2n=4&d3n=7&d4n=0\\'>시설119</a></li>\\r\\n\\t\\t\\t\\t\\t\\t\\t</ul>\\r\\n\\t\\t\\t\\t\\t\\t</dd>\\r\\n\\t\\t\\t\\t\\t</dl>\\r\\n\\t\\t\\t\\t\\t<dl>\\r\\n\\t\\t\\t\\t\\t\\t<dt class=\"current\"><a href=\\'../Template/Bsub_page.asp?Ltype=5&Ltype2=4&Ltype3=1&Tname=S_IntroSearch&Ldir=board/S_IntroSearch&Lpage=Tboard_L&SearchKey=all&d1n=5&d2n=5&d3n=0&d4n=0\\'>검색 서비스</a><div class=\"openSubMn2\"></div></dt>\\r\\n\\t\\t\\t\\t\\t\\t<dd>\\r\\n\\t\\t\\t\\t\\t\\t\\t\\t<!--\\r\\n\\t\\t\\t\\t\\t\\t\\t<ul><li class=\"\"></li>\\r\\n\\t\\t\\t\\t\\t\\t\\t\\t<li class=\"\"></li>\\r\\n\\t\\t\\t\\t\\t\\t\\t</ul>\\r\\n\\t\\t\\t\\t\\t\\t\\t-->\\r\\n\\t\\t\\t\\t\\t\\t</dd>\\r\\n\\t\\t\\t\\t\\t</dl>\\r\\n\\t\\t\\t\\t</div>\\r\\n\\t\\t\\t</div>\\r\\n\\t\\t</div>\\r\\n    </li>\\r\\n</ul>\\r\\n\\r\\n<script>\\r\\n\\r\\n$(document).ready(function(){\\r\\n\\t\\r\\n\\t\\r\\n\\t$(\"header\").mouseleave(function(){\\r\\n\\t   $(\".subMn\").hide();\\r\\n\\t});\\r\\n\\t\\r\\n\\t$(\"header .mainGnbMn > li.current .subMn\").addClass(\"active\");\\r\\n\\t\\r\\n\\t$(\".openMoMenu\").click(function(){\\r\\n\\t\\t$(\"header .menuConts\").show();\\r\\n\\t\\t$(\"body\").css(\"overflow-y\", \"hidden\");\\r\\n\\t});\\r\\n\\t$(\".closeMoMenu\").click(function(){\\r\\n\\t\\t$(\"header .menuConts\").hide();\\r\\n\\t\\t$(\"body\").css(\"overflow-y\", \"auto\");\\r\\n\\t});\\r\\n\\t\\r\\n\\t$(\".dep01Mn\").click(function(){\\r\\n\\t\\t// CSS Class\\r\\n\\t\\t$(\".mainMn\").not($(this).parent(\"li\")).removeClass(\"acive\");\\r\\n\\t\\t$(this).parent(\"li\").toggleClass(\"acive\");\\r\\n\\t\\t// 메뉴\\r\\n\\t\\t$(\".subMn\").not($(this).parent().children(\".subMn\")).hide();\\r\\n\\t\\t$(this).parent().children(\".subMn\").slideToggle(\"fast\");\\r\\n\\t\\t\\r\\n\\t\\t$(\".subMn\").not($(this).parent().children(\".subMn\")).removeClass(\"active\");\\r\\n\\t\\t$(this).parent().children(\".subMn\").toggleClass(\"active\");\\r\\n\\t});\\r\\n\\t\\r\\n\\t$(\".dep01Mn + .openSubMn\").click(function(){\\r\\n\\t\\t// CSS Class\\r\\n\\t\\t$(\".mainMn\").not($(this).parent(\"li\")).removeClass(\"acive\");\\r\\n\\t\\t$(this).parent(\"li\").toggleClass(\"acive\");\\r\\n\\t\\t// 메뉴\\r\\n\\t\\t$(\".subMn\").not($(this).parent().children(\".subMn\")).hide();\\r\\n\\t\\t$(this).parent().children(\".subMn\").slideToggle(\"fast\");\\r\\n\\t\\t\\r\\n\\t\\t$(\".subMn\").not($(this).parent().children(\".subMn\")).removeClass(\"active\");\\r\\n\\t\\t$(this).parent().children(\".subMn\").toggleClass(\"active\");\\r\\n\\t});\\r\\n\\t\\r\\n\\t$(\".openSubMn2\").click(function(){\\r\\n\\t\\t// CSS Class\\r\\n\\t\\t$(\".subGnbMn .list dt\").not($(this).parent().parent().children(\"dt\")).removeClass(\"acive\");\\r\\n\\t\\t$(this).parent(\"dt\").toggleClass(\"acive\");\\r\\n\\t\\t// 메뉴\\r\\n\\t\\t$(\".subGnbMn .list dd\").not($(this).parent().parent().children(\"dd\")).hide();\\r\\n\\t\\t$(this).parent().parent().children(\"dd\").slideToggle(\"fast\");\\r\\n\\t});\\r\\n\\t\\r\\n});\\r\\n</script>\\r\\n<!--[if IE 9]>\\r\\n<script type=\"text/javascript\" src=\"../assets/js/matchMedia.js\"></script>\\r\\n<script type=\"text/javascript\" src=\"../assets/js/matchMedia.addListener.js\"></script>\\r\\n<![endif]-->\\r\\n\\t\\t\\t<!-- //메인메뉴 -->\\r\\n\\t\\t</div>\\r\\n\\t</div>\\r\\n\\t\\r\\n\\t<!-- 모바일 검색/메뉴열기버튼 -->\\r\\n\\t<div class=\"moMenuConts\">\\t\\r\\n\\t\\t<a class=\"btnSearch\"><i class=\"i-search\"></i></a>\\r\\n\\t\\t<a class=\"openMoMenu\"><img src=\"../assets/images/common/btn_moMenu.png\" alt=\"모바일 메뉴 열기\" /></a>\\r\\n\\t</div>\\r\\n\\t<!-- //모바일 검색/메뉴열기버튼 -->\\r\\n</header>\\r\\n<!-- 서브비주얼 (메인은 노출안함) -->\\r\\n\\r\\n<div id=\"sub-vis\" class=\"vis-5\">\\r\\n    <div class=\"inner\">\\r\\n       \\r\\n       <p class=\"vis-text\"><img src=\"../assets/images/sub/sub-text4.png\" alt=\"Prime INJE, Glocal INJE\"></p>\\r\\n       \\r\\n    </div>\\r\\n</div>\\r\\n\\r\\n\\r\\n<main role=\"main\">\\r\\n\\r\\n    <div id=\"container\">\\r\\n        <div class=\"inner group\">\\r\\n            <nav id=\"navConts\">\\r\\n                <h2 class=\"offscreen\">커뮤니티 서브메뉴</h2>\\r\\n                <div id=\"sub-nav\">\\r\\n                    <div class=\"sub-tit\">\\r\\n                        <span class=\"bar\"></span>\\r\\n                        <img src=\"../assets/images/sub/inje-eng.gif\" alt=\"INJE UNIVERSITY\">\\r\\n                        <strong>커뮤니티</strong>\\r\\n                    </div>\\r\\n                    <!-- 서브메뉴 -->\\r\\n\\t\\t\\t\\t\\t\\r\\n<ul id=\"snb\">\\r\\n    <li class=\"\"><a href=\\'../Template/Bsub_page.asp?Ltype=5&Ltype2=0&Ltype3=0&Tname=S_News&Ldir=board/S_News&Lpage=Tboard_L&d1n=5&d2n=1&d3n=1&d4n=0\\'>인제소식</a>\\r\\n        <ul>\\r\\n            <li class=\"\"><a href=\\'../Template/Bsub_page.asp?Ltype=5&Ltype2=0&Ltype3=0&Tname=S_News&Ldir=board/S_News&Lpage=Tboard_L&div=1&d1n=5&d2n=1&d3n=1&d4n=0\\'>일반</a></li>\\r\\n            <li class=\"current\"><a href=\\'../Template/Bsub_page.asp?Ltype=5&Ltype2=0&Ltype3=0&Tname=S_News&Ldir=board/S_News&Lpage=Tboard_L&div=6&d1n=5&d2n=1&d3n=2&d4n=0\\'>학사</a></li>\\r\\n            <li class=\"\"><a href=\\'../Template/Bsub_page.asp?Ltype=5&Ltype2=0&Ltype3=0&Tname=S_News&Ldir=board/S_News&Lpage=Tboard_L&div=8&d1n=5&d2n=1&d3n=3&d4n=0\\'>모집/채용</a></li>\\r\\n            <li class=\"\"><a href=\\'../Template/Bsub_page.asp?Ltype=5&Ltype2=0&Ltype3=0&Tname=S_News&Ldir=board/S_News&Lpage=Tboard_L&div=10&d1n=5&d2n=1&d3n=6&d4n=0\\'>장학</a></li>\\r\\n\\t\\t\\t<li class=\"\"><a href=\\'../Template/Bsub_page.asp?Ltype=5&Ltype2=0&Ltype3=0&Tname=S_News&Ldir=board/S_News&Lpage=Tboard_L&div=12&d1n=5&d2n=1&d3n=7&d4n=0\\'>입찰</a></li>\\r\\n\\t\\t\\t<li class=\"\"><a href=\\'../Template/Bsub_page.asp?Ltype=5&Ltype2=0&Ltype3=4&Tname=S_CultureCalendar&Ldir=board/S_CultureCalendar&Lpage=Tboard_UL&gubun=0&d1n=5&d2n=1&d3n=5&d4n=0\\'>교내행사</a></li>\\r\\n            <li class=\"\"><a href=\"/kor/covid19/main.asp?mnNum=4\" target=\"_blank\" title=\"새 창 열림\"><span class=\"ex-link4\">코로나19</span></a></li>\\r\\n            \\r\\n\\r\\n        </ul>\\r\\n    </li>\\r\\n    <li class=\"\"><a href=\\'../Template/Bsub_page.asp?Ltype=5&Ltype2=1&Ltype3=0&Tname=S_TodayInje&Ldir=board/S_Focus&Lpage=Tboard_L&d1n=5&d2n=2&d3n=1&d4n=0\\'>미디어인제</a>\\r\\n        <ul>\\r\\n            <li class=\"\"><a href=\\'../Template/Bsub_page.asp?Ltype=5&Ltype2=1&Ltype3=0&Tname=S_TodayInje&Ldir=board/S_Focus&Lpage=Tboard_L&d1n=5&d2n=2&d3n=1&d4n=0\\'>투데이 인제</a></li>\\r\\n            <li class=\"current\"><a href=\\'../Template/Bsub_page.asp?Ltype=5&Ltype2=1&Ltype3=1&Tname=S_Press&Ldir=board/S_Press&Lpage=Tboard_L&d1n=5&d2n=2&d3n=2&d4n=0\\'>언론보도자료</a></li>\\r\\n            <li class=\"\"><a href=\\'../Template/Bsub_page.asp?Ltype=5&Ltype2=1&Ltype3=2&Tname=S_Column&Ldir=board/S_Press&Lpage=Tboard_L&d1n=5&d2n=2&d3n=3&d4n=0\\'>칼럼/기고</a></li>\\r\\n            <li class=\"\"><a href=\"http://www.ijnews.net\" target=\"_blank\" title=\"새 창 열림\"><span class=\"ex-link4\">인제미디어센터</span></a></li>\\r\\n            <li class=\"\"><a href=\\'../Template/Bsub_page.asp?Ltype=5&Ltype2=1&Ltype3=5&Tname=D_webzine&Ldir=board/D_WebZine&Lpage=Tboard_R&d1n=5&d2n=2&d3n=6&d4n=0\\'>인제대 e-letter</a></li>\\r\\n        </ul>\\r\\n    </li>\\r\\n    <li class=\"\"><a href=\\'../Template/Bsub_page.asp?Ltype=5&Ltype2=2&Ltype3=4&Tname=S_Lost&Ldir=board/S_Info&Lpage=Tboard_L&d1n=5&d2n=3&d3n=5&d4n=0\\'>게시판</a>\\r\\n        <ul>\\r\\n            <li class=\"\"><a href=\\'../Template/Bsub_page.asp?Ltype=5&Ltype2=2&Ltype3=4&Tname=S_Lost&Ldir=board/S_Info&Lpage=Tboard_L&d1n=5&d2n=3&d3n=5&d4n=0\\'>분실물센터</a></li>\\r\\n            <li class=\"\"><a href=\\'../Template/Bsub_page.asp?Ltype=5&Ltype2=2&Ltype3=5&Tname=S_HomeInfo&Ldir=board/S_Info&Lpage=Tboard_L&d1n=5&d2n=3&d3n=6&d4n=0\\'>주거정보</a></li>\\r\\n            <li class=\"\"><a href=\\'../Template/Bsub_page.asp?Ltype=5&Ltype2=2&Ltype3=6&Tname=S_Alba&Ldir=board/S_Info&Lpage=Tboard_L&d1n=5&d2n=3&d3n=7&d4n=0\\'>구인/구직/알바</a></li>\\r\\n            <li class=\"\"><a href=\\'../Template/Bsub_page.asp?Ltype=5&Ltype2=2&Ltype3=7&Tname=S_Sale&Ldir=board/S_Info&Lpage=Tboard_L&d1n=5&d2n=3&d3n=8&d4n=0\\'>사고팔고</a></li>\\r\\n        </ul>\\r\\n    </li>\\r\\n    <li class=\"\"><a href=\\'../Template/Bsub_page.asp?Ltype=5&Ltype2=3&Ltype3=0&Tname=S_Notice&Ldir=board/S_Free&Lpage=Tboard_L&d1n=5&d2n=4&d3n=1&d4n=0\\'>교내외정보마당</a>\\r\\n        <ul>\\r\\n            <li class=\"\"><a href=\\'../Template/Bsub_page.asp?Ltype=5&Ltype2=3&Ltype3=0&Tname=S_Notice&Ldir=board/S_Free&Lpage=Tboard_L&d1n=5&d2n=4&d3n=1&d4n=0\\'>학생알림판</a></li>\\r\\n            <li class=\"current\"><a href=\\'../Template/Bsub_page.asp?Ltype=5&Ltype2=3&Ltype3=1&Tname=S_Guest&Ldir=board/S_Class&Lpage=Tboard_L&d1n=5&d2n=4&d3n=2&d4n=0\\'>교외소식</a></li>\\r\\n            <li class=\"\"><a href=\\'../Template/Bsub_page.asp?Ltype=5&Ltype2=3&Ltype3=2&Tname=S_Class&Ldir=board/S_Class&Lpage=Tboard_L&d1n=5&d2n=4&d3n=3&d4n=0\\'>강의자료실</a></li>\\r\\n            <li class=\"\"><a href=\\'../Template/Bsub_page.asp?Ltype=5&Ltype2=3&Ltype3=3&Tname=S_Food&Ldir=board/S_Food&Lpage=s_food_view&d1n=5&d2n=4&d3n=4&d4n=0\\'>금주의 식단</a></li>\\r\\n            <li class=\"\"><a href=\\'../Template/Bsub_page.asp?Ltype=5&Ltype2=3&Ltype3=4&Tname=S_language&Ldir=board/S_Class&Lpage=Tboard_L&d1n=5&d2n=4&d3n=5&d4n=0\\'>교내 토익시험</a></li>\\r\\n            <li class=\"\"><a href=\\'../Template/Bsub_page.asp?Ltype=5&Ltype2=3&Ltype3=6&Tname=D_119&Ldir=board/D_119&Lpage=Tboard_L&d1n=5&d2n=4&d3n=7&d4n=0\\'>시설119</a></li>\\r\\n        </ul>\\r\\n    </li>\\r\\n    <li class=\"current\"><a href=\\'../Template/Bsub_page.asp?Ltype=5&Ltype2=4&Ltype3=1&Tname=S_IntroSearch&Ldir=board/S_IntroSearch&Lpage=Tboard_L&SearchKey=all&d1n=5&d2n=5&d3n=0&d4n=0\\'>검색 서비스</a>\\r\\n\\t<!--\\r\\n        <ul>\\r\\n            <li class=\"\"></li>\\r\\n            <li class=\"\"></li>\\r\\n        </ul>\\r\\n\\t\\t-->\\r\\n    </li>\\r\\n</ul>\\r\\n\\r\\n\\r\\n                    <!-- //서브메뉴 -->\\r\\n                </div>\\r\\n            </nav>\\r\\n            <article id=\"articleConts\">\\r\\n                <div id=\"article\">\\r\\n                    <div class=\"lnbMn\">\\r\\n                        <div class=\"title group\">\\r\\n                            <h2></h2>\\r\\n                            <!-- 패스메뉴 - 브레드크럼메뉴 -->\\r\\n\\t\\t\\t\\t\\t\\t\\t<div id=\"breadcrumb\">\\r\\n    <div class=\"bc-navi\">\\r\\n        <a href=\"../main/main.asp\" class=\"ir home\">Home</a><span class=\"ir sep\">&gt;</span>\\r\\n        <a href=\"../Template/Bsub_page.asp?Ltype=5&Ltype2=0&Ltype3=0&Tname=S_News&Ldir=board/S_News&Lpage=Tboard_L&d1n=5&d2n=1&d3n=1&d4n=0\" id=\"bc-dep1\" class=\"btn-bc\">커뮤니티</a><span class=\"ir sep\">&gt;</span>\\r\\n        <!-- 3차 메뉴가 없을 때 -->\\r\\n        \\r\\n            <a href=\"../Template/Bsub_page.asp?Ltype=5&Ltype2=4&Ltype3=1&Tname=S_IntroSearch&Ldir=board/S_IntroSearch&Lpage=Tboard_L&SearchKey=all&d1n=5&d2n=5&d3n=0&d4n=0\" id=\"bc-dep2\" class=\"btn-bc\">검색 서비스</a><span class=\"ir sep\">&gt;</span>\\r\\n            <a href=\"\" id=\"bc-dep3\" class=\"btn-bc\"></a>\\r\\n        \\r\\n    </div>\\r\\n\\r\\n    <!--  =  =  =  =  =  =  =  =  =  =  =  1차 메뉴  =  =  =  =  =  =  =  =  =  =  =  -->\\r\\n    <ul id=\"list-dep1\">\\r\\n        <li class=\"\"><a href=\\'../about-inje/chairman.asp\\'>대학소개</a></li>\\r\\n        <li class=\"\"><a href=\\'../academics/academics.asp\\'>대학 <b>&middot;</b> 대학원</a></li>\\r\\n        <li class=\"\"><a href=\\'../admission/graduate-01.asp\\'>입학정보</a></li>\\r\\n        <li class=\"\"><a href=\\'../Template/Bsub_page.asp?Ltype=4&Ltype2=0&Ltype3=0&Tname=S_FAQ&Ldir=board/S_FAQ&Lpage=Tboard_L&d1n=4&d2n=1&d3n=1&d4n=0\\'>캠퍼스생활</a></li>\\r\\n        <li class=\"\"><a href=\\'../Template/Bsub_page.asp?Ltype=5&Ltype2=0&Ltype3=0&Tname=S_News&Ldir=board/S_News&Lpage=Tboard_L&d1n=5&d2n=1&d3n=1&d4n=0\\'>커뮤니티</a></li>\\r\\n    </ul>\\r\\n\\r\\n    <!--  =  =  =  =  =  =  =  =  =  =  =  2차 메뉴  =  =  =  =  =  =  =  =  =  =  =  -->\\r\\n    <ul id=\"list-dep2\">\\r\\n        \\r\\n        <li class=\"\"><a href=\\'../Template/Bsub_page.asp?Ltype=5&Ltype2=0&Ltype3=0&Tname=S_News&Ldir=board/S_News&Lpage=Tboard_L&d1n=5&d2n=1&d3n=1&d4n=0\\'>인제소식</a></li>\\r\\n        <li class=\"\"><a href=\\'../Template/Bsub_page.asp?Ltype=5&Ltype2=1&Ltype3=0&Tname=S_TodayInje&Ldir=board/S_Focus&Lpage=Tboard_L&d1n=5&d2n=2&d3n=1&d4n=0\\'>미디어인제</a></li>\\r\\n        <li class=\"\"><a href=\\'../Template/Bsub_page.asp?Ltype=5&Ltype2=2&Ltype3=4&Tname=S_Lost&Ldir=board/S_Info&Lpage=Tboard_L&d1n=5&d2n=3&d3n=5&d4n=0\\'>게시판</a></li>\\r\\n        <li class=\"\"><a href=\\'../Template/Bsub_page.asp?Ltype=5&Ltype2=3&Ltype3=0&Tname=S_Notice&Ldir=board/S_Free&Lpage=Tboard_L&d1n=5&d2n=4&d3n=1&d4n=0\\'>교내외정보마당</a></li>\\r\\n        <li class=\"\"><a href=\\'../Template/Bsub_page.asp?Ltype=5&Ltype2=4&Ltype3=1&Tname=S_IntroSearch&Ldir=board/S_IntroSearch&Lpage=Tboard_L&SearchKey=all&d1n=5&d2n=5&d3n=0&d4n=0\\'>검색 서비스</a></li>\\r\\n\\r\\n\\t\\t\\r\\n    </ul>\\r\\n\\r\\n    <!--  =  =  =  =  =  =  =  =  =  =  =  3차 메뉴  =  =  =  =  =  =  =  =  =  =  =  -->\\r\\n    <ul id=\"list-dep3\">\\r\\n        <!-- 1.0 대학소개 -->\\r\\n\\t\\t\\r\\n    </ul>\\r\\n\\r\\n</div>\\r\\n\\r\\n                            <!-- //패스메뉴 - 브레드크럼메뉴 -->\\r\\n                        </div>\\r\\n                    </div>\\r\\n                    <div id=\"contents\">\\r\\n\\r\\n\\r\\n            \\r\\n            <!-- 내용 시작 -->\\r\\n            \\r\\n<SCRIPT LANGUAGE=\"JavaScript\">\\r\\n<!--\\r\\n\\r\\n\\r\\n//rowspan\\r\\nfunction _w_table_rowspan(_w_table_id,_w_table_colnum){   \\r\\n _w_table_firsttd = \"\";   \\r\\n _w_table_currenttd = \"\";   \\r\\n _w_table_SpanNum = 0;   \\r\\n _w_table_Obj = $(_w_table_id + \" tr td:nth-child(\" + _w_table_colnum + \")\");   \\r\\n _w_table_Obj.each(function(i){   \\r\\n  if(i==0){   \\r\\n   _w_table_firsttd = $(this);   \\r\\n   _w_table_SpanNum = 1;   \\r\\n  }else{   \\r\\n   _w_table_currenttd = $(this);   \\r\\n   if(_w_table_firsttd.text()==_w_table_currenttd.text()){   \\r\\n    _w_table_SpanNum++;   \\r\\n    _w_table_currenttd.hide(); //remove();   \\r\\n    _w_table_firsttd.attr(\"rowSpan\",_w_table_SpanNum);   \\r\\n   }else{   \\r\\n    _w_table_firsttd = $(this);   \\r\\n    _w_table_SpanNum = 1;   \\r\\n   }   \\r\\n  }   \\r\\n });    \\r\\n}   \\r\\n\\r\\n$(document).ready(function(){\\r\\n        _w_table_rowspan(\"#table1\",1);\\r\\n\\t _w_table_rowspan(\"#table1\",2);\\r\\n\\r\\n });\\r\\n\\r\\n//-->\\r\\n</SCRIPT>\\r\\n\\r\\n\\r\\n\\r\\n<ul class=\"tab tab-3 tab-full group\">\\r\\n    <li class=\"current\"><a href=\"/kor/Template/Bsub_page.asp?Ltype=&amp;Ltype2=&amp;Ltype3=&amp;Tname=&amp;Ldir=board/S_Food&amp;d1n=&amp;d2n=&amp;d3n=&amp;d4n=&Lpage=s_food_view\"><strong>학생식단표</strong></a></li>\\r\\n    <li><a href=\"/kor/Template/Bsub_page.asp?Ltype=&amp;Ltype2=&amp;Ltype3=&amp;Tname=&amp;Ldir=board/S_Food&amp;d1n=&amp;d2n=&amp;d3n=&amp;d4n=&Lpage=w_food_view\">교직원식단표</a></li>\\r\\n    <li><a href=\"/kor/campus-life/welfare-0701.asp\">교내 식당(다인, A동) 이용 안내</a></li>\\r\\n</ul>\\r\\n\\r\\n<div class=\"bl-box\">2023년 4월 17일 ~ 2023년 4월 23일</div>\\r\\n\\r\\n<h3 class=\"bul first\">늘빛관(다인)</h3>\\r\\n\\r\\n\\r\\n<div class=\"tb-data scrollTbl scrollImg\">\\r\\n    <table border=\"1\" id=\"table1\">\\r\\n        <caption>늘빛관(다인)의 식단표 : 월 ~ 금요일까지의 점심, 저녁, 추가찬 항목으로 구성된 표</caption>\\r\\n        <colgroup>\\r\\n            <col style=\"width:10%\">\\r\\n            <col style=\"width:10%\">\\r\\n            <col style=\"width:16%\">\\r\\n            <col style=\"width:16%\">\\r\\n            <col style=\"width:16%\">\\r\\n            <col style=\"width:16%\">\\r\\n            <col style=\"width:16%\">\\r\\n        </colgroup>\\r\\n        <thead>\\r\\n            <tr>\\r\\n                <th scope=\"col\">코너</th>\\r\\n\\t\\t\\t\\t<th scope=\"col\">판매시간</th>\\r\\n                <th scope=\"col\">월</th>\\r\\n                <th scope=\"col\">화</th>\\r\\n                <th scope=\"col\">수</th>\\r\\n                <th scope=\"col\">목</th>\\r\\n                <th scope=\"col\">금</th>\\r\\n            </tr>\\r\\n        </thead>\\r\\n        <tbody>\\r\\n\\r\\n\\t\\t\\t<tr>\\r\\n<TD class=\\'tc\\'>A</TD><TD class=\\'tc\\'>종일판매</TD>\\r\\n\\t\\t\\t\\t<td class=\"tc\">(즉석)<br>뚝배기소불고기<br>+당면<br>감자메추리알장조림<br>김자반볶음&nbsp;</td>\\r\\n\\t\\t\\t\\t<td class=\"tc\">(즉석)<br>계란간장밥<br>뚝배기새알미역국<br>미트볼케찹조림<br>으깬감자샐러드&nbsp;</td>\\r\\n\\t\\t\\t\\t<td class=\"tc\">&lt多仁 식육식당&gt<br>오향장육<br>모듬쌈+쌈장<br>쌈무,파채콩나물겉절이<br>미소장국/흑미밥&nbsp;</td>\\r\\n\\t\\t\\t\\t<td class=\"tc\">&lt중간고사 보양식&gt<br>진짜닭한마리삼계탕<br>*650개 한정판매*<br>+찹쌀밥<br>오이송송이<br>마늘쫑양파짱아찌&nbsp;</td>\\r\\n\\t\\t\\t\\t<td class=\"tc\">(즉석)<br>카레라이스<br>미니우동<br>고로케+케찹&nbsp;</td>\\r\\n\\t\\t\\t</tr>\\r\\n\\r\\n\\t\\t\\t<tr>\\r\\n<TD class=\\'tc\\'>B</TD><TD class=\\'tc\\'>종일판매</TD>\\r\\n\\t\\t\\t\\t<td class=\"tc\">치킨스테이크<br>페넨로제샐러드<br>양배추S+드레싱<br>크림스프&nbsp;</td>\\r\\n\\t\\t\\t\\t<td class=\"tc\">닭갈비볶음밥<br>피쉬앤칩스+콘소스<br>샐러드<br>유부장국&nbsp;</td>\\r\\n\\t\\t\\t\\t<td class=\"tc\">참치김치볶음밥<br>&계란후라이<br>설탕페스츄리핫도그+케찹<br>샐러드<br>우동장국&nbsp;</td>\\r\\n\\t\\t\\t\\t<td class=\"tc\">치즈in돈까스<br>양배추샐러드+드레싱<br>옥수수스프&nbsp;</td>\\r\\n\\t\\t\\t\\t<td class=\"tc\">&lt중간고사 보양식&gt<br>힘내라장어덮밥<br>*400개 한정판매*<br>+초생강<br>미소장국&nbsp;</td>\\r\\n\\t\\t\\t</tr>\\r\\n\\r\\n\\t\\t\\t<tr>\\r\\n<TD class=\\'tc\\'>C</TD><TD class=\\'tc\\'>11:00~14:30</TD>\\r\\n\\t\\t\\t\\t<td class=\"tc\">즉석추억의도시락<br>우동장국&nbsp;</td>\\r\\n\\t\\t\\t\\t<td class=\"tc\">차돌쌀국수<br>+고수<br>+스리라차소스&nbsp;</td>\\r\\n\\t\\t\\t\\t<td class=\"tc\">비빔냉면&nbsp;</td>\\r\\n\\t\\t\\t\\t<td class=\"tc\">떡튀순set<br>(떡볶이+모듬튀김+순대)&nbsp;</td>\\r\\n\\t\\t\\t\\t<td class=\"tc\">잔치국수<br>&김치찌짐&nbsp;</td>\\r\\n\\t\\t\\t</tr>\\r\\n\\r\\n\\t\\t\\t<tr>\\r\\n<TD class=\\'tc\\'>C</TD><TD class=\\'tc\\'>소진시까지판매</TD>\\r\\n\\t\\t\\t\\t<td class=\"tc\">소라죽&nbsp;</td>\\r\\n\\t\\t\\t\\t<td class=\"tc\">참치야채죽&nbsp;</td>\\r\\n\\t\\t\\t\\t<td class=\"tc\">소고기야채죽&nbsp;</td>\\r\\n\\t\\t\\t\\t<td class=\"tc\">닭야채죽&nbsp;</td>\\r\\n\\t\\t\\t\\t<td class=\"tc\">홍게살야채죽&nbsp;</td>\\r\\n\\t\\t\\t</tr>\\r\\n\\r\\n\\t\\t\\t<tr>\\r\\n<TD class=\\'tc\\'>C</TD><TD class=\\'tc\\'>소진시까지판매</TD>\\r\\n\\t\\t\\t\\t<td class=\"tc\">다인\\'소식다동\\'샐러드&nbsp;</td>\\r\\n\\t\\t\\t\\t<td class=\"tc\">다인\\'소식다동\\'샐러드&nbsp;</td>\\r\\n\\t\\t\\t\\t<td class=\"tc\">다인\\'소식다동\\'샐러드&nbsp;</td>\\r\\n\\t\\t\\t\\t<td class=\"tc\">다인\\'소식다동\\'샐러드&nbsp;</td>\\r\\n\\t\\t\\t\\t<td class=\"tc\">다인\\'소식다동\\'샐러드&nbsp;</td>\\r\\n\\t\\t\\t</tr>\\r\\n\\r\\n\\t\\t\\t<tr>\\r\\n<TD class=\\'tc\\'>C</TD><TD class=\\'tc\\'>소진시까지판매</TD>\\r\\n\\t\\t\\t\\t<td class=\"tc\">비타민듬뿍컵과일&nbsp;</td>\\r\\n\\t\\t\\t\\t<td class=\"tc\">비타민듬뿍컵과일&nbsp;</td>\\r\\n\\t\\t\\t\\t<td class=\"tc\">비타민듬뿍컵과일&nbsp;</td>\\r\\n\\t\\t\\t\\t<td class=\"tc\">비타민듬뿍컵과일&nbsp;</td>\\r\\n\\t\\t\\t\\t<td class=\"tc\">비타민듬뿍컵과일&nbsp;</td>\\r\\n\\t\\t\\t</tr>\\r\\n\\r\\n\\t\\t\\t<tr>\\r\\n<TD class=\\'tc\\' colspan=2>추가찬</TD>\\r\\n\\t\\t\\t\\t<td class=\"tc\">계란후라이<br>도시락김&nbsp;</td>\\r\\n\\t\\t\\t\\t<td class=\"tc\">계란후라이<br>도시락김&nbsp;</td>\\r\\n\\t\\t\\t\\t<td class=\"tc\">계란후라이<br>도시락김&nbsp;</td>\\r\\n\\t\\t\\t\\t<td class=\"tc\">계란후라이<br>도시락김&nbsp;</td>\\r\\n\\t\\t\\t\\t<td class=\"tc\">계란후라이<br>도시락김&nbsp;</td>\\r\\n\\t\\t\\t</tr>\\r\\n\\r\\n        </tbody>\\r\\n    </table>\\r\\n</div>\\r\\n<strong class=\"lg\">※ 운영시간: 11:00 ~ 18:30 </strong><br>\\r\\n<strong class=\"lg\">※ Break time: 14:30 ~ 15:30</strong>\\r\\n\\r\\n<h3 class=\"bul\">하연관(A동)</h3>\\r\\n<div class=\"tb-data scrollTbl scrollImg\">\\r\\n    <table border=\"1\">\\r\\n        <caption>하연관(A동)의 식단표 : 월 ~ 금요일까지의 점심 정식 항목으로 구성된 표</caption>\\r\\n        <colgroup>\\r\\n            <col style=\"width:auto\">\\r\\n            <col style=\"width:5%\">\\r\\n            <col style=\"width:13%\">\\r\\n            <col style=\"width:13%\">\\r\\n            <col style=\"width:13%\">\\r\\n            <col style=\"width:13%\">\\r\\n            <col style=\"width:13%\">\\r\\n            <col style=\"width:13%\">\\r\\n            <col style=\"width:13%\">\\r\\n        </colgroup>\\r\\n        <thead>\\r\\n            <tr>\\r\\n                <th scope=\"colgroup\" colspan=\"2\">구분</th>\\r\\n                <th scope=\"col\">월</th>\\r\\n                <th scope=\"col\">화</th>\\r\\n                <th scope=\"col\">수</th>\\r\\n                <th scope=\"col\">목</th>\\r\\n                <th scope=\"col\">금</th>\\r\\n                <th scope=\"col\">토</th>\\r\\n                <th scope=\"col\">일</th>\\r\\n            </tr>\\r\\n        </thead>\\r\\n        <tbody>\\r\\n\\r\\n                <tr>\\r\\n<TD class=\\'tc\\'>아침</TD><TD class=\\'tc\\'>정식</TD>\\r\\n                    <td class=\"tc\">쌀밥<br>팽이버섯계란국<br>숯불닭살불고기<br>고구마맛탕<br>양념깻잎지<br>배추김치&nbsp;</td>\\r\\n                    <td class=\"tc\">쌀밥<br>모듬해물맑은국<br>돈채피망볶음<br>두반장두부조림<br>조미김<br>배추김치&nbsp;</td>\\r\\n                    <td class=\"tc\">쌀밥<br>북어해장국<br>매콤오징어볶음<br>한입호박전<br>무생채<br>배추김치&nbsp;</td>\\r\\n                    <td class=\"tc\">쌀밥<br>사골떡국<br>계란말이<br>알감자조림<br>오이무침<br>배추김치, 초코파이&nbsp;</td>\\r\\n                    <td class=\"tc\">쌀밥<br>소고기무웃국<br>간장닭순살볶음<br>청포묵김가루무침<br>콩조림<br>배추김치&nbsp;</td>\\r\\n                    <td class=\"tc\">야채스쿱밥<br>식빵토스트+쨈<br>양송이스프<br>왕소세지구이<br>샐러드+드레싱&nbsp;</td>\\r\\n                    <td class=\"tc\">쌀밥<br>김치콩나물국<br>미트볼깐풍칠리조림<br>옥수수전<br>어채달짝볶음<br>배추김치&nbsp;</td>\\r\\n                </tr>\\r\\n\\r\\n                <tr>\\r\\n<TD class=\\'tc\\'>점심</TD><TD class=\\'tc\\'>일품</TD>\\r\\n                    <td class=\"tc\">제육덮밥<br>참치김치찌개(+밥+밑반찬)<br>라면 (+계란+밥)<br>치킨마요<br>뚝배기알밥<br>닭갈비덮밥<br>돈까스/치즈돈까스/고구마치즈돈까스<br>중화요리볶음밥<br>짜장면/밥<br>짬뽕면/밥<br>탕수육&nbsp;</td>\\r\\n                    <td class=\"tc\">제육덮밥<br>참치김치찌개(+밥+밑반찬)<br>라면 (+계란+밥)<br>치킨마요<br>뚝배기알밥<br>닭갈비덮밥<br>돈까스/치즈돈까스/고구마치즈돈까스<br>중화요리볶음밥<br>짜장면/밥<br>짬뽕면/밥<br>탕수육&nbsp;</td>\\r\\n                    <td class=\"tc\">제육덮밥<br>참치김치찌개(+밥+밑반찬)<br>라면 (+계란+밥)<br>치킨마요<br>뚝배기알밥<br>닭갈비덮밥<br>돈까스/치즈돈까스/고구마치즈돈까스<br>중화요리볶음밥<br>짜장면/밥<br>짬뽕면/밥<br>탕수육&nbsp;</td>\\r\\n                    <td class=\"tc\">제육덮밥<br>참치김치찌개(+밥+밑반찬)<br>라면 (+계란+밥)<br>치킨마요<br>뚝배기알밥<br>닭갈비덮밥<br>돈까스/치즈돈까스/고구마치즈돈까스<br>중화요리볶음밥<br>짜장면/밥<br>짬뽕면/밥<br>탕수육&nbsp;</td>\\r\\n                    <td class=\"tc\">제육덮밥<br>참치김치찌개(+밥+밑반찬)<br>라면 (+계란+밥)<br>치킨마요<br>뚝배기알밥<br>돈까스/치즈돈까스/고구마치즈돈까스<br>중화요리볶음밥<br>짜장면/밥<br>짬뽕면/밥<br>탕수육&nbsp;</td>\\r\\n                    <td class=\"tc\">참치김치찌개(+밥+밑반찬)<br>라면 (+계란+밥)<br>치킨마요<br>뚝배기알밥<br>돈까스/치즈돈까스/고구마치즈돈까스&nbsp;</td>\\r\\n                    <td class=\"tc\">&nbsp;</td>\\r\\n                </tr>\\r\\n\\r\\n                <tr>\\r\\n<TD class=\\'tc\\'>저녁</TD><TD class=\\'tc\\'>정식</TD>\\r\\n                    <td class=\"tc\">쌀밥<br>미역국<br>바싹불고기+파채무침<br>계란찜<br>콩나물무침<br>배추김치&nbsp;</td>\\r\\n                    <td class=\"tc\">쌀밥<br>시락국<br>고추장제육볶음<br>만두버섯탕수<br>볼어묵메란조림<br>배추김치&nbsp;</td>\\r\\n                    <td class=\"tc\">쌀밥<br>두부계란국<br>어니언크림치킨<br>쫄면야채무침<br>콘샐러드<br>배추김치&nbsp;</td>\\r\\n                    <td class=\"tc\">김가루밥<br>우동장국<br>타워함박스테이크<br>토마토스파게티<br>야채샐러드<br>요구르트&nbsp;</td>\\r\\n                    <td class=\"tc\">참치야채비빔밥<br>계란후라이<br>유부장국<br>배추김치<br>주스&nbsp;</td>\\r\\n                    <td class=\"tc\">카레라이스<br>유부장국<br>미니핫도그+설탕<br>배추김치&nbsp;</td>\\r\\n                    <td class=\"tc\">쌀밥<br>모듬까스+소스<br>양배추샐러드+드레싱<br>우동장국<br>배추김치&nbsp;</td>\\r\\n                </tr>\\r\\n\\r\\n        </tbody>\\r\\n    </table>\\r\\n   \\r\\n</div>\\r\\n<strong class=\"lg\">※ 운영시간<br/>- 조식 : 07:40~09:00(국밥류)<br/>- 중식 : 11:00~14:00<br/>- 석식 : 17:00~19:00(주말은 18:30에 마감)</strong>\\r\\n\\r\\n<p>※ 본식단은 시장사정에 따라 다소 변경될 수 있습니다.<br>\\r\\n    ※ 학교 식당에 관한 문의나 건의사항이 있으시면 학생취업처(교내 3018)/식당직영사업단(교내 3054)로 문의하여 주시기 바랍니다.</p>\\r\\n\\r\\n       <!--     <p><img src=\"/IMG/ST_M05_S03_SS03_SSS01-03.gif\" alt=\"바이오텍빌리지\"> </p>\\r\\n\\r\\n            <table border=\"0\" cellpadding=\"0\" cellspacing=\"0\" width=\"100%\" align=\"center\"  >\\r\\n                <tr>\\r\\n                    <td colspan=\"8\" height=\"2\" bgcolor=\"C0CDDD\"></td>\\r\\n                </tr>\\r\\n            </table>\\r\\n            <table border=\"0\" cellpadding=\"0\" cellspacing=\"0\" width=\"100%\" align=\"center\"  >\\r\\n                <tr align=\"center\" >\\r\\n                    <td class=\"table_Ttd_bottom\" colspan=\"2\">&nbsp;</td>\\r\\n                    <td width=\"12%\" class=\"table_Ttd_leftbottom\">월</td>\\r\\n                    <td width=\"12%\" class=\"table_Ttd_leftbottom\">화</td>\\r\\n                    <td width=\"12%\" class=\"table_Ttd_leftbottom\">수</td>\\r\\n                    <td width=\"12%\" class=\"table_Ttd_leftbottom\">목</td>\\r\\n                    <td width=\"12%\" class=\"table_Ttd_leftbottom\">금</td>\\r\\n                    <td width=\"12%\" class=\"table_Ttd_leftbottom\">토</td>\\r\\n                    <td width=\"12%\" class=\"table_Ttd_leftbottom\">일</td>\\r\\n                </tr>\\r\\n                <tr>\\r\\n                    <td colspan=\"9\" height=1 bgcolor=\"C0CDDD\"></td>\\r\\n                </tr>\\r\\n                \\r\\n                <tr bgcolor=\"#FFFFFF\" height=100>\\r\\n                    <td align=center colspan=9 class=\"table_td_bottomC\">작성된 식단이 없습니다.</td>\\r\\n                </tr>\\r\\n                \\r\\n                <tr>\\r\\n                    <td colspan=\"9\" height=1 bgcolor=\"C0CDDD\"></td>\\r\\n                </tr>\\r\\n            </table>-->\\r\\n\\r\\n\\r\\n            \\r\\n            <!-- 내용 끝 --> \\r\\n\\r\\n\\r\\n\\r\\n                    </div>\\r\\n                </div>\\r\\n            </article>\\r\\n        </div>\\r\\n    </div>\\r\\n\\r\\n<footer>\\r\\n    <h2 class=\"offscreen\">사이트 하단정보</h2>\\r\\n\\t<div class=\"footQuickLinkBox\">\\r\\n\\t\\t<div class=\"quickLink\">\\r\\n\\t\\t\\t<ul>\\r\\n\\t\\t\\t\\t<li><a href=\\'../etc/privacy-policy.asp\\'>개인정보처리방침</a></li><!--\\r\\n\\t\\t\\t\\t--><li><a href=\\'../etc/email-guide.asp\\'>이메일무단수집거부</a></li><!--\\r\\n\\t\\t\\t\\t--><li><a href=\"http://www.academyinfo.go.kr/popup/pubinfo1690/list.do?schlId=0000164\" target=\"_blank\" title=\"[새 창 열림]대학정보공시 바로가기\">대학정보공시</a></li><!--\\r\\n\\t\\t\\t\\t--><li><a href=\\'../etc/self-evaluation.asp\\'>대학자체평가공시</a></li><!--\\r\\n\\t\\t\\t\\t--><li><a href=\\'../Template/Bsub_page.asp?Ltype=1&Ltype2=4&Ltype3=4&Tname=S_Money&Ldir=board/S_Money&Lpage=Tboard_Report&d1n=1&d2n=5&d3n=5&d4n=0\\'>예결산공고</a></li><!--\\r\\n\\t\\t\\t\\t--><li><a href=\"https://rule.inje.ac.kr\" target=\"_blank\" title=\"규정집 바로가기\">규정집</a></li>\\r\\n\\t\\t\\t</ul>\\r\\n\\t\\t</div>\\r\\n\\t</div>\\r\\n\\t<div class=\"footAddressBox\">\\r\\n\\t\\t<div class=\"footLogo\">인제대학교</div>\\r\\n\\t\\t<h2 class=\"offscreen\">인제대학교 주소</h2>\\r\\n\\t\\t<address>\\r\\n\\t\\t\\t<dl>\\r\\n\\t\\t\\t\\t<dt>김해캠퍼스</dt>\\r\\n\\t\\t\\t\\t<dd><span>(50834) 경남 김해시 인제로 197</span><span>TEL. 055-334-7111</span><span>FAX. 055-334-0712</span><span>E-mail. <a href=\"mailto:webmaster@inje.ac.kr\">webmaster@inje.ac.kr</a></span></dd>\\r\\n\\t\\t\\t</dl>\\r\\n\\t\\t\\t<dl>\\r\\n\\t\\t\\t\\t<dt>부산캠퍼스</dt>\\r\\n\\t\\t\\t\\t<dd><span>(47392) 부산광역시 부산진구 복지로 75(부산백병원 내)</span><span>TEL. 051-890-6625</span><span>FAX. 051-895-1864</span></dd>\\r\\n\\t\\t\\t</dl>\\r\\n\\t\\t</address>\\r\\n        <dl class=\"copyright\"><dd>Copyright(c) 1996-2022 INJE University. <br class=\"br_mo\" />All rights reserved.</dd></dl>\\r\\n\\t</div>\\r\\n\\r\\n</footer>\\r\\n</main>\\r\\n\\r\\n<!-- top 버튼 -->\\r\\n<div id=\"btnTop\">TOP</div>\\r\\n<!-- //top 버튼 -->\\r\\n\\r\\n\\r\\n<script src=\"../assets/js/common.js\"></script>\\r\\n<script>\\r\\n    var UserAgent = navigator.userAgent;\\r\\n    if (UserAgent.match(/iPhone|iPad|iPod|Android|Windows CE|BlackBerry|Symbian|Windows Phone|webOS|Opera Mini|Opera Mobi|POLARIS|IEMobile|lgtelecom|nokia|SonyEricsson/i) != null || UserAgent.match(/LG|SAMSUNG|Samsung/) != null) {\\r\\n        $(\\'body\\').attr(\\'id\\',\\'mobile\\');\\r\\n    }else{\\r\\n        $(\\'body\\').attr(\\'id\\',\\'pc\\');\\r\\n    }\\r\\n\\r\\n//통합검색\\r\\n$(document).ready(function(e) {\\r\\n\\t$(\".btnSearch\").click(function(){\\r\\n\\t\\t$(\".headerSearchBox\").slideDown(\"fase\");\\r\\n\\t\\t$(\".headerSearchBox .textSrc\").focus();\\r\\n\\t});\\r\\n\\t$(\".clsSearchBtn\").click(function(){\\r\\n\\t\\t$(\".headerSearchBox\").slideUp(\"fase\");\\r\\n\\t});\\r\\n\\t\\r\\n\\t\\r\\n\\t$(\"#btnTop\").click(function(){\\r\\n\\t\\t$(window).scrollTop(\\'0\\');\\r\\n\\t});\\r\\n\\t\\r\\n\\t//스크롤 테이블\\r\\n\\t$(\\'.scrollTbl\\').scroll(function(){\\r\\n\\t\\t$(this).removeClass(\\'scrollImg\\');\\r\\n\\t});\\r\\n});\\r\\n</script>\\r\\n\\t\\r\\n\\r\\n<script src=\"../assets/js/sub.js\"></script>\\r\\n\\r\\n</body>\\r\\n</html>'"
            ],
            "application/vnd.google.colaboratory.intrinsic+json": {
              "type": "string"
            }
          },
          "metadata": {},
          "execution_count": 2
        }
      ]
    },
    {
      "cell_type": "code",
      "source": [
        "# 숫자를 선택하는 정규식\n",
        "import re\n",
        "s = \"Copyright(c) 10,000원 1996-2022 INJE University2. All rights reserved.\"\n",
        "matches = re.findall(\"[0-9,]{4,}\", s)\n",
        "print(matches)"
      ],
      "metadata": {
        "colab": {
          "base_uri": "https://localhost:8080/"
        },
        "id": "gqZYimWl3IZl",
        "outputId": "e418eb92-1656-4a31-b520-36e78d56f9c0"
      },
      "execution_count": null,
      "outputs": [
        {
          "output_type": "stream",
          "name": "stdout",
          "text": [
            "['10,000', '1996', '2022']\n"
          ]
        }
      ]
    },
    {
      "cell_type": "code",
      "source": [
        "# 이메일을 선택하는 정규식\n",
        "import re\n",
        "s = \"제 메일은 premed@gmail.com입니다.\"\n",
        "matches = re.findall(\"[a-z]+@[a-z]+\\.[a-z]+\", s)\n",
        "print(matches)"
      ],
      "metadata": {
        "colab": {
          "base_uri": "https://localhost:8080/"
        },
        "id": "TJIxSGRM4fDm",
        "outputId": "a69b1167-720a-4aff-8128-f500c26737c2"
      },
      "execution_count": null,
      "outputs": [
        {
          "output_type": "stream",
          "name": "stdout",
          "text": [
            "['premed@gmail.com']\n"
          ]
        }
      ]
    },
    {
      "cell_type": "code",
      "source": [
        "# 이메일을 선택하는 정규식2\n",
        "import re\n",
        "s = \"제 메일은 premed@gmail.com, pre_med@inje.ac.kr입니다.\"\n",
        "matches = re.findall(\"[a-z_]+@[a-z.]+\", s)\n",
        "print(matches)"
      ],
      "metadata": {
        "colab": {
          "base_uri": "https://localhost:8080/"
        },
        "id": "nRueRwsw5GD9",
        "outputId": "7b47be7a-75d8-4d04-82d9-720e5255d0e0"
      },
      "execution_count": null,
      "outputs": [
        {
          "output_type": "stream",
          "name": "stdout",
          "text": [
            "['premed@gmail.com', 'pre_med@inje.ac.kr']\n"
          ]
        }
      ]
    },
    {
      "cell_type": "code",
      "source": [
        "# 이메일 패턴에서 아이디 부분만 선택하는 정규식. 괄호를 이용\n",
        "import re\n",
        "s = \"제 메일은 premed@gmail.com, pre_med@inje.ac.kr입니다.\"\n",
        "matches = re.findall(\"([a-z_]+)@[a-z.]+\", s)\n",
        "print(matches)"
      ],
      "metadata": {
        "colab": {
          "base_uri": "https://localhost:8080/"
        },
        "id": "Y8hcgKQP6k3e",
        "outputId": "712b03c9-ed4d-4720-d254-1e1d0dffd3b7"
      },
      "execution_count": null,
      "outputs": [
        {
          "output_type": "stream",
          "name": "stdout",
          "text": [
            "['premed', 'pre_med']\n"
          ]
        }
      ]
    },
    {
      "cell_type": "code",
      "source": [
        "# 메뉴가 몇 번째에 들어있는지 확인하기 위해 enumerate()와 for를 조합함\n",
        "menus = re.findall('<td class=\"tc\">(.+)</td>', page)\n",
        "for i, menu in enumerate(menus):\n",
        "  print(i, menu)"
      ],
      "metadata": {
        "colab": {
          "base_uri": "https://localhost:8080/"
        },
        "id": "YHRr-iSs7mIS",
        "outputId": "80fb4be0-dbbe-46e6-b843-71a867626cbd"
      },
      "execution_count": null,
      "outputs": [
        {
          "output_type": "stream",
          "name": "stdout",
          "text": [
            "0 (즉석)<br>뚝배기소불고기<br>+당면<br>감자메추리알장조림<br>김자반볶음&nbsp;\n",
            "1 (즉석)<br>계란간장밥<br>뚝배기새알미역국<br>미트볼케찹조림<br>으깬감자샐러드&nbsp;\n",
            "2 &lt多仁 식육식당&gt<br>오향장육<br>모듬쌈+쌈장<br>쌈무,파채콩나물겉절이<br>미소장국/흑미밥&nbsp;\n",
            "3 &lt중간고사 보양식&gt<br>진짜닭한마리삼계탕<br>*650개 한정판매*<br>+찹쌀밥<br>오이송송이<br>마늘쫑양파짱아찌&nbsp;\n",
            "4 (즉석)<br>카레라이스<br>미니우동<br>고로케+케찹&nbsp;\n",
            "5 치킨스테이크<br>페넨로제샐러드<br>양배추S+드레싱<br>크림스프&nbsp;\n",
            "6 닭갈비볶음밥<br>피쉬앤칩스+콘소스<br>샐러드<br>유부장국&nbsp;\n",
            "7 참치김치볶음밥<br>&계란후라이<br>설탕페스츄리핫도그+케찹<br>샐러드<br>우동장국&nbsp;\n",
            "8 치즈in돈까스<br>양배추샐러드+드레싱<br>옥수수스프&nbsp;\n",
            "9 &lt중간고사 보양식&gt<br>힘내라장어덮밥<br>*400개 한정판매*<br>+초생강<br>미소장국&nbsp;\n",
            "10 즉석추억의도시락<br>우동장국&nbsp;\n",
            "11 차돌쌀국수<br>+고수<br>+스리라차소스&nbsp;\n",
            "12 비빔냉면&nbsp;\n",
            "13 떡튀순set<br>(떡볶이+모듬튀김+순대)&nbsp;\n",
            "14 잔치국수<br>&김치찌짐&nbsp;\n",
            "15 소라죽&nbsp;\n",
            "16 참치야채죽&nbsp;\n",
            "17 소고기야채죽&nbsp;\n",
            "18 닭야채죽&nbsp;\n",
            "19 홍게살야채죽&nbsp;\n",
            "20 다인'소식다동'샐러드&nbsp;\n",
            "21 다인'소식다동'샐러드&nbsp;\n",
            "22 다인'소식다동'샐러드&nbsp;\n",
            "23 다인'소식다동'샐러드&nbsp;\n",
            "24 다인'소식다동'샐러드&nbsp;\n",
            "25 비타민듬뿍컵과일&nbsp;\n",
            "26 비타민듬뿍컵과일&nbsp;\n",
            "27 비타민듬뿍컵과일&nbsp;\n",
            "28 비타민듬뿍컵과일&nbsp;\n",
            "29 비타민듬뿍컵과일&nbsp;\n",
            "30 계란후라이<br>도시락김&nbsp;\n",
            "31 계란후라이<br>도시락김&nbsp;\n",
            "32 계란후라이<br>도시락김&nbsp;\n",
            "33 계란후라이<br>도시락김&nbsp;\n",
            "34 계란후라이<br>도시락김&nbsp;\n",
            "35 쌀밥<br>팽이버섯계란국<br>숯불닭살불고기<br>고구마맛탕<br>양념깻잎지<br>배추김치&nbsp;\n",
            "36 쌀밥<br>모듬해물맑은국<br>돈채피망볶음<br>두반장두부조림<br>조미김<br>배추김치&nbsp;\n",
            "37 쌀밥<br>북어해장국<br>매콤오징어볶음<br>한입호박전<br>무생채<br>배추김치&nbsp;\n",
            "38 쌀밥<br>사골떡국<br>계란말이<br>알감자조림<br>오이무침<br>배추김치, 초코파이&nbsp;\n",
            "39 쌀밥<br>소고기무웃국<br>간장닭순살볶음<br>청포묵김가루무침<br>콩조림<br>배추김치&nbsp;\n",
            "40 야채스쿱밥<br>식빵토스트+쨈<br>양송이스프<br>왕소세지구이<br>샐러드+드레싱&nbsp;\n",
            "41 쌀밥<br>김치콩나물국<br>미트볼깐풍칠리조림<br>옥수수전<br>어채달짝볶음<br>배추김치&nbsp;\n",
            "42 제육덮밥<br>참치김치찌개(+밥+밑반찬)<br>라면 (+계란+밥)<br>치킨마요<br>뚝배기알밥<br>닭갈비덮밥<br>돈까스/치즈돈까스/고구마치즈돈까스<br>중화요리볶음밥<br>짜장면/밥<br>짬뽕면/밥<br>탕수육&nbsp;\n",
            "43 제육덮밥<br>참치김치찌개(+밥+밑반찬)<br>라면 (+계란+밥)<br>치킨마요<br>뚝배기알밥<br>닭갈비덮밥<br>돈까스/치즈돈까스/고구마치즈돈까스<br>중화요리볶음밥<br>짜장면/밥<br>짬뽕면/밥<br>탕수육&nbsp;\n",
            "44 제육덮밥<br>참치김치찌개(+밥+밑반찬)<br>라면 (+계란+밥)<br>치킨마요<br>뚝배기알밥<br>닭갈비덮밥<br>돈까스/치즈돈까스/고구마치즈돈까스<br>중화요리볶음밥<br>짜장면/밥<br>짬뽕면/밥<br>탕수육&nbsp;\n",
            "45 제육덮밥<br>참치김치찌개(+밥+밑반찬)<br>라면 (+계란+밥)<br>치킨마요<br>뚝배기알밥<br>닭갈비덮밥<br>돈까스/치즈돈까스/고구마치즈돈까스<br>중화요리볶음밥<br>짜장면/밥<br>짬뽕면/밥<br>탕수육&nbsp;\n",
            "46 제육덮밥<br>참치김치찌개(+밥+밑반찬)<br>라면 (+계란+밥)<br>치킨마요<br>뚝배기알밥<br>돈까스/치즈돈까스/고구마치즈돈까스<br>중화요리볶음밥<br>짜장면/밥<br>짬뽕면/밥<br>탕수육&nbsp;\n",
            "47 참치김치찌개(+밥+밑반찬)<br>라면 (+계란+밥)<br>치킨마요<br>뚝배기알밥<br>돈까스/치즈돈까스/고구마치즈돈까스&nbsp;\n",
            "48 &nbsp;\n",
            "49 쌀밥<br>미역국<br>바싹불고기+파채무침<br>계란찜<br>콩나물무침<br>배추김치&nbsp;\n",
            "50 쌀밥<br>시락국<br>고추장제육볶음<br>만두버섯탕수<br>볼어묵메란조림<br>배추김치&nbsp;\n",
            "51 쌀밥<br>두부계란국<br>어니언크림치킨<br>쫄면야채무침<br>콘샐러드<br>배추김치&nbsp;\n",
            "52 김가루밥<br>우동장국<br>타워함박스테이크<br>토마토스파게티<br>야채샐러드<br>요구르트&nbsp;\n",
            "53 참치야채비빔밥<br>계란후라이<br>유부장국<br>배추김치<br>주스&nbsp;\n",
            "54 카레라이스<br>유부장국<br>미니핫도그+설탕<br>배추김치&nbsp;\n",
            "55 쌀밥<br>모듬까스+소스<br>양배추샐러드+드레싱<br>우동장국<br>배추김치&nbsp;\n"
          ]
        }
      ]
    },
    {
      "cell_type": "code",
      "source": [
        "# for i in range()를 이용해 i값을 변화시키고, i 값 하나로 요일과 메뉴를 하나씩 지정해 가져옴\n",
        "yoil = \"월화수목금\"\n",
        "string = \"[다인A]\\n\"\n",
        "for i in range(5):\n",
        "  string += f\"{yoil[i]}: {menus[i]}\\n\"\n",
        "print(string)"
      ],
      "metadata": {
        "colab": {
          "base_uri": "https://localhost:8080/"
        },
        "id": "PQY9ko_F8WV2",
        "outputId": "83be479f-430e-46ea-81fc-1c32c1f5d512"
      },
      "execution_count": null,
      "outputs": [
        {
          "output_type": "stream",
          "name": "stdout",
          "text": [
            "[다인A]\n",
            "월: (즉석)<br>뚝배기소불고기<br>+당면<br>감자메추리알장조림<br>김자반볶음&nbsp;\n",
            "화: (즉석)<br>계란간장밥<br>뚝배기새알미역국<br>미트볼케찹조림<br>으깬감자샐러드&nbsp;\n",
            "수: &lt多仁 식육식당&gt<br>오향장육<br>모듬쌈+쌈장<br>쌈무,파채콩나물겉절이<br>미소장국/흑미밥&nbsp;\n",
            "목: &lt중간고사 보양식&gt<br>진짜닭한마리삼계탕<br>*650개 한정판매*<br>+찹쌀밥<br>오이송송이<br>마늘쫑양파짱아찌&nbsp;\n",
            "금: (즉석)<br>카레라이스<br>미니우동<br>고로케+케찹&nbsp;\n",
            "\n"
          ]
        }
      ]
    },
    {
      "cell_type": "code",
      "source": [
        "# 추출된 내용을 정리해서 필요한 내용만 남기는 과정\n",
        "yoil = \"월화수목금\"\n",
        "string = \"[다인A]\\n\"\n",
        "for i in range(5):\n",
        "  menu = menus[i].replace(\"<br>\", \" \")\n",
        "  menu = menu.replace(\"&nbsp;\", \" \")\n",
        "  #menu = re.sub(\"&lt.+&gt\", \"\", menu)\n",
        "  string += f\"{yoil[i]}: {menu}\\n\"\n",
        "print(string)"
      ],
      "metadata": {
        "colab": {
          "base_uri": "https://localhost:8080/"
        },
        "id": "OwlGUyaj9Ymy",
        "outputId": "a81b5767-cde8-407e-cb83-c155fc832f89"
      },
      "execution_count": null,
      "outputs": [
        {
          "output_type": "stream",
          "name": "stdout",
          "text": [
            "[다인A]\n",
            "월: (즉석) 뚝배기소불고기 +당면 감자메추리알장조림 김자반볶음 \n",
            "화: (즉석) 계란간장밥 뚝배기새알미역국 미트볼케찹조림 으깬감자샐러드 \n",
            "수: &lt多仁 식육식당&gt 오향장육 모듬쌈+쌈장 쌈무,파채콩나물겉절이 미소장국/흑미밥 \n",
            "목: &lt중간고사 보양식&gt 진짜닭한마리삼계탕 *650개 한정판매* +찹쌀밥 오이송송이 마늘쫑양파짱아찌 \n",
            "금: (즉석) 카레라이스 미니우동 고로케+케찹 \n",
            "\n"
          ]
        }
      ]
    },
    {
      "cell_type": "code",
      "source": [
        "# 괄호를 정규식 패턴으로 지정할 때 역슬래시를 붙여 escape처리가 필요함.\n",
        "yoil = \"월화수목금\"\n",
        "string = \"[다인A]\\n\"\n",
        "for i in range(5):\n",
        "  menu = menus[i].replace(\"<br>\", \" \")\n",
        "  menu = menu.replace(\"&nbsp;\", \" \")\n",
        "  menu = re.sub(\"&lt.+&gt\", \"\", menu)\n",
        "  menu = re.sub(\"\\([^)]+\\)\", \"\", menu)\n",
        "  string += f\"{yoil[i]}: {menu}\\n\"\n",
        "print(string)"
      ],
      "metadata": {
        "colab": {
          "base_uri": "https://localhost:8080/"
        },
        "id": "AOoTloiQ-nos",
        "outputId": "dc288c85-cd7c-442a-f0ad-f465e8afbd7d"
      },
      "execution_count": null,
      "outputs": [
        {
          "output_type": "stream",
          "name": "stdout",
          "text": [
            "[다인A]\n",
            "월:  뚝배기소불고기 +당면 감자메추리알장조림 김자반볶음 \n",
            "화:  계란간장밥 뚝배기새알미역국 미트볼케찹조림 으깬감자샐러드 \n",
            "수:  오향장육 모듬쌈+쌈장 쌈무,파채콩나물겉절이 미소장국/흑미밥 \n",
            "목:  진짜닭한마리삼계탕 *650개 한정판매* +찹쌀밥 오이송송이 마늘쫑양파짱아찌 \n",
            "금:  카레라이스 미니우동 고로케+케찹 \n",
            "\n"
          ]
        }
      ]
    },
    {
      "cell_type": "code",
      "source": [
        "# 괄호와 안의 내용을 지울 때 여는괄호 + 닫는괄호가 아닌 문자들 + 닫는괄호 조합으로 만들어야 전체 내용이 사라지는 것을 막을 수 있음\n",
        "s = \"(a)bcd(e)\"\n",
        "s = re.sub(\"\\([^)]+\\)\", \"\", s)\n",
        "print(s)"
      ],
      "metadata": {
        "colab": {
          "base_uri": "https://localhost:8080/"
        },
        "id": "UZx8czob-8-z",
        "outputId": "ab50ba75-f4f1-4d88-b88d-2eedffa704a4"
      },
      "execution_count": null,
      "outputs": [
        {
          "output_type": "stream",
          "name": "stdout",
          "text": [
            "\n"
          ]
        }
      ]
    },
    {
      "cell_type": "code",
      "source": [
        "# 정리 완료!\n",
        "yoil = \"월화수목금\"\n",
        "string = \"[다인A]\\n\"\n",
        "for i in range(5):\n",
        "  menu = menus[i].replace(\"<br>\", \" \")\n",
        "  menu = menu.replace(\"&nbsp;\", \" \")\n",
        "  menu = re.sub(\"&lt.+&gt\", \"\", menu)\n",
        "  menu = re.sub(\"\\([^)]+\\)\", \"\", menu)\n",
        "  menu = re.sub(\"\\s{2,}\", \" \", menu)\n",
        "  menu = menu.strip()\n",
        "  string += f\"{yoil[i]}: {menu}\\n\"\n",
        "print(string)"
      ],
      "metadata": {
        "colab": {
          "base_uri": "https://localhost:8080/"
        },
        "id": "oqf4unic_FBe",
        "outputId": "fdc6bb79-4c42-4509-f86f-7a25b584c4cd"
      },
      "execution_count": null,
      "outputs": [
        {
          "output_type": "stream",
          "name": "stdout",
          "text": [
            "[다인A]\n",
            "월: 뚝배기소불고기 +당면 감자메추리알장조림 김자반볶음\n",
            "화: 계란간장밥 뚝배기새알미역국 미트볼케찹조림 으깬감자샐러드\n",
            "수: 오향장육 모듬쌈+쌈장 쌈무,파채콩나물겉절이 미소장국/흑미밥\n",
            "목: 진짜닭한마리삼계탕 *650개 한정판매* +찹쌀밥 오이송송이 마늘쫑양파짱아찌\n",
            "금: 카레라이스 미니우동 고로케+케찹\n",
            "\n"
          ]
        }
      ]
    },
    {
      "cell_type": "code",
      "source": [
        "# BeautifulSoup을 이용하는 경우 re를 이용하는 것보다 더 많은 선택결과가 나옴. TD를 대문자로 쓰거나 작은따옴표를 쓰는 경우도 모두 해당하기 때문.\n",
        "from bs4 import BeautifulSoup\n",
        "soup = BeautifulSoup(page, \"html.parser\")\n",
        "menu_tags = soup.find_all(\"td\", attrs={\"class\": \"tc\"})\n",
        "menu_tags"
      ],
      "metadata": {
        "colab": {
          "base_uri": "https://localhost:8080/"
        },
        "id": "1mAYvkz1BIQT",
        "outputId": "f0fc041e-7290-4518-9b64-5f35b72bf09d"
      },
      "execution_count": null,
      "outputs": [
        {
          "output_type": "execute_result",
          "data": {
            "text/plain": [
              "[<td class=\"tc\">A</td>,\n",
              " <td class=\"tc\">종일판매</td>,\n",
              " <td class=\"tc\">(즉석)<br/>뚝배기소불고기<br/>+당면<br/>감자메추리알장조림<br/>김자반볶음 </td>,\n",
              " <td class=\"tc\">(즉석)<br/>계란간장밥<br/>뚝배기새알미역국<br/>미트볼케찹조림<br/>으깬감자샐러드 </td>,\n",
              " <td class=\"tc\">&lt;多仁 식육식당&gt;<br/>오향장육<br/>모듬쌈+쌈장<br/>쌈무,파채콩나물겉절이<br/>미소장국/흑미밥 </td>,\n",
              " <td class=\"tc\">&lt;중간고사 보양식&gt;<br/>진짜닭한마리삼계탕<br/>*650개 한정판매*<br/>+찹쌀밥<br/>오이송송이<br/>마늘쫑양파짱아찌 </td>,\n",
              " <td class=\"tc\">(즉석)<br/>카레라이스<br/>미니우동<br/>고로케+케찹 </td>,\n",
              " <td class=\"tc\">B</td>,\n",
              " <td class=\"tc\">종일판매</td>,\n",
              " <td class=\"tc\">치킨스테이크<br/>페넨로제샐러드<br/>양배추S+드레싱<br/>크림스프 </td>,\n",
              " <td class=\"tc\">닭갈비볶음밥<br/>피쉬앤칩스+콘소스<br/>샐러드<br/>유부장국 </td>,\n",
              " <td class=\"tc\">참치김치볶음밥<br/>&amp;계란후라이<br/>설탕페스츄리핫도그+케찹<br/>샐러드<br/>우동장국 </td>,\n",
              " <td class=\"tc\">치즈in돈까스<br/>양배추샐러드+드레싱<br/>옥수수스프 </td>,\n",
              " <td class=\"tc\">&lt;중간고사 보양식&gt;<br/>힘내라장어덮밥<br/>*400개 한정판매*<br/>+초생강<br/>미소장국 </td>,\n",
              " <td class=\"tc\">C</td>,\n",
              " <td class=\"tc\">11:00~14:30</td>,\n",
              " <td class=\"tc\">즉석추억의도시락<br/>우동장국 </td>,\n",
              " <td class=\"tc\">차돌쌀국수<br/>+고수<br/>+스리라차소스 </td>,\n",
              " <td class=\"tc\">비빔냉면 </td>,\n",
              " <td class=\"tc\">떡튀순set<br/>(떡볶이+모듬튀김+순대) </td>,\n",
              " <td class=\"tc\">잔치국수<br/>&amp;김치찌짐 </td>,\n",
              " <td class=\"tc\">C</td>,\n",
              " <td class=\"tc\">소진시까지판매</td>,\n",
              " <td class=\"tc\">소라죽 </td>,\n",
              " <td class=\"tc\">참치야채죽 </td>,\n",
              " <td class=\"tc\">소고기야채죽 </td>,\n",
              " <td class=\"tc\">닭야채죽 </td>,\n",
              " <td class=\"tc\">홍게살야채죽 </td>,\n",
              " <td class=\"tc\">C</td>,\n",
              " <td class=\"tc\">소진시까지판매</td>,\n",
              " <td class=\"tc\">다인'소식다동'샐러드 </td>,\n",
              " <td class=\"tc\">다인'소식다동'샐러드 </td>,\n",
              " <td class=\"tc\">다인'소식다동'샐러드 </td>,\n",
              " <td class=\"tc\">다인'소식다동'샐러드 </td>,\n",
              " <td class=\"tc\">다인'소식다동'샐러드 </td>,\n",
              " <td class=\"tc\">C</td>,\n",
              " <td class=\"tc\">소진시까지판매</td>,\n",
              " <td class=\"tc\">비타민듬뿍컵과일 </td>,\n",
              " <td class=\"tc\">비타민듬뿍컵과일 </td>,\n",
              " <td class=\"tc\">비타민듬뿍컵과일 </td>,\n",
              " <td class=\"tc\">비타민듬뿍컵과일 </td>,\n",
              " <td class=\"tc\">비타민듬뿍컵과일 </td>,\n",
              " <td class=\"tc\" colspan=\"2\">추가찬</td>,\n",
              " <td class=\"tc\">계란후라이<br/>도시락김 </td>,\n",
              " <td class=\"tc\">계란후라이<br/>도시락김 </td>,\n",
              " <td class=\"tc\">계란후라이<br/>도시락김 </td>,\n",
              " <td class=\"tc\">계란후라이<br/>도시락김 </td>,\n",
              " <td class=\"tc\">계란후라이<br/>도시락김 </td>,\n",
              " <td class=\"tc\">아침</td>,\n",
              " <td class=\"tc\">정식</td>,\n",
              " <td class=\"tc\">쌀밥<br/>팽이버섯계란국<br/>숯불닭살불고기<br/>고구마맛탕<br/>양념깻잎지<br/>배추김치 </td>,\n",
              " <td class=\"tc\">쌀밥<br/>모듬해물맑은국<br/>돈채피망볶음<br/>두반장두부조림<br/>조미김<br/>배추김치 </td>,\n",
              " <td class=\"tc\">쌀밥<br/>북어해장국<br/>매콤오징어볶음<br/>한입호박전<br/>무생채<br/>배추김치 </td>,\n",
              " <td class=\"tc\">쌀밥<br/>사골떡국<br/>계란말이<br/>알감자조림<br/>오이무침<br/>배추김치, 초코파이 </td>,\n",
              " <td class=\"tc\">쌀밥<br/>소고기무웃국<br/>간장닭순살볶음<br/>청포묵김가루무침<br/>콩조림<br/>배추김치 </td>,\n",
              " <td class=\"tc\">야채스쿱밥<br/>식빵토스트+쨈<br/>양송이스프<br/>왕소세지구이<br/>샐러드+드레싱 </td>,\n",
              " <td class=\"tc\">쌀밥<br/>김치콩나물국<br/>미트볼깐풍칠리조림<br/>옥수수전<br/>어채달짝볶음<br/>배추김치 </td>,\n",
              " <td class=\"tc\">점심</td>,\n",
              " <td class=\"tc\">일품</td>,\n",
              " <td class=\"tc\">제육덮밥<br/>참치김치찌개(+밥+밑반찬)<br/>라면 (+계란+밥)<br/>치킨마요<br/>뚝배기알밥<br/>닭갈비덮밥<br/>돈까스/치즈돈까스/고구마치즈돈까스<br/>중화요리볶음밥<br/>짜장면/밥<br/>짬뽕면/밥<br/>탕수육 </td>,\n",
              " <td class=\"tc\">제육덮밥<br/>참치김치찌개(+밥+밑반찬)<br/>라면 (+계란+밥)<br/>치킨마요<br/>뚝배기알밥<br/>닭갈비덮밥<br/>돈까스/치즈돈까스/고구마치즈돈까스<br/>중화요리볶음밥<br/>짜장면/밥<br/>짬뽕면/밥<br/>탕수육 </td>,\n",
              " <td class=\"tc\">제육덮밥<br/>참치김치찌개(+밥+밑반찬)<br/>라면 (+계란+밥)<br/>치킨마요<br/>뚝배기알밥<br/>닭갈비덮밥<br/>돈까스/치즈돈까스/고구마치즈돈까스<br/>중화요리볶음밥<br/>짜장면/밥<br/>짬뽕면/밥<br/>탕수육 </td>,\n",
              " <td class=\"tc\">제육덮밥<br/>참치김치찌개(+밥+밑반찬)<br/>라면 (+계란+밥)<br/>치킨마요<br/>뚝배기알밥<br/>닭갈비덮밥<br/>돈까스/치즈돈까스/고구마치즈돈까스<br/>중화요리볶음밥<br/>짜장면/밥<br/>짬뽕면/밥<br/>탕수육 </td>,\n",
              " <td class=\"tc\">제육덮밥<br/>참치김치찌개(+밥+밑반찬)<br/>라면 (+계란+밥)<br/>치킨마요<br/>뚝배기알밥<br/>돈까스/치즈돈까스/고구마치즈돈까스<br/>중화요리볶음밥<br/>짜장면/밥<br/>짬뽕면/밥<br/>탕수육 </td>,\n",
              " <td class=\"tc\">참치김치찌개(+밥+밑반찬)<br/>라면 (+계란+밥)<br/>치킨마요<br/>뚝배기알밥<br/>돈까스/치즈돈까스/고구마치즈돈까스 </td>,\n",
              " <td class=\"tc\"> </td>,\n",
              " <td class=\"tc\">저녁</td>,\n",
              " <td class=\"tc\">정식</td>,\n",
              " <td class=\"tc\">쌀밥<br/>미역국<br/>바싹불고기+파채무침<br/>계란찜<br/>콩나물무침<br/>배추김치 </td>,\n",
              " <td class=\"tc\">쌀밥<br/>시락국<br/>고추장제육볶음<br/>만두버섯탕수<br/>볼어묵메란조림<br/>배추김치 </td>,\n",
              " <td class=\"tc\">쌀밥<br/>두부계란국<br/>어니언크림치킨<br/>쫄면야채무침<br/>콘샐러드<br/>배추김치 </td>,\n",
              " <td class=\"tc\">김가루밥<br/>우동장국<br/>타워함박스테이크<br/>토마토스파게티<br/>야채샐러드<br/>요구르트 </td>,\n",
              " <td class=\"tc\">참치야채비빔밥<br/>계란후라이<br/>유부장국<br/>배추김치<br/>주스 </td>,\n",
              " <td class=\"tc\">카레라이스<br/>유부장국<br/>미니핫도그+설탕<br/>배추김치 </td>,\n",
              " <td class=\"tc\">쌀밥<br/>모듬까스+소스<br/>양배추샐러드+드레싱<br/>우동장국<br/>배추김치 </td>]"
            ]
          },
          "metadata": {},
          "execution_count": 36
        }
      ]
    },
    {
      "cell_type": "code",
      "source": [
        "# enumerate로 번호 확인\n",
        "for i, menu_tag in enumerate(menu_tags):\n",
        "  menu = menu_tag.getText(\" \")\n",
        "  print(i, menu)"
      ],
      "metadata": {
        "colab": {
          "base_uri": "https://localhost:8080/"
        },
        "id": "xe1luG5nCF2x",
        "outputId": "d5323c34-886d-4cbf-bc9b-58adb988bf83"
      },
      "execution_count": null,
      "outputs": [
        {
          "output_type": "stream",
          "name": "stdout",
          "text": [
            "0 A\n",
            "1 종일판매\n",
            "2 (즉석) 뚝배기소불고기 +당면 감자메추리알장조림 김자반볶음 \n",
            "3 (즉석) 계란간장밥 뚝배기새알미역국 미트볼케찹조림 으깬감자샐러드 \n",
            "4 <多仁 식육식당> 오향장육 모듬쌈+쌈장 쌈무,파채콩나물겉절이 미소장국/흑미밥 \n",
            "5 <중간고사 보양식> 진짜닭한마리삼계탕 *650개 한정판매* +찹쌀밥 오이송송이 마늘쫑양파짱아찌 \n",
            "6 (즉석) 카레라이스 미니우동 고로케+케찹 \n",
            "7 B\n",
            "8 종일판매\n",
            "9 치킨스테이크 페넨로제샐러드 양배추S+드레싱 크림스프 \n",
            "10 닭갈비볶음밥 피쉬앤칩스+콘소스 샐러드 유부장국 \n",
            "11 참치김치볶음밥 &계란후라이 설탕페스츄리핫도그+케찹 샐러드 우동장국 \n",
            "12 치즈in돈까스 양배추샐러드+드레싱 옥수수스프 \n",
            "13 <중간고사 보양식> 힘내라장어덮밥 *400개 한정판매* +초생강 미소장국 \n",
            "14 C\n",
            "15 11:00~14:30\n",
            "16 즉석추억의도시락 우동장국 \n",
            "17 차돌쌀국수 +고수 +스리라차소스 \n",
            "18 비빔냉면 \n",
            "19 떡튀순set (떡볶이+모듬튀김+순대) \n",
            "20 잔치국수 &김치찌짐 \n",
            "21 C\n",
            "22 소진시까지판매\n",
            "23 소라죽 \n",
            "24 참치야채죽 \n",
            "25 소고기야채죽 \n",
            "26 닭야채죽 \n",
            "27 홍게살야채죽 \n",
            "28 C\n",
            "29 소진시까지판매\n",
            "30 다인'소식다동'샐러드 \n",
            "31 다인'소식다동'샐러드 \n",
            "32 다인'소식다동'샐러드 \n",
            "33 다인'소식다동'샐러드 \n",
            "34 다인'소식다동'샐러드 \n",
            "35 C\n",
            "36 소진시까지판매\n",
            "37 비타민듬뿍컵과일 \n",
            "38 비타민듬뿍컵과일 \n",
            "39 비타민듬뿍컵과일 \n",
            "40 비타민듬뿍컵과일 \n",
            "41 비타민듬뿍컵과일 \n",
            "42 추가찬\n",
            "43 계란후라이 도시락김 \n",
            "44 계란후라이 도시락김 \n",
            "45 계란후라이 도시락김 \n",
            "46 계란후라이 도시락김 \n",
            "47 계란후라이 도시락김 \n",
            "48 아침\n",
            "49 정식\n",
            "50 쌀밥 팽이버섯계란국 숯불닭살불고기 고구마맛탕 양념깻잎지 배추김치 \n",
            "51 쌀밥 모듬해물맑은국 돈채피망볶음 두반장두부조림 조미김 배추김치 \n",
            "52 쌀밥 북어해장국 매콤오징어볶음 한입호박전 무생채 배추김치 \n",
            "53 쌀밥 사골떡국 계란말이 알감자조림 오이무침 배추김치, 초코파이 \n",
            "54 쌀밥 소고기무웃국 간장닭순살볶음 청포묵김가루무침 콩조림 배추김치 \n",
            "55 야채스쿱밥 식빵토스트+쨈 양송이스프 왕소세지구이 샐러드+드레싱 \n",
            "56 쌀밥 김치콩나물국 미트볼깐풍칠리조림 옥수수전 어채달짝볶음 배추김치 \n",
            "57 점심\n",
            "58 일품\n",
            "59 제육덮밥 참치김치찌개(+밥+밑반찬) 라면 (+계란+밥) 치킨마요 뚝배기알밥 닭갈비덮밥 돈까스/치즈돈까스/고구마치즈돈까스 중화요리볶음밥 짜장면/밥 짬뽕면/밥 탕수육 \n",
            "60 제육덮밥 참치김치찌개(+밥+밑반찬) 라면 (+계란+밥) 치킨마요 뚝배기알밥 닭갈비덮밥 돈까스/치즈돈까스/고구마치즈돈까스 중화요리볶음밥 짜장면/밥 짬뽕면/밥 탕수육 \n",
            "61 제육덮밥 참치김치찌개(+밥+밑반찬) 라면 (+계란+밥) 치킨마요 뚝배기알밥 닭갈비덮밥 돈까스/치즈돈까스/고구마치즈돈까스 중화요리볶음밥 짜장면/밥 짬뽕면/밥 탕수육 \n",
            "62 제육덮밥 참치김치찌개(+밥+밑반찬) 라면 (+계란+밥) 치킨마요 뚝배기알밥 닭갈비덮밥 돈까스/치즈돈까스/고구마치즈돈까스 중화요리볶음밥 짜장면/밥 짬뽕면/밥 탕수육 \n",
            "63 제육덮밥 참치김치찌개(+밥+밑반찬) 라면 (+계란+밥) 치킨마요 뚝배기알밥 돈까스/치즈돈까스/고구마치즈돈까스 중화요리볶음밥 짜장면/밥 짬뽕면/밥 탕수육 \n",
            "64 참치김치찌개(+밥+밑반찬) 라면 (+계란+밥) 치킨마요 뚝배기알밥 돈까스/치즈돈까스/고구마치즈돈까스 \n",
            "65  \n",
            "66 저녁\n",
            "67 정식\n",
            "68 쌀밥 미역국 바싹불고기+파채무침 계란찜 콩나물무침 배추김치 \n",
            "69 쌀밥 시락국 고추장제육볶음 만두버섯탕수 볼어묵메란조림 배추김치 \n",
            "70 쌀밥 두부계란국 어니언크림치킨 쫄면야채무침 콘샐러드 배추김치 \n",
            "71 김가루밥 우동장국 타워함박스테이크 토마토스파게티 야채샐러드 요구르트 \n",
            "72 참치야채비빔밥 계란후라이 유부장국 배추김치 주스 \n",
            "73 카레라이스 유부장국 미니핫도그+설탕 배추김치 \n",
            "74 쌀밥 모듬까스+소스 양배추샐러드+드레싱 우동장국 배추김치 \n"
          ]
        }
      ]
    },
    {
      "cell_type": "code",
      "source": [
        "# 비슷한 방식으로 정리\n",
        "yoil = \"월화수목금\"\n",
        "string = \"[다인A]\\n\"\n",
        "for i in range(0,5):\n",
        "  menu = menu_tags[i+2].getText(\" \")\n",
        "  menu = re.sub(\"<[^>]+>\", \"\", menu)\n",
        "  menu = re.sub(\"\\([^)]+\\)\", \"\", menu)\n",
        "  menu = re.sub(\"\\s{2,}\", \" \", menu)\n",
        "  menu = menu.strip()\n",
        "  print(f\"{yoil[i]}: {menu}\")"
      ],
      "metadata": {
        "colab": {
          "base_uri": "https://localhost:8080/"
        },
        "id": "gqrWzV1wCw7z",
        "outputId": "e23daf3b-94a3-4279-cb25-ae68cb6e4685"
      },
      "execution_count": null,
      "outputs": [
        {
          "output_type": "stream",
          "name": "stdout",
          "text": [
            "월: 뚝배기소불고기 +당면 감자메추리알장조림 김자반볶음\n",
            "화: 계란간장밥 뚝배기새알미역국 미트볼케찹조림 으깬감자샐러드\n",
            "수: 오향장육 모듬쌈+쌈장 쌈무,파채콩나물겉절이 미소장국/흑미밥\n",
            "목: 진짜닭한마리삼계탕 *650개 한정판매* +찹쌀밥 오이송송이 마늘쫑양파짱아찌\n",
            "금: 카레라이스 미니우동 고로케+케찹\n"
          ]
        }
      ]
    },
    {
      "cell_type": "code",
      "source": [
        "# 다인B메뉴 예시\n",
        "yoil = \"월화수목금\"\n",
        "string = \"[다인B]\\n\"\n",
        "for i in range(0,5):\n",
        "  menu = menu_tags[i+9].getText(\" \")\n",
        "  menu = re.sub(\"<[^>]+>\", \"\", menu)\n",
        "  menu = re.sub(\"\\([^)]+\\)\", \"\", menu)\n",
        "  menu = re.sub(\"\\s{2,}\", \" \", menu)\n",
        "  menu = menu.strip()\n",
        "  print(f\"{yoil[i]}: {menu}\")"
      ],
      "metadata": {
        "colab": {
          "base_uri": "https://localhost:8080/"
        },
        "id": "5qryjER7DUyy",
        "outputId": "8fcf5f7d-7c03-49fc-bcf6-f0d5d99f4d3d"
      },
      "execution_count": null,
      "outputs": [
        {
          "output_type": "stream",
          "name": "stdout",
          "text": [
            "월: 치킨스테이크 페넨로제샐러드 양배추S+드레싱 크림스프\n",
            "화: 닭갈비볶음밥 피쉬앤칩스+콘소스 샐러드 유부장국\n",
            "수: 참치김치볶음밥 &계란후라이 설탕페스츄리핫도그+케찹 샐러드 우동장국\n",
            "목: 치즈in돈까스 양배추샐러드+드레싱 옥수수스프\n",
            "금: 힘내라장어덮밥 *400개 한정판매* +초생강 미소장국\n"
          ]
        }
      ]
    }
  ]
}